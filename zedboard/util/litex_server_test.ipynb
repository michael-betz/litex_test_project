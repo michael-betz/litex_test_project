{
 "cells": [
  {
   "cell_type": "markdown",
   "metadata": {},
   "source": [
    "Start this on the zedboard first\n",
    "```bash\n",
    "$ sudo python3 litex_server.py --devmem --devmem-offset 0x40000000\n",
    "```"
   ]
  },
  {
   "cell_type": "code",
   "execution_count": 202,
   "metadata": {},
   "outputs": [
    {
     "name": "stdout",
     "output_type": "stream",
     "text": [
      "Populating the interactive namespace from numpy and matplotlib\n"
     ]
    }
   ],
   "source": [
    "%pylab notebook\n",
    "from struct import pack, unpack\n",
    "import time\n",
    "import sys\n",
    "sys.path.append(\"../..\")\n",
    "from common import *\n",
    "from scope_app import autoBitslip, autoIdelay\n",
    "\n",
    "def hd(dat, word_width=1, offs=0):\n",
    "    ''' print a hex-dump, word_width in bytes '''\n",
    "    for i, d in enumerate(dat):\n",
    "        if i % 8 == 0 and len(dat) > 8:\n",
    "            print('\\n{:04x}: '.format(i * word_width + offs), end='')\n",
    "        print('{:0{ww}x} '.format(d, ww=word_width * 2), end='')\n",
    "    print()"
   ]
  },
  {
   "cell_type": "markdown",
   "metadata": {},
   "source": [
    "# Setup SPI, reset and dump LTC2175 registers"
   ]
  },
  {
   "cell_type": "code",
   "execution_count": 618,
   "metadata": {
    "scrolled": true
   },
   "outputs": [
    {
     "name": "stdout",
     "output_type": "stream",
     "text": [
      "Connected to Port 1234\n",
      "LTC2175 demonstrator 2019-09-13 18:54:36\n",
      "f_sample: 125.000626 MHz\n",
      " 0: ff\n",
      " 1: 00\n",
      " 2: 00\n",
      " 3: 80\n",
      " 4: 01\n",
      "autoBitslip(): aligned after 6\n",
      "autoIdelay(): min = 6, mean = 12, max = 19 idelays\n"
     ]
    }
   ],
   "source": [
    "r = conLitexServer('../build/csr.csv')\n",
    "print(\"f_sample:\", r.regs.lvds_f_sample_value.read() / 1e6, \"MHz\")\n",
    "\n",
    "ltc_spi = LTC_SPI(r)\n",
    "for i in range(5):\n",
    "    print(\"{:2x}: {:02x}\".format(i, ltc_spi.get_ltc_reg(i)))\n",
    "\n",
    "ltc_spi.set_ltc_reg(0, 0x80)   # Software reset\n",
    "# ltc_spi.set_ltc_reg(1, 0x10)   # Sleep mode\n",
    "# ltc_spi.set_ltc_reg(1, 0x00)   # Waky waky\n",
    "\n",
    "ltc_spi.setTp(1)\n",
    "autoBitslip(r)\n",
    "autoIdelay(r)"
   ]
  },
  {
   "cell_type": "markdown",
   "metadata": {},
   "source": [
    "# Play with bitslip / idelay parameters"
   ]
  },
  {
   "cell_type": "markdown",
   "metadata": {},
   "source": [
    "### show status"
   ]
  },
  {
   "cell_type": "code",
   "execution_count": 595,
   "metadata": {},
   "outputs": [
    {
     "name": "stdout",
     "output_type": "stream",
     "text": [
      "ID: 12  F: 11110000\n",
      "0: 0000000000000100\n",
      "1: 0000000000000100\n",
      "2: 0000000000000100\n",
      "3: 0000000000000100\n"
     ]
    }
   ],
   "source": [
    "def print_frm():\n",
    "    idel = r.regs.lvds_idelay_value.read()\n",
    "    v = r.regs.lvds_frame_peek.read()\n",
    "    print(\"ID: {:}  F: {:08b}\".format(idel, v))\n",
    "    for i in range(4):\n",
    "        v = getattr(r.regs, 'lvds_data_peek{:}'.format(i)).read()\n",
    "        print(\"{:}: {:016b}\".format(i, v))\n",
    "ltc_spi.setTp(1)\n",
    "print_frm()"
   ]
  },
  {
   "cell_type": "markdown",
   "metadata": {},
   "source": [
    "### bitslip until we get 0xF0 on frame_peek"
   ]
  },
  {
   "cell_type": "code",
   "execution_count": 113,
   "metadata": {},
   "outputs": [
    {
     "name": "stdout",
     "output_type": "stream",
     "text": [
      "ID: 13  F: 11110000\n",
      "0: 0000000000000100\n",
      "1: 0000000000000100\n",
      "2: 0000000000000100\n",
      "3: 0000000000000100\n"
     ]
    }
   ],
   "source": [
    "r.regs.lvds_bitslip_csr.write(1)\n",
    "print_frm()"
   ]
  },
  {
   "cell_type": "markdown",
   "metadata": {},
   "source": [
    "### IDELAY adjustments to find the eye limits"
   ]
  },
  {
   "cell_type": "code",
   "execution_count": 10,
   "metadata": {},
   "outputs": [
    {
     "name": "stdout",
     "output_type": "stream",
     "text": [
      "ID: 19  F: 11110000\n",
      "0: 0000000000010000\n",
      "1: 0000000000000000\n",
      "2: 0000000000000000\n",
      "3: 0000000000000100\n"
     ]
    }
   ],
   "source": [
    "r.regs.lvds_idelay_inc.write(1)\n",
    "print_frm()"
   ]
  },
  {
   "cell_type": "code",
   "execution_count": 22,
   "metadata": {},
   "outputs": [
    {
     "name": "stdout",
     "output_type": "stream",
     "text": [
      "ID: 7  F: 01111000\n",
      "0: 0000000000000100\n",
      "1: 0000000000000100\n",
      "2: 0000000000000100\n",
      "3: 0000000000000001\n"
     ]
    }
   ],
   "source": [
    "r.regs.lvds_idelay_dec.write(1)\n",
    "print_frm()"
   ]
  },
  {
   "cell_type": "markdown",
   "metadata": {},
   "source": [
    "do a bitslip until we get 0x0F"
   ]
  },
  {
   "cell_type": "markdown",
   "metadata": {},
   "source": [
    "### map data lanes\n",
    "Check that each bit in the test-pattern end up in the right place in the output word"
   ]
  },
  {
   "cell_type": "code",
   "execution_count": 211,
   "metadata": {},
   "outputs": [
    {
     "name": "stdout",
     "output_type": "stream",
     "text": [
      "Channel 0\n",
      "0000000000000001 0000000000000100\n",
      "0000000000000010 0000000000001000\n",
      "0000000000000100 0000000000010000\n",
      "0000000000001000 0000000000100000\n",
      "0000000000010000 0000000001000000\n",
      "0000000000100000 0000000010000000\n",
      "0000000001000000 0000000100000000\n",
      "0000000010000000 0000001000000000\n",
      "0000000100000000 0000010000000000\n",
      "0000001000000000 0000100000000000\n",
      "0000010000000000 0001000000000000\n",
      "0000100000000000 0010000000000000\n",
      "0001000000000000 0100000000000000\n",
      "0010000000000000 1000000000000000\n",
      "Channel 1\n",
      "0000000000000001 0000000000000100\n",
      "0000000000000010 0000000000001000\n",
      "0000000000000100 0000000000010000\n",
      "0000000000001000 0000000000100000\n",
      "0000000000010000 0000000001000000\n",
      "0000000000100000 0000000010000000\n",
      "0000000001000000 0000000100000000\n",
      "0000000010000000 0000001000000000\n",
      "0000000100000000 0000010000000000\n",
      "0000001000000000 0000100000000000\n",
      "0000010000000000 0001000000000000\n",
      "0000100000000000 0010000000000000\n",
      "0001000000000000 0100000000000000\n",
      "0010000000000000 1000000000000000\n",
      "Channel 2\n",
      "0000000000000001 0000000000000100\n",
      "0000000000000010 0000000000001000\n",
      "0000000000000100 0000000000010000\n",
      "0000000000001000 0000000000100000\n",
      "0000000000010000 0000000001000000\n",
      "0000000000100000 0000000010000000\n",
      "0000000001000000 0000000100000000\n",
      "0000000010000000 0000001000000000\n",
      "0000000100000000 0000010000000000\n",
      "0000001000000000 0000100000000000\n",
      "0000010000000000 0001000000000000\n",
      "0000100000000000 0010000000000000\n",
      "0001000000000000 0100000000000000\n",
      "0010000000000000 1000000000000000\n",
      "Channel 3\n",
      "0000000000000001 0000000000000100\n",
      "0000000000000010 0000000000001000\n",
      "0000000000000100 0000000000010000\n",
      "0000000000001000 0000000000100000\n",
      "0000000000010000 0000000001000000\n",
      "0000000000100000 0000000010000000\n",
      "0000000001000000 0000000100000000\n",
      "0000000010000000 0000001000000000\n",
      "0000000100000000 0000010000000000\n",
      "0000001000000000 0000100000000000\n",
      "0000010000000000 0001000000000000\n",
      "0000100000000000 0010000000000000\n",
      "0001000000000000 0100000000000000\n",
      "0010000000000000 1000000000000000\n"
     ]
    }
   ],
   "source": [
    "for ch in range(4):\n",
    "    print(\"Channel {:d}\".format(ch))\n",
    "    for i in range(14):\n",
    "        tpValue = 1 << i\n",
    "        ltc_spi.setTp(tpValue)\n",
    "        rVal = getattr(r.regs, 'lvds_data_peek{:d}'.format(ch)).read()\n",
    "        print(\"{:016b} {:016b}\".format(tpValue, rVal))    "
   ]
  },
  {
   "cell_type": "markdown",
   "metadata": {},
   "source": [
    "# Read ADC sample"
   ]
  },
  {
   "cell_type": "code",
   "execution_count": 212,
   "metadata": {},
   "outputs": [],
   "source": [
    "ltc_spi.set_ltc_reg(3, 0)   # Test pattern off\n",
    "ltc_spi.set_ltc_reg(1, 0)   # Randomizer off"
   ]
  },
  {
   "cell_type": "code",
   "execution_count": 213,
   "metadata": {},
   "outputs": [
    {
     "name": "stdout",
     "output_type": "stream",
     "text": [
      "0x805 0b100000000101\n",
      "5\n"
     ]
    }
   ],
   "source": [
    "# Lowest 2 bits are always zero in 16 bit LVDS mode\n",
    "# 12 bit ADC, so next 2 bits are also zero\n",
    "rVal = r.regs.lvds_data_peek0.read() >> 4\n",
    "print(\"0x{0:03x} 0b{0:012b}\".format(rVal))\n",
    "# Decode offset binary mode\n",
    "print(rVal - (1 << 11))"
   ]
  },
  {
   "cell_type": "markdown",
   "metadata": {},
   "source": [
    "# Read randomized ADC sample"
   ]
  },
  {
   "cell_type": "code",
   "execution_count": null,
   "metadata": {},
   "outputs": [],
   "source": [
    "ltc_spi.set_ltc_reg(1, (1<<6))   # Randomizer on"
   ]
  },
  {
   "cell_type": "code",
   "execution_count": null,
   "metadata": {},
   "outputs": [],
   "source": [
    "rVal = r.regs.lvds_data_peek.read() >> 4\n",
    "print(\"0x{0:03x} 0b{0:012b}\".format(rVal))\n",
    "# XOR LSB with any other bit\n",
    "if rVal & 0x01:\n",
    "    rVal ^= 0xFFE\n",
    "# Decode offset binary mode\n",
    "print(rVal - (1 << 11))"
   ]
  },
  {
   "cell_type": "markdown",
   "metadata": {},
   "source": [
    "# Read acquisition memory"
   ]
  },
  {
   "cell_type": "code",
   "execution_count": 225,
   "metadata": {},
   "outputs": [],
   "source": [
    "ltc_spi.setTp(0x0 >> 2)"
   ]
  },
  {
   "cell_type": "code",
   "execution_count": 229,
   "metadata": {},
   "outputs": [],
   "source": [
    "ltc_spi.setTp(0x1234 >> 2)"
   ]
  },
  {
   "cell_type": "code",
   "execution_count": 218,
   "metadata": {},
   "outputs": [
    {
     "data": {
      "text/plain": [
       "'0x8050'"
      ]
     },
     "execution_count": 218,
     "metadata": {},
     "output_type": "execute_result"
    }
   ],
   "source": [
    "hex(r.regs.lvds_data_peek0.read())"
   ]
  },
  {
   "cell_type": "code",
   "execution_count": 230,
   "metadata": {},
   "outputs": [],
   "source": [
    "r.regs.acq_trig_csr.write(1)"
   ]
  },
  {
   "cell_type": "code",
   "execution_count": 232,
   "metadata": {},
   "outputs": [
    {
     "name": "stdout",
     "output_type": "stream",
     "text": [
      "\n",
      "0000: 1234 1234 1234 1234 1234 1234 1234 1234 \n",
      "0010: 1234 1234 1234 1234 1234 1234 1234 1234 \n",
      "0020: 1234 1234 1234 1234 1234 1234 1234 1234 \n",
      "0030: 1234 1234 1234 1234 1234 1234 1234 1234 \n"
     ]
    }
   ],
   "source": [
    "hd(r.read(r.mems.sample0.base, 32), 2)"
   ]
  },
  {
   "cell_type": "code",
   "execution_count": 541,
   "metadata": {},
   "outputs": [],
   "source": [
    "def big_read(r, offset, N, chunk_size=127):\n",
    "    \"\"\" why doesn't RemoteClient take care of chunking for me ??? \"\"\"\n",
    "    # offset = 0x10000000\n",
    "    # N = 0x0A00\n",
    "    # chunk_size = 255\n",
    "    dats = []\n",
    "    while N > 0:\n",
    "        temp = r.read(offset, min(chunk_size, N))\n",
    "        offset += len(temp) * 4\n",
    "        N -= len(temp)\n",
    "        dats.append(temp)\n",
    "    return hstack(dats)"
   ]
  },
  {
   "cell_type": "code",
   "execution_count": 589,
   "metadata": {},
   "outputs": [
    {
     "data": {
      "text/plain": [
       "7927"
      ]
     },
     "execution_count": 589,
     "metadata": {},
     "output_type": "execute_result"
    }
   ],
   "source": [
    "r.regs.ctrl_reset.write(1)\n",
    "r.regs.ctrl_bus_errors.read()"
   ]
  },
  {
   "cell_type": "code",
   "execution_count": 588,
   "metadata": {},
   "outputs": [
    {
     "data": {
      "text/plain": [
       "'0x1234'"
      ]
     },
     "execution_count": 588,
     "metadata": {},
     "output_type": "execute_result"
    }
   ],
   "source": [
    "hex(r.read(0x10000004))"
   ]
  },
  {
   "cell_type": "code",
   "execution_count": 593,
   "metadata": {},
   "outputs": [
    {
     "data": {
      "text/plain": [
       "'0x800'"
      ]
     },
     "execution_count": 593,
     "metadata": {},
     "output_type": "execute_result"
    }
   ],
   "source": [
    "hex(4096 // 2)"
   ]
  },
  {
   "cell_type": "code",
   "execution_count": 582,
   "metadata": {},
   "outputs": [
    {
     "ename": "KeyboardInterrupt",
     "evalue": "",
     "output_type": "error",
     "traceback": [
      "\u001b[0;31m---------------------------------------------------------------------------\u001b[0m",
      "\u001b[0;31mKeyboardInterrupt\u001b[0m                         Traceback (most recent call last)",
      "\u001b[0;32m<ipython-input-582-210dff55bcf8>\u001b[0m in \u001b[0;36m<module>\u001b[0;34m\u001b[0m\n\u001b[0;32m----> 1\u001b[0;31m \u001b[0mhd\u001b[0m\u001b[0;34m(\u001b[0m\u001b[0mbig_read\u001b[0m\u001b[0;34m(\u001b[0m\u001b[0mr\u001b[0m\u001b[0;34m,\u001b[0m \u001b[0;36m0x10000000\u001b[0m\u001b[0;34m,\u001b[0m \u001b[0;36m0x700\u001b[0m\u001b[0;34m)\u001b[0m\u001b[0;34m)\u001b[0m\u001b[0;34m\u001b[0m\u001b[0m\n\u001b[0m",
      "\u001b[0;32m<ipython-input-541-857cff5d19dc>\u001b[0m in \u001b[0;36mbig_read\u001b[0;34m(r, offset, N, chunk_size)\u001b[0m\n\u001b[1;32m      6\u001b[0m     \u001b[0mdats\u001b[0m \u001b[0;34m=\u001b[0m \u001b[0;34m[\u001b[0m\u001b[0;34m]\u001b[0m\u001b[0;34m\u001b[0m\u001b[0m\n\u001b[1;32m      7\u001b[0m     \u001b[0;32mwhile\u001b[0m \u001b[0mN\u001b[0m \u001b[0;34m>\u001b[0m \u001b[0;36m0\u001b[0m\u001b[0;34m:\u001b[0m\u001b[0;34m\u001b[0m\u001b[0m\n\u001b[0;32m----> 8\u001b[0;31m         \u001b[0mtemp\u001b[0m \u001b[0;34m=\u001b[0m \u001b[0mr\u001b[0m\u001b[0;34m.\u001b[0m\u001b[0mread\u001b[0m\u001b[0;34m(\u001b[0m\u001b[0moffset\u001b[0m\u001b[0;34m,\u001b[0m \u001b[0mmin\u001b[0m\u001b[0;34m(\u001b[0m\u001b[0mchunk_size\u001b[0m\u001b[0;34m,\u001b[0m \u001b[0mN\u001b[0m\u001b[0;34m)\u001b[0m\u001b[0;34m)\u001b[0m\u001b[0;34m\u001b[0m\u001b[0m\n\u001b[0m\u001b[1;32m      9\u001b[0m         \u001b[0moffset\u001b[0m \u001b[0;34m+=\u001b[0m \u001b[0mlen\u001b[0m\u001b[0;34m(\u001b[0m\u001b[0mtemp\u001b[0m\u001b[0;34m)\u001b[0m \u001b[0;34m*\u001b[0m \u001b[0;36m4\u001b[0m\u001b[0;34m\u001b[0m\u001b[0m\n\u001b[1;32m     10\u001b[0m         \u001b[0mN\u001b[0m \u001b[0;34m-=\u001b[0m \u001b[0mlen\u001b[0m\u001b[0;34m(\u001b[0m\u001b[0mtemp\u001b[0m\u001b[0;34m)\u001b[0m\u001b[0;34m\u001b[0m\u001b[0m\n",
      "\u001b[0;32m~/fpga_wsp/litex/litex/tools/litex_client.py\u001b[0m in \u001b[0;36mread\u001b[0;34m(self, addr, length)\u001b[0m\n\u001b[1;32m     47\u001b[0m \u001b[0;34m\u001b[0m\u001b[0m\n\u001b[1;32m     48\u001b[0m         \u001b[0;31m# receive response\u001b[0m\u001b[0;34m\u001b[0m\u001b[0;34m\u001b[0m\u001b[0m\n\u001b[0;32m---> 49\u001b[0;31m         \u001b[0mpacket\u001b[0m \u001b[0;34m=\u001b[0m \u001b[0mEtherbonePacket\u001b[0m\u001b[0;34m(\u001b[0m\u001b[0mself\u001b[0m\u001b[0;34m.\u001b[0m\u001b[0mreceive_packet\u001b[0m\u001b[0;34m(\u001b[0m\u001b[0mself\u001b[0m\u001b[0;34m.\u001b[0m\u001b[0msocket\u001b[0m\u001b[0;34m)\u001b[0m\u001b[0;34m)\u001b[0m\u001b[0;34m\u001b[0m\u001b[0m\n\u001b[0m\u001b[1;32m     50\u001b[0m         \u001b[0mpacket\u001b[0m\u001b[0;34m.\u001b[0m\u001b[0mdecode\u001b[0m\u001b[0;34m(\u001b[0m\u001b[0;34m)\u001b[0m\u001b[0;34m\u001b[0m\u001b[0m\n\u001b[1;32m     51\u001b[0m         \u001b[0mdatas\u001b[0m \u001b[0;34m=\u001b[0m \u001b[0mpacket\u001b[0m\u001b[0;34m.\u001b[0m\u001b[0mrecords\u001b[0m\u001b[0;34m.\u001b[0m\u001b[0mpop\u001b[0m\u001b[0;34m(\u001b[0m\u001b[0;34m)\u001b[0m\u001b[0;34m.\u001b[0m\u001b[0mwrites\u001b[0m\u001b[0;34m.\u001b[0m\u001b[0mget_datas\u001b[0m\u001b[0;34m(\u001b[0m\u001b[0;34m)\u001b[0m\u001b[0;34m\u001b[0m\u001b[0m\n",
      "\u001b[0;32m~/fpga_wsp/litex/litex/tools/remote/etherbone.py\u001b[0m in \u001b[0;36mreceive_packet\u001b[0;34m(self, socket)\u001b[0m\n\u001b[1;32m    363\u001b[0m         \u001b[0mpacket\u001b[0m \u001b[0;34m=\u001b[0m \u001b[0mbytes\u001b[0m\u001b[0;34m(\u001b[0m\u001b[0;34m)\u001b[0m\u001b[0;34m\u001b[0m\u001b[0m\n\u001b[1;32m    364\u001b[0m         \u001b[0;32mwhile\u001b[0m \u001b[0mlen\u001b[0m\u001b[0;34m(\u001b[0m\u001b[0mpacket\u001b[0m\u001b[0;34m)\u001b[0m \u001b[0;34m<\u001b[0m \u001b[0mheader_length\u001b[0m\u001b[0;34m:\u001b[0m\u001b[0;34m\u001b[0m\u001b[0m\n\u001b[0;32m--> 365\u001b[0;31m             \u001b[0mchunk\u001b[0m \u001b[0;34m=\u001b[0m \u001b[0msocket\u001b[0m\u001b[0;34m.\u001b[0m\u001b[0mrecv\u001b[0m\u001b[0;34m(\u001b[0m\u001b[0mheader_length\u001b[0m \u001b[0;34m-\u001b[0m \u001b[0mlen\u001b[0m\u001b[0;34m(\u001b[0m\u001b[0mpacket\u001b[0m\u001b[0;34m)\u001b[0m\u001b[0;34m)\u001b[0m\u001b[0;34m\u001b[0m\u001b[0m\n\u001b[0m\u001b[1;32m    366\u001b[0m             \u001b[0;32mif\u001b[0m \u001b[0mlen\u001b[0m\u001b[0;34m(\u001b[0m\u001b[0mchunk\u001b[0m\u001b[0;34m)\u001b[0m \u001b[0;34m==\u001b[0m \u001b[0;36m0\u001b[0m\u001b[0;34m:\u001b[0m\u001b[0;34m\u001b[0m\u001b[0m\n\u001b[1;32m    367\u001b[0m                 \u001b[0;32mreturn\u001b[0m \u001b[0;36m0\u001b[0m\u001b[0;34m\u001b[0m\u001b[0m\n",
      "\u001b[0;31mKeyboardInterrupt\u001b[0m: "
     ]
    }
   ],
   "source": [
    "hd(big_read(r, 0x10000000, 0x700))"
   ]
  },
  {
   "cell_type": "code",
   "execution_count": 654,
   "metadata": {},
   "outputs": [
    {
     "name": "stdout",
     "output_type": "stream",
     "text": [
      "\n",
      "0380: 380 381 382 383 384 385 386 387 \n",
      "0388: 388 389 38a 38b 38c 38d 38e 38f \n",
      "0390: 390 391 392 393 394 395 396 397 \n",
      "0398: 398 399 39a 39b 39c 39d 39e 39f \n",
      "03a0: 3a0 3a1 3a2 3a3 3a4 3a5 3a6 3a7 \n",
      "03a8: 3a8 3a9 3aa 3ab 3ac 3ad 3ae 3af \n",
      "03b0: 3b0 3b1 3b2 3b3 3b4 3b5 3b6 3b7 \n",
      "03b8: 3b8 3b9 3ba 3bb 3bc 3bd 3be 3bf \n",
      "03c0: 3c0 3c1 3c2 3c3 3c4 3c5 3c6 3c7 \n",
      "03c8: 3c8 3c9 3ca 3cb 3cc 3cd 3ce 3cf \n",
      "03d0: 3d0 3d1 3d2 3d3 3d4 3d5 3d6 3d7 \n",
      "03d8: 3d8 3d9 3da 3db 3dc 3dd 3de 3df \n",
      "03e0: 3e0 3e1 3e2 3e3 3e4 3e5 3e6 3e7 \n",
      "03e8: 3e8 3e9 3ea 3eb 3ec 3ed 3ee 3ef \n",
      "03f0: 3f0 3f1 3f2 3f3 3f4 3f5 3f6 3f7 \n",
      "03f8: 3f8 3f9 3fa 3fb 3fc 3fd 3fe 3ff \n",
      "0400: ffffffff ffffffff ffffffff ffffffff ffffffff ffffffff ffffffff ffffffff \n",
      "0408: ffffffff ffffffff ffffffff ffffffff ffffffff ffffffff ffffffff ffffffff \n",
      "0410: ffffffff ffffffff ffffffff ffffffff ffffffff ffffffff ffffffff ffffffff \n",
      "0418: ffffffff ffffffff ffffffff ffffffff ffffffff ffffffff ffffffff ffffffff \n",
      "0420: ffffffff ffffffff ffffffff ffffffff ffffffff ffffffff ffffffff ffffffff \n",
      "0428: ffffffff ffffffff ffffffff ffffffff ffffffff ffffffff ffffffff ffffffff \n",
      "0430: ffffffff ffffffff ffffffff ffffffff ffffffff ffffffff ffffffff ffffffff \n",
      "0438: ffffffff ffffffff ffffffff ffffffff ffffffff ffffffff ffffffff ffffffff \n",
      "0440: ffffffff ffffffff ffffffff ffffffff ffffffff ffffffff ffffffff ffffffff \n",
      "0448: ffffffff ffffffff ffffffff ffffffff ffffffff ffffffff ffffffff ffffffff \n",
      "0450: ffffffff ffffffff ffffffff ffffffff ffffffff ffffffff ffffffff ffffffff \n",
      "0458: ffffffff ffffffff ffffffff ffffffff ffffffff ffffffff ffffffff ffffffff \n",
      "0460: ffffffff ffffffff ffffffff ffffffff ffffffff ffffffff ffffffff ffffffff \n",
      "0468: ffffffff ffffffff ffffffff ffffffff ffffffff ffffffff ffffffff ffffffff \n"
     ]
    }
   ],
   "source": [
    "s_addr = 0x10000000\n",
    "offs = 0x380\n",
    "hd(r.read(s_addr + offs * 4, 0xF0), 1, s_addr + offs - 0x10000000)"
   ]
  },
  {
   "cell_type": "code",
   "execution_count": 607,
   "metadata": {},
   "outputs": [
    {
     "data": {
      "text/plain": [
       "64"
      ]
     },
     "execution_count": 607,
     "metadata": {},
     "output_type": "execute_result"
    }
   ],
   "source": [
    "r.regs.ctrl_bus_errors.read()"
   ]
  }
 ],
 "metadata": {
  "kernelspec": {
   "display_name": "Python 3",
   "language": "python",
   "name": "python3"
  },
  "language_info": {
   "codemirror_mode": {
    "name": "ipython",
    "version": 3
   },
   "file_extension": ".py",
   "mimetype": "text/x-python",
   "name": "python",
   "nbconvert_exporter": "python",
   "pygments_lexer": "ipython3",
   "version": "3.6.6"
  }
 },
 "nbformat": 4,
 "nbformat_minor": 2
}
