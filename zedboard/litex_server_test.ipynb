{
 "cells": [
  {
   "cell_type": "markdown",
   "metadata": {},
   "source": [
    "Start this first\n",
    "```bash\n",
    "$ litex_server --uart --uart-port /dev/ttyUSB0 --uart-baudrate 1152000\n",
    "```"
   ]
  },
  {
   "cell_type": "code",
   "execution_count": 1,
   "metadata": {},
   "outputs": [
    {
     "name": "stdout",
     "output_type": "stream",
     "text": [
      "Populating the interactive namespace from numpy and matplotlib\n"
     ]
    }
   ],
   "source": [
    "%pylab notebook\n",
    "from struct import pack, unpack\n",
    "import time\n",
    "from scipy.signal import *\n",
    "import sys\n",
    "sys.path.append(\"../\")\n",
    "from common import *"
   ]
  },
  {
   "cell_type": "code",
   "execution_count": 32,
   "metadata": {},
   "outputs": [
    {
     "name": "stdout",
     "output_type": "stream",
     "text": [
      "Connected to Port 1234\n",
      "LTC2175 demonstrator 2019-05-17 16:33:26\n"
     ]
    }
   ],
   "source": [
    "r = conLitexServer()"
   ]
  },
  {
   "cell_type": "markdown",
   "metadata": {},
   "source": [
    "# Setup SPI"
   ]
  },
  {
   "cell_type": "code",
   "execution_count": 33,
   "metadata": {},
   "outputs": [],
   "source": [
    "ltc_spi = LTC_SPI(r)"
   ]
  },
  {
   "cell_type": "markdown",
   "metadata": {},
   "source": [
    "# Dump LTC2175 registers"
   ]
  },
  {
   "cell_type": "code",
   "execution_count": 34,
   "metadata": {},
   "outputs": [
    {
     "name": "stdout",
     "output_type": "stream",
     "text": [
      " 0: 00\n",
      " 1: 00\n",
      " 2: 00\n",
      " 3: 00\n",
      " 4: 00\n"
     ]
    }
   ],
   "source": [
    "for i in range(5):\n",
    "    print(\"{:2x}: {:02x}\".format(i, ltc_spi.get_ltc_reg(i)))"
   ]
  },
  {
   "cell_type": "code",
   "execution_count": 8,
   "metadata": {},
   "outputs": [],
   "source": [
    "ltc_spi.set_ltc_reg(0, 0x80)   # Software reset"
   ]
  },
  {
   "cell_type": "code",
   "execution_count": 7,
   "metadata": {},
   "outputs": [],
   "source": [
    "ltc_spi.set_ltc_reg(1, 0x10)   # Sleep mode"
   ]
  },
  {
   "cell_type": "code",
   "execution_count": null,
   "metadata": {},
   "outputs": [],
   "source": [
    "ltc_spi.set_ltc_reg(1, 0x00)   # Waky waky"
   ]
  },
  {
   "cell_type": "markdown",
   "metadata": {},
   "source": [
    "# Read and align clock data"
   ]
  },
  {
   "cell_type": "code",
   "execution_count": 47,
   "metadata": {},
   "outputs": [
    {
     "name": "stdout",
     "output_type": "stream",
     "text": [
      "9\n",
      "0x0F 0b00001111\n"
     ]
    }
   ],
   "source": [
    "def print_frm():\n",
    "    rVal = r.regs.lvds_frame_peek.read()\n",
    "    print(r.regs.lvds_idelay_value.read())\n",
    "    print(\"0x{0:02X} 0b{0:08b}\".format(rVal))\n",
    "print_frm()"
   ]
  },
  {
   "cell_type": "markdown",
   "metadata": {},
   "source": [
    "### bitslip until we get 0xF0 on frame_peek"
   ]
  },
  {
   "cell_type": "code",
   "execution_count": 52,
   "metadata": {},
   "outputs": [
    {
     "name": "stdout",
     "output_type": "stream",
     "text": [
      "9\n",
      "0xF0 0b11110000\n"
     ]
    }
   ],
   "source": [
    "r.regs.lvds_bitslip_csr.write(1)\n",
    "print_frm()"
   ]
  },
  {
   "cell_type": "markdown",
   "metadata": {},
   "source": [
    "### IDELAY adjustments"
   ]
  },
  {
   "cell_type": "code",
   "execution_count": 77,
   "metadata": {},
   "outputs": [
    {
     "name": "stdout",
     "output_type": "stream",
     "text": [
      "15\n",
      "0xF0 0b11110000\n"
     ]
    }
   ],
   "source": [
    "r.regs.lvds_idelay_inc.write(1)\n",
    "print_frm()"
   ]
  },
  {
   "cell_type": "code",
   "execution_count": 69,
   "metadata": {},
   "outputs": [
    {
     "name": "stdout",
     "output_type": "stream",
     "text": [
      "7\n",
      "0x78 0b01111000\n"
     ]
    }
   ],
   "source": [
    "r.regs.lvds_idelay_dec.write(1)\n",
    "print_frm()"
   ]
  },
  {
   "cell_type": "markdown",
   "metadata": {},
   "source": [
    "do a bitslip until we get 0x0F"
   ]
  },
  {
   "cell_type": "markdown",
   "metadata": {},
   "source": [
    "# Map data lanes\n",
    "Check that each bit in the test-pattern end up in the right place in the output word"
   ]
  },
  {
   "cell_type": "code",
   "execution_count": 78,
   "metadata": {},
   "outputs": [
    {
     "name": "stdout",
     "output_type": "stream",
     "text": [
      "Channel 0\n",
      "0000000000000001 0000000000000100\n",
      "0000000000000010 0000000000001000\n",
      "0000000000000100 0000000000010000\n",
      "0000000000001000 0000000000100000\n",
      "0000000000010000 0000000001000000\n",
      "0000000000100000 0000000010000000\n",
      "0000000001000000 0000000100000000\n",
      "0000000010000000 0000001000000000\n",
      "0000000100000000 0000010000000000\n",
      "0000001000000000 0000100000000000\n",
      "0000010000000000 0001000000000000\n",
      "0000100000000000 0010000000000000\n",
      "0001000000000000 0100000000000000\n",
      "0010000000000000 1000000000000000\n",
      "Channel 1\n",
      "0000000000000001 0000000000000100\n",
      "0000000000000010 0000000000001000\n",
      "0000000000000100 0000000000010000\n",
      "0000000000001000 0000000000100000\n",
      "0000000000010000 0000000001000000\n",
      "0000000000100000 0000000010000000\n",
      "0000000001000000 0000000100000000\n",
      "0000000010000000 0000001000000000\n",
      "0000000100000000 0000010000000000\n",
      "0000001000000000 0000100000000000\n",
      "0000010000000000 0001000000000000\n",
      "0000100000000000 0010000000000000\n",
      "0001000000000000 0100000000000000\n",
      "0010000000000000 1000000000000000\n",
      "Channel 2\n",
      "0000000000000001 0000000000000100\n",
      "0000000000000010 0000000000001000\n",
      "0000000000000100 0000000000010000\n",
      "0000000000001000 0000000000100000\n",
      "0000000000010000 0000000001000000\n",
      "0000000000100000 0000000010000000\n",
      "0000000001000000 0000000100000000\n",
      "0000000010000000 0000001000000000\n",
      "0000000100000000 0000010000000000\n",
      "0000001000000000 0000100000000000\n",
      "0000010000000000 0001000000000000\n",
      "0000100000000000 0010000000000000\n",
      "0001000000000000 0100000000000000\n",
      "0010000000000000 1000000000000000\n",
      "Channel 3\n",
      "0000000000000001 0000000000000100\n",
      "0000000000000010 0000000000001000\n",
      "0000000000000100 0000000000010000\n",
      "0000000000001000 0000000000100000\n",
      "0000000000010000 0000000001000000\n",
      "0000000000100000 0000000010000000\n",
      "0000000001000000 0000000100000000\n",
      "0000000010000000 0000001000000000\n",
      "0000000100000000 0000010000000000\n",
      "0000001000000000 0000100000000000\n",
      "0000010000000000 0001000000000000\n",
      "0000100000000000 0010000000000000\n",
      "0001000000000000 0100000000000000\n",
      "0010000000000000 1000000000000000\n"
     ]
    }
   ],
   "source": [
    "for ch in range(4):\n",
    "    print(\"Channel {:d}\".format(ch))\n",
    "    for i in range(14):\n",
    "        tpValue = 1 << i\n",
    "        ltc_spi.setTp(tpValue)\n",
    "        rVal = getattr(r.regs, 'lvds_data_peek{:d}'.format(ch)).read()\n",
    "        print(\"{:016b} {:016b}\".format(tpValue, rVal))    "
   ]
  },
  {
   "cell_type": "markdown",
   "metadata": {},
   "source": [
    "# Read ADC sample"
   ]
  },
  {
   "cell_type": "code",
   "execution_count": 17,
   "metadata": {},
   "outputs": [],
   "source": [
    "ltc_spi.set_ltc_reg(3, 0)   # Test pattern off\n",
    "ltc_spi.set_ltc_reg(1, 0)   # Randomizer off"
   ]
  },
  {
   "cell_type": "code",
   "execution_count": 28,
   "metadata": {},
   "outputs": [
    {
     "name": "stdout",
     "output_type": "stream",
     "text": [
      "0x7fc 0b011111111100\n",
      "-4\n"
     ]
    }
   ],
   "source": [
    "# Lowest 2 bits are always zero in 16 bit LVDS mode\n",
    "# 12 bit ADC, so next 2 bits are also zero\n",
    "rVal = r.regs.lvds_data_peek3.read() >> 4\n",
    "print(\"0x{0:03x} 0b{0:012b}\".format(rVal))\n",
    "# Decode offset binary mode\n",
    "print(rVal - (1 << 11))"
   ]
  },
  {
   "cell_type": "markdown",
   "metadata": {},
   "source": [
    "# Read randomized ADC sample"
   ]
  },
  {
   "cell_type": "code",
   "execution_count": null,
   "metadata": {},
   "outputs": [],
   "source": [
    "ltc_spi.set_ltc_reg(1, (1<<6))   # Randomizer on"
   ]
  },
  {
   "cell_type": "code",
   "execution_count": null,
   "metadata": {},
   "outputs": [],
   "source": [
    "rVal = r.regs.lvds_data_peek.read() >> 4\n",
    "print(\"0x{0:03x} 0b{0:012b}\".format(rVal))\n",
    "# XOR LSB with any other bit\n",
    "if rVal & 0x01:\n",
    "    rVal ^= 0xFFE\n",
    "# Decode offset binary mode\n",
    "print(rVal - (1 << 11))"
   ]
  },
  {
   "cell_type": "code",
   "execution_count": null,
   "metadata": {},
   "outputs": [],
   "source": [
    "r.close()"
   ]
  }
 ],
 "metadata": {
  "kernelspec": {
   "display_name": "Python 3",
   "language": "python",
   "name": "python3"
  },
  "language_info": {
   "codemirror_mode": {
    "name": "ipython",
    "version": 3
   },
   "file_extension": ".py",
   "mimetype": "text/x-python",
   "name": "python",
   "nbconvert_exporter": "python",
   "pygments_lexer": "ipython3",
   "version": "3.6.6"
  }
 },
 "nbformat": 4,
 "nbformat_minor": 2
}
