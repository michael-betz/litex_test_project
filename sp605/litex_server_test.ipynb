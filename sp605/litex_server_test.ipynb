{
 "cells": [
  {
   "cell_type": "markdown",
   "metadata": {},
   "source": [
    "Start this first\n",
    "```bash\n",
    "$ litex_server uart /dev/ttyUSB0 115200\n",
    "```"
   ]
  },
  {
   "cell_type": "code",
   "execution_count": 1,
   "metadata": {},
   "outputs": [],
   "source": [
    "from litex.soc.tools.remote import RemoteClient\n",
    "from struct import pack, unpack\n",
    "import time"
   ]
  },
  {
   "cell_type": "code",
   "execution_count": 2,
   "metadata": {},
   "outputs": [
    {
     "name": "stdout",
     "output_type": "stream",
     "text": [
      "Connected to Port 1234\n"
     ]
    },
    {
     "data": {
      "text/plain": [
       "'Wir trampeln durchs Getreide ... 2019-04-02 21:31:21'"
      ]
     },
     "execution_count": 2,
     "metadata": {},
     "output_type": "execute_result"
    }
   ],
   "source": [
    "for i in range(32):\n",
    "    try:\n",
    "        r = RemoteClient(csr_csv=\"build/csr.csv\", debug=False, port=1234 + i)\n",
    "        r.open()\n",
    "        print(\"Connected to Port\", 1234 + i)\n",
    "        break\n",
    "    except ConnectionRefusedError:\n",
    "        pass\n",
    "\n",
    "def getId():\n",
    "    s = \"\"\n",
    "    for i in range(64):\n",
    "        temp = r.read(r.bases.identifier_mem + i * 4)\n",
    "        if temp == 0:\n",
    "            break\n",
    "        s += chr(temp & 0xFF)\n",
    "    return s\n",
    "getId()"
   ]
  },
  {
   "cell_type": "markdown",
   "metadata": {},
   "source": [
    "# SPI config memo\n",
    "\n",
    "\n",
    "    config signal:\n",
    "        1 offline: all pins high-z (reset=1)\n",
    "        1 active: cs/transfer active (read-only)\n",
    "        1 pending: transfer pending in intermediate buffer (read-only)\n",
    "        1 cs_polarity: active level of chip select (reset=0)\n",
    "        1 clk_polarity: idle level of clk (reset=0)\n",
    "        1 clk_phase: first edge after cs assertion to sample data on (reset=0)\n",
    "            (clk_polarity, clk_phase) == (CPOL, CPHA) in Freescale language.\n",
    "            (0, 0): idle low, output on falling, input on rising\n",
    "            (0, 1): idle low, output on rising, input on falling\n",
    "            (1, 0): idle high, output on rising, input on falling\n",
    "            (1, 1): idle high, output on falling, input on rising\n",
    "            There is never a clk edge during a cs edge.\n",
    "        1 lsb_first: LSB is the first bit on the wire (reset=0)\n",
    "        1 half_duplex: 3-wire SPI, in/out on mosi (reset=0)\n",
    "        8 undefined\n",
    "        8 div_write: counter load value to divide this module's clock\n",
    "            to generate the SPI write clk (reset=0)\n",
    "            f_clk/f_spi_write == div_write + 2\n",
    "        8 div_read: ditto for the read clock\n",
    "\n",
    "    xfer_config signal:\n",
    "        16 cs: active high bit mask of chip selects to assert (reset=0)\n",
    "        6 write_len: 0-M bits (reset=0)\n",
    "        2 undefined\n",
    "        6 read_len: 0-M bits (reset=0)\n",
    "        2 undefined"
   ]
  },
  {
   "cell_type": "markdown",
   "metadata": {},
   "source": [
    "# Setup SPI"
   ]
  },
  {
   "cell_type": "code",
   "execution_count": 3,
   "metadata": {},
   "outputs": [],
   "source": [
    "r.regs.spi_config.write(0xFFFF0000)\n",
    "# 16 bit write transfer (includes read as is 4 wire)\n",
    "r.regs.spi_xfer.write(0x0010FFFF)\n",
    "\n",
    "def set_ltc_reg(adr, val):\n",
    "    word = (0 << 15) | ((adr & 0x7F) << 8) | (val & 0xFF)\n",
    "    word <<= 16\n",
    "    r.regs.spi_mosi_data.write(word)\n",
    "    r.regs.spi_start.write(1)\n",
    "\n",
    "def get_ltc_reg(adr):\n",
    "    word = (1 << 15) | ((adr & 0x7F) << 8)\n",
    "    word <<= 16\n",
    "    r.regs.spi_mosi_data.write(word)\n",
    "    r.regs.spi_start.write(1)\n",
    "    return r.regs.spi_miso_data.read() & 0xFF\n",
    "\n",
    "def setTp(tpValue):\n",
    "    set_ltc_reg(3, (1<<7) | tpValue >> 8)   # Test pattern on + value MSB\n",
    "    set_ltc_reg(4, tpValue & 0xFF)          # Test pattern value LSB\n",
    "    \n",
    "def myzip(*vals):\n",
    "    return [i for t in zip(*vals) for i in t]    "
   ]
  },
  {
   "cell_type": "markdown",
   "metadata": {},
   "source": [
    "# Dump LTC2175 registers"
   ]
  },
  {
   "cell_type": "code",
   "execution_count": 4,
   "metadata": {},
   "outputs": [
    {
     "name": "stdout",
     "output_type": "stream",
     "text": [
      " 0: 00\n",
      " 1: 00\n",
      " 2: 00\n",
      " 3: 00\n",
      " 4: 00\n"
     ]
    }
   ],
   "source": [
    "for i in range(5):\n",
    "    print(\"{:2x}: {:02x}\".format(i, get_ltc_reg(i)))"
   ]
  },
  {
   "cell_type": "code",
   "execution_count": 680,
   "metadata": {},
   "outputs": [],
   "source": [
    "set_ltc_reg(0, 0x80)   # Software reset"
   ]
  },
  {
   "cell_type": "code",
   "execution_count": 15,
   "metadata": {},
   "outputs": [],
   "source": [
    "set_ltc_reg(1, 0x10)   # Sleep mode"
   ]
  },
  {
   "cell_type": "code",
   "execution_count": 16,
   "metadata": {},
   "outputs": [],
   "source": [
    "set_ltc_reg(1, 0x00)   # Waky waky"
   ]
  },
  {
   "cell_type": "markdown",
   "metadata": {},
   "source": [
    "# Measure sample clock frequency [Hz]"
   ]
  },
  {
   "cell_type": "code",
   "execution_count": 5,
   "metadata": {},
   "outputs": [
    {
     "data": {
      "text/plain": [
       "114285714"
      ]
     },
     "execution_count": 5,
     "metadata": {},
     "output_type": "execute_result"
    }
   ],
   "source": [
    "r.regs.lvds_f_sample_value.read()"
   ]
  },
  {
   "cell_type": "markdown",
   "metadata": {},
   "source": [
    "# Read and align clock data"
   ]
  },
  {
   "cell_type": "code",
   "execution_count": 7,
   "metadata": {},
   "outputs": [
    {
     "name": "stdout",
     "output_type": "stream",
     "text": [
      "0x0F 0b00001111\n"
     ]
    }
   ],
   "source": [
    "rVal = r.regs.lvds_clk_peek.read()\n",
    "print(\"0x{0:02X} 0b{0:08b}\".format(rVal))"
   ]
  },
  {
   "cell_type": "markdown",
   "metadata": {},
   "source": [
    "do a bitslip until we get 0x0F"
   ]
  },
  {
   "cell_type": "code",
   "execution_count": 222,
   "metadata": {},
   "outputs": [],
   "source": [
    "r.regs.lvds_bitslip_csr.write(1)"
   ]
  },
  {
   "cell_type": "markdown",
   "metadata": {},
   "source": [
    "# Map data lanes\n",
    "Check that each bit in the test-pattern end up in the right place in the output word"
   ]
  },
  {
   "cell_type": "code",
   "execution_count": 284,
   "metadata": {},
   "outputs": [
    {
     "name": "stdout",
     "output_type": "stream",
     "text": [
      "0000000000000001 0000000000000100\n",
      "0000000000000010 0000000000001000\n",
      "0000000000000100 0000000000010000\n",
      "0000000000001000 0000000000100000\n",
      "0000000000010000 0000000001000000\n",
      "0000000000100000 0000000010000000\n",
      "0000000001000000 0000000100000000\n",
      "0000000010000000 0000001000000000\n",
      "0000000100000000 0000010000000000\n",
      "0000001000000000 0000100000000000\n",
      "0000010000000000 0001000000000000\n",
      "0000100000000000 0010000000000000\n",
      "0001000000000000 0100000000000000\n",
      "0010000000000000 1000000000000000\n"
     ]
    }
   ],
   "source": [
    "#print(\"    Test pattern   LVDS_B   LVDS_A\")\n",
    "for i in range(14):\n",
    "    tpValue = 1<<i\n",
    "    setTp(tpValue)\n",
    "    rVal = r.regs.lvds_data_peek.read()\n",
    "    print(\"{:016b} {:016b}\".format(tpValue, rVal))\n",
    "    # rVal_a = rVal & 0xFF\n",
    "    # rVal_b = (rVal >> 8) & 0xFF\n",
    "    # print(\"{:016b} {:08b} {:08b}\".format(tpValue, rVal_b, rVal_a))"
   ]
  },
  {
   "cell_type": "markdown",
   "metadata": {},
   "source": [
    "# Read ADC sample"
   ]
  },
  {
   "cell_type": "code",
   "execution_count": 1061,
   "metadata": {},
   "outputs": [],
   "source": [
    "set_ltc_reg(3, 0)   # Test pattern off\n",
    "set_ltc_reg(1, 0)   # Randomizer off"
   ]
  },
  {
   "cell_type": "code",
   "execution_count": 1068,
   "metadata": {},
   "outputs": [
    {
     "name": "stdout",
     "output_type": "stream",
     "text": [
      "0x7fe 0b011111111110\n",
      "-2\n"
     ]
    }
   ],
   "source": [
    "# Lowest 2 bits are always zero in 16 bit LVDS mode\n",
    "# 12 bit ADC, so next 2 bits are also zero\n",
    "rVal = r.regs.lvds_data_peek.read() >> 4\n",
    "print(\"0x{0:03x} 0b{0:012b}\".format(rVal))\n",
    "# Decode offset binary mode\n",
    "print(rVal - (1 << 11))"
   ]
  },
  {
   "cell_type": "markdown",
   "metadata": {},
   "source": [
    "# Read randomized ADC sample"
   ]
  },
  {
   "cell_type": "code",
   "execution_count": 967,
   "metadata": {},
   "outputs": [],
   "source": [
    "set_ltc_reg(1, (1<<6))   # Randomizer on"
   ]
  },
  {
   "cell_type": "code",
   "execution_count": 1060,
   "metadata": {},
   "outputs": [
    {
     "name": "stdout",
     "output_type": "stream",
     "text": [
      "0x803 0b100000000011\n",
      "-3\n"
     ]
    }
   ],
   "source": [
    "rVal = r.regs.lvds_data_peek.read() >> 4\n",
    "print(\"0x{0:03x} 0b{0:012b}\".format(rVal))\n",
    "# XOR LSB with any other bit\n",
    "if rVal & 0x01:\n",
    "    rVal ^= 0xFFE\n",
    "# Decode offset binary mode\n",
    "print(rVal - (1 << 11))"
   ]
  },
  {
   "cell_type": "code",
   "execution_count": 42,
   "metadata": {},
   "outputs": [],
   "source": [
    "r.close()"
   ]
  }
 ],
 "metadata": {
  "kernelspec": {
   "display_name": "Python 3",
   "language": "python",
   "name": "python3"
  },
  "language_info": {
   "codemirror_mode": {
    "name": "ipython",
    "version": 3
   },
   "file_extension": ".py",
   "mimetype": "text/x-python",
   "name": "python",
   "nbconvert_exporter": "python",
   "pygments_lexer": "ipython3",
   "version": "3.6.6"
  }
 },
 "nbformat": 4,
 "nbformat_minor": 2
}
