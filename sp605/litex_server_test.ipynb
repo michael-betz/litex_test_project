{
 "cells": [
  {
   "cell_type": "markdown",
   "metadata": {},
   "source": [
    "Start this first\n",
    "```bash\n",
    "$ litex_server uart /dev/ttyUSB0 115200\n",
    "```"
   ]
  },
  {
   "cell_type": "code",
   "execution_count": 2001,
   "metadata": {},
   "outputs": [
    {
     "name": "stdout",
     "output_type": "stream",
     "text": [
      "Populating the interactive namespace from numpy and matplotlib\n"
     ]
    }
   ],
   "source": [
    "%pylab notebook\n",
    "from litex.soc.tools.remote import RemoteClient\n",
    "from struct import pack, unpack\n",
    "import time"
   ]
  },
  {
   "cell_type": "code",
   "execution_count": 1776,
   "metadata": {},
   "outputs": [
    {
     "name": "stdout",
     "output_type": "stream",
     "text": [
      "Connected to Port 1235\n"
     ]
    },
    {
     "data": {
      "text/plain": [
       "'Wir trampeln durchs Getreide ... 2019-04-03 16:04:24'"
      ]
     },
     "execution_count": 1776,
     "metadata": {},
     "output_type": "execute_result"
    }
   ],
   "source": [
    "for i in range(32):\n",
    "    try:\n",
    "        r = RemoteClient(csr_csv=\"build/csr.csv\", debug=False, port=1234 + i)\n",
    "        r.open()\n",
    "        print(\"Connected to Port\", 1234 + i)\n",
    "        break\n",
    "    except ConnectionRefusedError:\n",
    "        pass\n",
    "\n",
    "def getId():\n",
    "    s = \"\"\n",
    "    for i in range(64):\n",
    "        temp = r.read(r.bases.identifier_mem + i * 4)\n",
    "        if temp == 0:\n",
    "            break\n",
    "        s += chr(temp & 0xFF)\n",
    "    return s\n",
    "getId()"
   ]
  },
  {
   "cell_type": "markdown",
   "metadata": {},
   "source": [
    "# SPI config memo\n",
    "\n",
    "\n",
    "    config signal:\n",
    "        1 offline: all pins high-z (reset=1)\n",
    "        1 active: cs/transfer active (read-only)\n",
    "        1 pending: transfer pending in intermediate buffer (read-only)\n",
    "        1 cs_polarity: active level of chip select (reset=0)\n",
    "        1 clk_polarity: idle level of clk (reset=0)\n",
    "        1 clk_phase: first edge after cs assertion to sample data on (reset=0)\n",
    "            (clk_polarity, clk_phase) == (CPOL, CPHA) in Freescale language.\n",
    "            (0, 0): idle low, output on falling, input on rising\n",
    "            (0, 1): idle low, output on rising, input on falling\n",
    "            (1, 0): idle high, output on rising, input on falling\n",
    "            (1, 1): idle high, output on falling, input on rising\n",
    "            There is never a clk edge during a cs edge.\n",
    "        1 lsb_first: LSB is the first bit on the wire (reset=0)\n",
    "        1 half_duplex: 3-wire SPI, in/out on mosi (reset=0)\n",
    "        8 undefined\n",
    "        8 div_write: counter load value to divide this module's clock\n",
    "            to generate the SPI write clk (reset=0)\n",
    "            f_clk/f_spi_write == div_write + 2\n",
    "        8 div_read: ditto for the read clock\n",
    "\n",
    "    xfer_config signal:\n",
    "        16 cs: active high bit mask of chip selects to assert (reset=0)\n",
    "        6 write_len: 0-M bits (reset=0)\n",
    "        2 undefined\n",
    "        6 read_len: 0-M bits (reset=0)\n",
    "        2 undefined"
   ]
  },
  {
   "cell_type": "markdown",
   "metadata": {},
   "source": [
    "# Setup SPI"
   ]
  },
  {
   "cell_type": "code",
   "execution_count": 1777,
   "metadata": {},
   "outputs": [],
   "source": [
    "r.regs.spi_config.write(0xFFFF0000)\n",
    "# 16 bit write transfer (includes read as is 4 wire)\n",
    "r.regs.spi_xfer.write(0x0010FFFF)\n",
    "\n",
    "def set_ltc_reg(adr, val):\n",
    "    word = (0 << 15) | ((adr & 0x7F) << 8) | (val & 0xFF)\n",
    "    word <<= 16\n",
    "    r.regs.spi_mosi_data.write(word)\n",
    "    r.regs.spi_start.write(1)\n",
    "\n",
    "def get_ltc_reg(adr):\n",
    "    word = (1 << 15) | ((adr & 0x7F) << 8)\n",
    "    word <<= 16\n",
    "    r.regs.spi_mosi_data.write(word)\n",
    "    r.regs.spi_start.write(1)\n",
    "    return r.regs.spi_miso_data.read() & 0xFF\n",
    "\n",
    "def setTp(tpValue):\n",
    "    set_ltc_reg(3, (1<<7) | tpValue >> 8)   # Test pattern on + value MSB\n",
    "    set_ltc_reg(4, tpValue & 0xFF)          # Test pattern value LSB\n",
    "    \n",
    "def myzip(*vals):\n",
    "    \"\"\"\n",
    "    interleave elements in a flattened list\n",
    "\n",
    "    >>> myzip([1,2,3], ['a', 'b', 'c'])\n",
    "    [1, 'a', 2, 'b', 3, 'c']\n",
    "    \"\"\"\n",
    "    return [i for t in zip(*vals) for i in t]\n",
    "\n",
    "def getInt32(I):\n",
    "    \"\"\" \n",
    "    recover sign from twos complement integer\n",
    "    >>> getInt32(0xFFFFFFFF)\n",
    "    -1\n",
    "    \"\"\"\n",
    "    return unpack(\"i\", pack(\"I\", I))[0]"
   ]
  },
  {
   "cell_type": "markdown",
   "metadata": {},
   "source": [
    "# Dump LTC2175 registers"
   ]
  },
  {
   "cell_type": "code",
   "execution_count": 1778,
   "metadata": {},
   "outputs": [
    {
     "name": "stdout",
     "output_type": "stream",
     "text": [
      " 0: 00\n",
      " 1: 40\n",
      " 2: 00\n",
      " 3: 00\n",
      " 4: 00\n"
     ]
    }
   ],
   "source": [
    "for i in range(5):\n",
    "    print(\"{:2x}: {:02x}\".format(i, get_ltc_reg(i)))"
   ]
  },
  {
   "cell_type": "code",
   "execution_count": 1603,
   "metadata": {},
   "outputs": [],
   "source": [
    "set_ltc_reg(0, 0x80)   # Software reset"
   ]
  },
  {
   "cell_type": "code",
   "execution_count": 15,
   "metadata": {},
   "outputs": [],
   "source": [
    "set_ltc_reg(1, 0x10)   # Sleep mode"
   ]
  },
  {
   "cell_type": "code",
   "execution_count": 16,
   "metadata": {},
   "outputs": [],
   "source": [
    "set_ltc_reg(1, 0x00)   # Waky waky"
   ]
  },
  {
   "cell_type": "markdown",
   "metadata": {},
   "source": [
    "# Measure sample clock frequency [Hz]"
   ]
  },
  {
   "cell_type": "code",
   "execution_count": 1910,
   "metadata": {},
   "outputs": [
    {
     "data": {
      "text/plain": [
       "114285714"
      ]
     },
     "execution_count": 1910,
     "metadata": {},
     "output_type": "execute_result"
    }
   ],
   "source": [
    "r.regs.lvds_f_sample_value.read()"
   ]
  },
  {
   "cell_type": "markdown",
   "metadata": {},
   "source": [
    "# Read and align clock data"
   ]
  },
  {
   "cell_type": "code",
   "execution_count": 1911,
   "metadata": {},
   "outputs": [
    {
     "name": "stdout",
     "output_type": "stream",
     "text": [
      "0x0F 0b00001111\n"
     ]
    }
   ],
   "source": [
    "rVal = r.regs.lvds_clk_peek.read()\n",
    "print(\"0x{0:02X} 0b{0:08b}\".format(rVal))"
   ]
  },
  {
   "cell_type": "markdown",
   "metadata": {},
   "source": [
    "do a bitslip until we get 0x0F"
   ]
  },
  {
   "cell_type": "code",
   "execution_count": 1783,
   "metadata": {},
   "outputs": [],
   "source": [
    "r.regs.lvds_bitslip_csr.write(1)"
   ]
  },
  {
   "cell_type": "markdown",
   "metadata": {},
   "source": [
    "# Map data lanes\n",
    "Check that each bit in the test-pattern end up in the right place in the output word"
   ]
  },
  {
   "cell_type": "code",
   "execution_count": 1909,
   "metadata": {},
   "outputs": [
    {
     "name": "stdout",
     "output_type": "stream",
     "text": [
      "0000000000000001 0000000000000100\n",
      "0000000000000010 0000000000001000\n",
      "0000000000000100 0000000000010000\n",
      "0000000000001000 0000000000100000\n",
      "0000000000010000 0000000001000000\n",
      "0000000000100000 0000000010000000\n",
      "0000000001000000 0000000100000000\n",
      "0000000010000000 0000001000000000\n",
      "0000000100000000 0000010000000000\n",
      "0000001000000000 0000100000000000\n",
      "0000010000000000 0001000000000000\n",
      "0000100000000000 0010000000000000\n",
      "0001000000000000 0100000000000000\n",
      "0010000000000000 1000000000000000\n"
     ]
    }
   ],
   "source": [
    "for i in range(14):\n",
    "    tpValue = 1 << i\n",
    "    setTp(tpValue)\n",
    "    rVal = r.regs.lvds_data_peek.read()\n",
    "    print(\"{:016b} {:016b}\".format(tpValue, rVal))"
   ]
  },
  {
   "cell_type": "markdown",
   "metadata": {},
   "source": [
    "# Read ADC sample"
   ]
  },
  {
   "cell_type": "code",
   "execution_count": 1940,
   "metadata": {},
   "outputs": [],
   "source": [
    "set_ltc_reg(3, 0)   # Test pattern off\n",
    "set_ltc_reg(1, 0)   # Randomizer off"
   ]
  },
  {
   "cell_type": "code",
   "execution_count": 1635,
   "metadata": {},
   "outputs": [
    {
     "name": "stdout",
     "output_type": "stream",
     "text": [
      "0x6e7 0b011011100111\n",
      "-281\n"
     ]
    }
   ],
   "source": [
    "# Lowest 2 bits are always zero in 16 bit LVDS mode\n",
    "# 12 bit ADC, so next 2 bits are also zero\n",
    "rVal = r.regs.lvds_data_peek.read() >> 4\n",
    "print(\"0x{0:03x} 0b{0:012b}\".format(rVal))\n",
    "# Decode offset binary mode\n",
    "print(rVal - (1 << 11))"
   ]
  },
  {
   "cell_type": "markdown",
   "metadata": {},
   "source": [
    "# Read randomized ADC sample"
   ]
  },
  {
   "cell_type": "code",
   "execution_count": 1795,
   "metadata": {},
   "outputs": [],
   "source": [
    "set_ltc_reg(1, (1<<6))   # Randomizer on"
   ]
  },
  {
   "cell_type": "code",
   "execution_count": 1799,
   "metadata": {},
   "outputs": [
    {
     "name": "stdout",
     "output_type": "stream",
     "text": [
      "0x8f5 0b100011110101\n",
      "-245\n"
     ]
    }
   ],
   "source": [
    "rVal = r.regs.lvds_data_peek.read() >> 4\n",
    "print(\"0x{0:03x} 0b{0:012b}\".format(rVal))\n",
    "# XOR LSB with any other bit\n",
    "if rVal & 0x01:\n",
    "    rVal ^= 0xFFE\n",
    "# Decode offset binary mode\n",
    "print(rVal - (1 << 11))"
   ]
  },
  {
   "cell_type": "markdown",
   "metadata": {},
   "source": [
    "# Read phase detectors\n",
    "Make sure to disable the test-pattern to get transitions on all LVDS lanes"
   ]
  },
  {
   "cell_type": "code",
   "execution_count": 2106,
   "metadata": {},
   "outputs": [
    {
     "data": {
      "text/plain": [
       "33554432"
      ]
     },
     "execution_count": 2106,
     "metadata": {},
     "output_type": "execute_result"
    }
   ],
   "source": [
    "integr = 2**25\n",
    "r.regs.lvds_pd_period_csr.write(integr)\n",
    "r.regs.lvds_pd_period_csr.read()"
   ]
  },
  {
   "cell_type": "code",
   "execution_count": 2107,
   "metadata": {},
   "outputs": [],
   "source": [
    "def printPd():\n",
    "    val0 = getInt32(r.regs.lvds_pd_phase_0.read()) / integr\n",
    "    val1 = getInt32(r.regs.lvds_pd_phase_1.read()) / integr\n",
    "    print(\"\\r{:0.3f}  {:0.3f}          \".format(val0, val1), end=\"\")\n",
    "    return val0, val1"
   ]
  },
  {
   "cell_type": "code",
   "execution_count": 2113,
   "metadata": {},
   "outputs": [
    {
     "name": "stdout",
     "output_type": "stream",
     "text": [
      "\r",
      "-0.680  -0.050          "
     ]
    }
   ],
   "source": [
    "val0, val1 = printPd()"
   ]
  },
  {
   "cell_type": "markdown",
   "metadata": {},
   "source": [
    "# Control Idelays manually"
   ]
  },
  {
   "cell_type": "code",
   "execution_count": 2046,
   "metadata": {},
   "outputs": [
    {
     "data": {
      "text/plain": [
       "1"
      ]
     },
     "execution_count": 2046,
     "metadata": {},
     "output_type": "execute_result"
    }
   ],
   "source": [
    "# Choose channel\n",
    "r.regs.lvds_idelay_mux.write(1)\n",
    "r.regs.lvds_idelay_auto.write(0)\n",
    "r.regs.lvds_idelay_mux.read()"
   ]
  },
  {
   "cell_type": "code",
   "execution_count": 2023,
   "metadata": {},
   "outputs": [],
   "source": [
    "r.regs.lvds_idelay_inc.write(0)   # Increment delay"
   ]
  },
  {
   "cell_type": "code",
   "execution_count": 2039,
   "metadata": {},
   "outputs": [],
   "source": [
    "r.regs.lvds_idelay_dec.write(0)   # Decrement delay"
   ]
  },
  {
   "cell_type": "code",
   "execution_count": 2040,
   "metadata": {},
   "outputs": [
    {
     "name": "stdout",
     "output_type": "stream",
     "text": [
      "\r",
      "1.000  -0.985          "
     ]
    },
    {
     "data": {
      "text/plain": [
       "(0.9999997019767761, -0.9853668808937073)"
      ]
     },
     "execution_count": 2040,
     "metadata": {},
     "output_type": "execute_result"
    }
   ],
   "source": [
    "printPd()"
   ]
  },
  {
   "cell_type": "markdown",
   "metadata": {},
   "source": [
    "# Control Idelays automatically\n",
    "Let the gateware step up / down the idelays and monitor the phase detector values"
   ]
  },
  {
   "cell_type": "code",
   "execution_count": 2044,
   "metadata": {},
   "outputs": [
    {
     "name": "stdout",
     "output_type": "stream",
     "text": [
      "0.404  0.593            "
     ]
    },
    {
     "ename": "KeyboardInterrupt",
     "evalue": "",
     "output_type": "error",
     "traceback": [
      "\u001b[0;31m---------------------------------------------------------------------------\u001b[0m",
      "\u001b[0;31mKeyboardInterrupt\u001b[0m                         Traceback (most recent call last)",
      "\u001b[0;32m<ipython-input-2044-995e2a211b3c>\u001b[0m in \u001b[0;36m<module>\u001b[0;34m\u001b[0m\n\u001b[1;32m      8\u001b[0m     \u001b[0mp0s\u001b[0m\u001b[0;34m.\u001b[0m\u001b[0mappend\u001b[0m\u001b[0;34m(\u001b[0m\u001b[0mval0\u001b[0m\u001b[0;34m)\u001b[0m\u001b[0;34m\u001b[0m\u001b[0m\n\u001b[1;32m      9\u001b[0m     \u001b[0mp1s\u001b[0m\u001b[0;34m.\u001b[0m\u001b[0mappend\u001b[0m\u001b[0;34m(\u001b[0m\u001b[0mval1\u001b[0m\u001b[0;34m)\u001b[0m\u001b[0;34m\u001b[0m\u001b[0m\n\u001b[0;32m---> 10\u001b[0;31m     \u001b[0mtime\u001b[0m\u001b[0;34m.\u001b[0m\u001b[0msleep\u001b[0m\u001b[0;34m(\u001b[0m\u001b[0;36m0.1\u001b[0m\u001b[0;34m)\u001b[0m\u001b[0;34m\u001b[0m\u001b[0m\n\u001b[0m",
      "\u001b[0;31mKeyboardInterrupt\u001b[0m: "
     ]
    }
   ],
   "source": [
    "# Enable / disable auto phase tracking mode\n",
    "r.regs.lvds_idelay_auto.write(1)\n",
    "# Print phase\n",
    "p0s = []\n",
    "p1s = []\n",
    "while True:\n",
    "    val0, val1 = printPd()\n",
    "    p0s.append(val0)\n",
    "    p1s.append(val1)\n",
    "    time.sleep(0.1)"
   ]
  },
  {
   "cell_type": "code",
   "execution_count": 2045,
   "metadata": {},
   "outputs": [
    {
     "data": {
      "application/javascript": [
       "/* Put everything inside the global mpl namespace */\n",
       "window.mpl = {};\n",
       "\n",
       "\n",
       "mpl.get_websocket_type = function() {\n",
       "    if (typeof(WebSocket) !== 'undefined') {\n",
       "        return WebSocket;\n",
       "    } else if (typeof(MozWebSocket) !== 'undefined') {\n",
       "        return MozWebSocket;\n",
       "    } else {\n",
       "        alert('Your browser does not have WebSocket support.' +\n",
       "              'Please try Chrome, Safari or Firefox ≥ 6. ' +\n",
       "              'Firefox 4 and 5 are also supported but you ' +\n",
       "              'have to enable WebSockets in about:config.');\n",
       "    };\n",
       "}\n",
       "\n",
       "mpl.figure = function(figure_id, websocket, ondownload, parent_element) {\n",
       "    this.id = figure_id;\n",
       "\n",
       "    this.ws = websocket;\n",
       "\n",
       "    this.supports_binary = (this.ws.binaryType != undefined);\n",
       "\n",
       "    if (!this.supports_binary) {\n",
       "        var warnings = document.getElementById(\"mpl-warnings\");\n",
       "        if (warnings) {\n",
       "            warnings.style.display = 'block';\n",
       "            warnings.textContent = (\n",
       "                \"This browser does not support binary websocket messages. \" +\n",
       "                    \"Performance may be slow.\");\n",
       "        }\n",
       "    }\n",
       "\n",
       "    this.imageObj = new Image();\n",
       "\n",
       "    this.context = undefined;\n",
       "    this.message = undefined;\n",
       "    this.canvas = undefined;\n",
       "    this.rubberband_canvas = undefined;\n",
       "    this.rubberband_context = undefined;\n",
       "    this.format_dropdown = undefined;\n",
       "\n",
       "    this.image_mode = 'full';\n",
       "\n",
       "    this.root = $('<div/>');\n",
       "    this._root_extra_style(this.root)\n",
       "    this.root.attr('style', 'display: inline-block');\n",
       "\n",
       "    $(parent_element).append(this.root);\n",
       "\n",
       "    this._init_header(this);\n",
       "    this._init_canvas(this);\n",
       "    this._init_toolbar(this);\n",
       "\n",
       "    var fig = this;\n",
       "\n",
       "    this.waiting = false;\n",
       "\n",
       "    this.ws.onopen =  function () {\n",
       "            fig.send_message(\"supports_binary\", {value: fig.supports_binary});\n",
       "            fig.send_message(\"send_image_mode\", {});\n",
       "            if (mpl.ratio != 1) {\n",
       "                fig.send_message(\"set_dpi_ratio\", {'dpi_ratio': mpl.ratio});\n",
       "            }\n",
       "            fig.send_message(\"refresh\", {});\n",
       "        }\n",
       "\n",
       "    this.imageObj.onload = function() {\n",
       "            if (fig.image_mode == 'full') {\n",
       "                // Full images could contain transparency (where diff images\n",
       "                // almost always do), so we need to clear the canvas so that\n",
       "                // there is no ghosting.\n",
       "                fig.context.clearRect(0, 0, fig.canvas.width, fig.canvas.height);\n",
       "            }\n",
       "            fig.context.drawImage(fig.imageObj, 0, 0);\n",
       "        };\n",
       "\n",
       "    this.imageObj.onunload = function() {\n",
       "        fig.ws.close();\n",
       "    }\n",
       "\n",
       "    this.ws.onmessage = this._make_on_message_function(this);\n",
       "\n",
       "    this.ondownload = ondownload;\n",
       "}\n",
       "\n",
       "mpl.figure.prototype._init_header = function() {\n",
       "    var titlebar = $(\n",
       "        '<div class=\"ui-dialog-titlebar ui-widget-header ui-corner-all ' +\n",
       "        'ui-helper-clearfix\"/>');\n",
       "    var titletext = $(\n",
       "        '<div class=\"ui-dialog-title\" style=\"width: 100%; ' +\n",
       "        'text-align: center; padding: 3px;\"/>');\n",
       "    titlebar.append(titletext)\n",
       "    this.root.append(titlebar);\n",
       "    this.header = titletext[0];\n",
       "}\n",
       "\n",
       "\n",
       "\n",
       "mpl.figure.prototype._canvas_extra_style = function(canvas_div) {\n",
       "\n",
       "}\n",
       "\n",
       "\n",
       "mpl.figure.prototype._root_extra_style = function(canvas_div) {\n",
       "\n",
       "}\n",
       "\n",
       "mpl.figure.prototype._init_canvas = function() {\n",
       "    var fig = this;\n",
       "\n",
       "    var canvas_div = $('<div/>');\n",
       "\n",
       "    canvas_div.attr('style', 'position: relative; clear: both; outline: 0');\n",
       "\n",
       "    function canvas_keyboard_event(event) {\n",
       "        return fig.key_event(event, event['data']);\n",
       "    }\n",
       "\n",
       "    canvas_div.keydown('key_press', canvas_keyboard_event);\n",
       "    canvas_div.keyup('key_release', canvas_keyboard_event);\n",
       "    this.canvas_div = canvas_div\n",
       "    this._canvas_extra_style(canvas_div)\n",
       "    this.root.append(canvas_div);\n",
       "\n",
       "    var canvas = $('<canvas/>');\n",
       "    canvas.addClass('mpl-canvas');\n",
       "    canvas.attr('style', \"left: 0; top: 0; z-index: 0; outline: 0\")\n",
       "\n",
       "    this.canvas = canvas[0];\n",
       "    this.context = canvas[0].getContext(\"2d\");\n",
       "\n",
       "    var backingStore = this.context.backingStorePixelRatio ||\n",
       "\tthis.context.webkitBackingStorePixelRatio ||\n",
       "\tthis.context.mozBackingStorePixelRatio ||\n",
       "\tthis.context.msBackingStorePixelRatio ||\n",
       "\tthis.context.oBackingStorePixelRatio ||\n",
       "\tthis.context.backingStorePixelRatio || 1;\n",
       "\n",
       "    mpl.ratio = (window.devicePixelRatio || 1) / backingStore;\n",
       "\n",
       "    var rubberband = $('<canvas/>');\n",
       "    rubberband.attr('style', \"position: absolute; left: 0; top: 0; z-index: 1;\")\n",
       "\n",
       "    var pass_mouse_events = true;\n",
       "\n",
       "    canvas_div.resizable({\n",
       "        start: function(event, ui) {\n",
       "            pass_mouse_events = false;\n",
       "        },\n",
       "        resize: function(event, ui) {\n",
       "            fig.request_resize(ui.size.width, ui.size.height);\n",
       "        },\n",
       "        stop: function(event, ui) {\n",
       "            pass_mouse_events = true;\n",
       "            fig.request_resize(ui.size.width, ui.size.height);\n",
       "        },\n",
       "    });\n",
       "\n",
       "    function mouse_event_fn(event) {\n",
       "        if (pass_mouse_events)\n",
       "            return fig.mouse_event(event, event['data']);\n",
       "    }\n",
       "\n",
       "    rubberband.mousedown('button_press', mouse_event_fn);\n",
       "    rubberband.mouseup('button_release', mouse_event_fn);\n",
       "    // Throttle sequential mouse events to 1 every 20ms.\n",
       "    rubberband.mousemove('motion_notify', mouse_event_fn);\n",
       "\n",
       "    rubberband.mouseenter('figure_enter', mouse_event_fn);\n",
       "    rubberband.mouseleave('figure_leave', mouse_event_fn);\n",
       "\n",
       "    canvas_div.on(\"wheel\", function (event) {\n",
       "        event = event.originalEvent;\n",
       "        event['data'] = 'scroll'\n",
       "        if (event.deltaY < 0) {\n",
       "            event.step = 1;\n",
       "        } else {\n",
       "            event.step = -1;\n",
       "        }\n",
       "        mouse_event_fn(event);\n",
       "    });\n",
       "\n",
       "    canvas_div.append(canvas);\n",
       "    canvas_div.append(rubberband);\n",
       "\n",
       "    this.rubberband = rubberband;\n",
       "    this.rubberband_canvas = rubberband[0];\n",
       "    this.rubberband_context = rubberband[0].getContext(\"2d\");\n",
       "    this.rubberband_context.strokeStyle = \"#000000\";\n",
       "\n",
       "    this._resize_canvas = function(width, height) {\n",
       "        // Keep the size of the canvas, canvas container, and rubber band\n",
       "        // canvas in synch.\n",
       "        canvas_div.css('width', width)\n",
       "        canvas_div.css('height', height)\n",
       "\n",
       "        canvas.attr('width', width * mpl.ratio);\n",
       "        canvas.attr('height', height * mpl.ratio);\n",
       "        canvas.attr('style', 'width: ' + width + 'px; height: ' + height + 'px;');\n",
       "\n",
       "        rubberband.attr('width', width);\n",
       "        rubberband.attr('height', height);\n",
       "    }\n",
       "\n",
       "    // Set the figure to an initial 600x600px, this will subsequently be updated\n",
       "    // upon first draw.\n",
       "    this._resize_canvas(600, 600);\n",
       "\n",
       "    // Disable right mouse context menu.\n",
       "    $(this.rubberband_canvas).bind(\"contextmenu\",function(e){\n",
       "        return false;\n",
       "    });\n",
       "\n",
       "    function set_focus () {\n",
       "        canvas.focus();\n",
       "        canvas_div.focus();\n",
       "    }\n",
       "\n",
       "    window.setTimeout(set_focus, 100);\n",
       "}\n",
       "\n",
       "mpl.figure.prototype._init_toolbar = function() {\n",
       "    var fig = this;\n",
       "\n",
       "    var nav_element = $('<div/>')\n",
       "    nav_element.attr('style', 'width: 100%');\n",
       "    this.root.append(nav_element);\n",
       "\n",
       "    // Define a callback function for later on.\n",
       "    function toolbar_event(event) {\n",
       "        return fig.toolbar_button_onclick(event['data']);\n",
       "    }\n",
       "    function toolbar_mouse_event(event) {\n",
       "        return fig.toolbar_button_onmouseover(event['data']);\n",
       "    }\n",
       "\n",
       "    for(var toolbar_ind in mpl.toolbar_items) {\n",
       "        var name = mpl.toolbar_items[toolbar_ind][0];\n",
       "        var tooltip = mpl.toolbar_items[toolbar_ind][1];\n",
       "        var image = mpl.toolbar_items[toolbar_ind][2];\n",
       "        var method_name = mpl.toolbar_items[toolbar_ind][3];\n",
       "\n",
       "        if (!name) {\n",
       "            // put a spacer in here.\n",
       "            continue;\n",
       "        }\n",
       "        var button = $('<button/>');\n",
       "        button.addClass('ui-button ui-widget ui-state-default ui-corner-all ' +\n",
       "                        'ui-button-icon-only');\n",
       "        button.attr('role', 'button');\n",
       "        button.attr('aria-disabled', 'false');\n",
       "        button.click(method_name, toolbar_event);\n",
       "        button.mouseover(tooltip, toolbar_mouse_event);\n",
       "\n",
       "        var icon_img = $('<span/>');\n",
       "        icon_img.addClass('ui-button-icon-primary ui-icon');\n",
       "        icon_img.addClass(image);\n",
       "        icon_img.addClass('ui-corner-all');\n",
       "\n",
       "        var tooltip_span = $('<span/>');\n",
       "        tooltip_span.addClass('ui-button-text');\n",
       "        tooltip_span.html(tooltip);\n",
       "\n",
       "        button.append(icon_img);\n",
       "        button.append(tooltip_span);\n",
       "\n",
       "        nav_element.append(button);\n",
       "    }\n",
       "\n",
       "    var fmt_picker_span = $('<span/>');\n",
       "\n",
       "    var fmt_picker = $('<select/>');\n",
       "    fmt_picker.addClass('mpl-toolbar-option ui-widget ui-widget-content');\n",
       "    fmt_picker_span.append(fmt_picker);\n",
       "    nav_element.append(fmt_picker_span);\n",
       "    this.format_dropdown = fmt_picker[0];\n",
       "\n",
       "    for (var ind in mpl.extensions) {\n",
       "        var fmt = mpl.extensions[ind];\n",
       "        var option = $(\n",
       "            '<option/>', {selected: fmt === mpl.default_extension}).html(fmt);\n",
       "        fmt_picker.append(option)\n",
       "    }\n",
       "\n",
       "    // Add hover states to the ui-buttons\n",
       "    $( \".ui-button\" ).hover(\n",
       "        function() { $(this).addClass(\"ui-state-hover\");},\n",
       "        function() { $(this).removeClass(\"ui-state-hover\");}\n",
       "    );\n",
       "\n",
       "    var status_bar = $('<span class=\"mpl-message\"/>');\n",
       "    nav_element.append(status_bar);\n",
       "    this.message = status_bar[0];\n",
       "}\n",
       "\n",
       "mpl.figure.prototype.request_resize = function(x_pixels, y_pixels) {\n",
       "    // Request matplotlib to resize the figure. Matplotlib will then trigger a resize in the client,\n",
       "    // which will in turn request a refresh of the image.\n",
       "    this.send_message('resize', {'width': x_pixels, 'height': y_pixels});\n",
       "}\n",
       "\n",
       "mpl.figure.prototype.send_message = function(type, properties) {\n",
       "    properties['type'] = type;\n",
       "    properties['figure_id'] = this.id;\n",
       "    this.ws.send(JSON.stringify(properties));\n",
       "}\n",
       "\n",
       "mpl.figure.prototype.send_draw_message = function() {\n",
       "    if (!this.waiting) {\n",
       "        this.waiting = true;\n",
       "        this.ws.send(JSON.stringify({type: \"draw\", figure_id: this.id}));\n",
       "    }\n",
       "}\n",
       "\n",
       "\n",
       "mpl.figure.prototype.handle_save = function(fig, msg) {\n",
       "    var format_dropdown = fig.format_dropdown;\n",
       "    var format = format_dropdown.options[format_dropdown.selectedIndex].value;\n",
       "    fig.ondownload(fig, format);\n",
       "}\n",
       "\n",
       "\n",
       "mpl.figure.prototype.handle_resize = function(fig, msg) {\n",
       "    var size = msg['size'];\n",
       "    if (size[0] != fig.canvas.width || size[1] != fig.canvas.height) {\n",
       "        fig._resize_canvas(size[0], size[1]);\n",
       "        fig.send_message(\"refresh\", {});\n",
       "    };\n",
       "}\n",
       "\n",
       "mpl.figure.prototype.handle_rubberband = function(fig, msg) {\n",
       "    var x0 = msg['x0'] / mpl.ratio;\n",
       "    var y0 = (fig.canvas.height - msg['y0']) / mpl.ratio;\n",
       "    var x1 = msg['x1'] / mpl.ratio;\n",
       "    var y1 = (fig.canvas.height - msg['y1']) / mpl.ratio;\n",
       "    x0 = Math.floor(x0) + 0.5;\n",
       "    y0 = Math.floor(y0) + 0.5;\n",
       "    x1 = Math.floor(x1) + 0.5;\n",
       "    y1 = Math.floor(y1) + 0.5;\n",
       "    var min_x = Math.min(x0, x1);\n",
       "    var min_y = Math.min(y0, y1);\n",
       "    var width = Math.abs(x1 - x0);\n",
       "    var height = Math.abs(y1 - y0);\n",
       "\n",
       "    fig.rubberband_context.clearRect(\n",
       "        0, 0, fig.canvas.width, fig.canvas.height);\n",
       "\n",
       "    fig.rubberband_context.strokeRect(min_x, min_y, width, height);\n",
       "}\n",
       "\n",
       "mpl.figure.prototype.handle_figure_label = function(fig, msg) {\n",
       "    // Updates the figure title.\n",
       "    fig.header.textContent = msg['label'];\n",
       "}\n",
       "\n",
       "mpl.figure.prototype.handle_cursor = function(fig, msg) {\n",
       "    var cursor = msg['cursor'];\n",
       "    switch(cursor)\n",
       "    {\n",
       "    case 0:\n",
       "        cursor = 'pointer';\n",
       "        break;\n",
       "    case 1:\n",
       "        cursor = 'default';\n",
       "        break;\n",
       "    case 2:\n",
       "        cursor = 'crosshair';\n",
       "        break;\n",
       "    case 3:\n",
       "        cursor = 'move';\n",
       "        break;\n",
       "    }\n",
       "    fig.rubberband_canvas.style.cursor = cursor;\n",
       "}\n",
       "\n",
       "mpl.figure.prototype.handle_message = function(fig, msg) {\n",
       "    fig.message.textContent = msg['message'];\n",
       "}\n",
       "\n",
       "mpl.figure.prototype.handle_draw = function(fig, msg) {\n",
       "    // Request the server to send over a new figure.\n",
       "    fig.send_draw_message();\n",
       "}\n",
       "\n",
       "mpl.figure.prototype.handle_image_mode = function(fig, msg) {\n",
       "    fig.image_mode = msg['mode'];\n",
       "}\n",
       "\n",
       "mpl.figure.prototype.updated_canvas_event = function() {\n",
       "    // Called whenever the canvas gets updated.\n",
       "    this.send_message(\"ack\", {});\n",
       "}\n",
       "\n",
       "// A function to construct a web socket function for onmessage handling.\n",
       "// Called in the figure constructor.\n",
       "mpl.figure.prototype._make_on_message_function = function(fig) {\n",
       "    return function socket_on_message(evt) {\n",
       "        if (evt.data instanceof Blob) {\n",
       "            /* FIXME: We get \"Resource interpreted as Image but\n",
       "             * transferred with MIME type text/plain:\" errors on\n",
       "             * Chrome.  But how to set the MIME type?  It doesn't seem\n",
       "             * to be part of the websocket stream */\n",
       "            evt.data.type = \"image/png\";\n",
       "\n",
       "            /* Free the memory for the previous frames */\n",
       "            if (fig.imageObj.src) {\n",
       "                (window.URL || window.webkitURL).revokeObjectURL(\n",
       "                    fig.imageObj.src);\n",
       "            }\n",
       "\n",
       "            fig.imageObj.src = (window.URL || window.webkitURL).createObjectURL(\n",
       "                evt.data);\n",
       "            fig.updated_canvas_event();\n",
       "            fig.waiting = false;\n",
       "            return;\n",
       "        }\n",
       "        else if (typeof evt.data === 'string' && evt.data.slice(0, 21) == \"data:image/png;base64\") {\n",
       "            fig.imageObj.src = evt.data;\n",
       "            fig.updated_canvas_event();\n",
       "            fig.waiting = false;\n",
       "            return;\n",
       "        }\n",
       "\n",
       "        var msg = JSON.parse(evt.data);\n",
       "        var msg_type = msg['type'];\n",
       "\n",
       "        // Call the  \"handle_{type}\" callback, which takes\n",
       "        // the figure and JSON message as its only arguments.\n",
       "        try {\n",
       "            var callback = fig[\"handle_\" + msg_type];\n",
       "        } catch (e) {\n",
       "            console.log(\"No handler for the '\" + msg_type + \"' message type: \", msg);\n",
       "            return;\n",
       "        }\n",
       "\n",
       "        if (callback) {\n",
       "            try {\n",
       "                // console.log(\"Handling '\" + msg_type + \"' message: \", msg);\n",
       "                callback(fig, msg);\n",
       "            } catch (e) {\n",
       "                console.log(\"Exception inside the 'handler_\" + msg_type + \"' callback:\", e, e.stack, msg);\n",
       "            }\n",
       "        }\n",
       "    };\n",
       "}\n",
       "\n",
       "// from http://stackoverflow.com/questions/1114465/getting-mouse-location-in-canvas\n",
       "mpl.findpos = function(e) {\n",
       "    //this section is from http://www.quirksmode.org/js/events_properties.html\n",
       "    var targ;\n",
       "    if (!e)\n",
       "        e = window.event;\n",
       "    if (e.target)\n",
       "        targ = e.target;\n",
       "    else if (e.srcElement)\n",
       "        targ = e.srcElement;\n",
       "    if (targ.nodeType == 3) // defeat Safari bug\n",
       "        targ = targ.parentNode;\n",
       "\n",
       "    // jQuery normalizes the pageX and pageY\n",
       "    // pageX,Y are the mouse positions relative to the document\n",
       "    // offset() returns the position of the element relative to the document\n",
       "    var x = e.pageX - $(targ).offset().left;\n",
       "    var y = e.pageY - $(targ).offset().top;\n",
       "\n",
       "    return {\"x\": x, \"y\": y};\n",
       "};\n",
       "\n",
       "/*\n",
       " * return a copy of an object with only non-object keys\n",
       " * we need this to avoid circular references\n",
       " * http://stackoverflow.com/a/24161582/3208463\n",
       " */\n",
       "function simpleKeys (original) {\n",
       "  return Object.keys(original).reduce(function (obj, key) {\n",
       "    if (typeof original[key] !== 'object')\n",
       "        obj[key] = original[key]\n",
       "    return obj;\n",
       "  }, {});\n",
       "}\n",
       "\n",
       "mpl.figure.prototype.mouse_event = function(event, name) {\n",
       "    var canvas_pos = mpl.findpos(event)\n",
       "\n",
       "    if (name === 'button_press')\n",
       "    {\n",
       "        this.canvas.focus();\n",
       "        this.canvas_div.focus();\n",
       "    }\n",
       "\n",
       "    var x = canvas_pos.x * mpl.ratio;\n",
       "    var y = canvas_pos.y * mpl.ratio;\n",
       "\n",
       "    this.send_message(name, {x: x, y: y, button: event.button,\n",
       "                             step: event.step,\n",
       "                             guiEvent: simpleKeys(event)});\n",
       "\n",
       "    /* This prevents the web browser from automatically changing to\n",
       "     * the text insertion cursor when the button is pressed.  We want\n",
       "     * to control all of the cursor setting manually through the\n",
       "     * 'cursor' event from matplotlib */\n",
       "    event.preventDefault();\n",
       "    return false;\n",
       "}\n",
       "\n",
       "mpl.figure.prototype._key_event_extra = function(event, name) {\n",
       "    // Handle any extra behaviour associated with a key event\n",
       "}\n",
       "\n",
       "mpl.figure.prototype.key_event = function(event, name) {\n",
       "\n",
       "    // Prevent repeat events\n",
       "    if (name == 'key_press')\n",
       "    {\n",
       "        if (event.which === this._key)\n",
       "            return;\n",
       "        else\n",
       "            this._key = event.which;\n",
       "    }\n",
       "    if (name == 'key_release')\n",
       "        this._key = null;\n",
       "\n",
       "    var value = '';\n",
       "    if (event.ctrlKey && event.which != 17)\n",
       "        value += \"ctrl+\";\n",
       "    if (event.altKey && event.which != 18)\n",
       "        value += \"alt+\";\n",
       "    if (event.shiftKey && event.which != 16)\n",
       "        value += \"shift+\";\n",
       "\n",
       "    value += 'k';\n",
       "    value += event.which.toString();\n",
       "\n",
       "    this._key_event_extra(event, name);\n",
       "\n",
       "    this.send_message(name, {key: value,\n",
       "                             guiEvent: simpleKeys(event)});\n",
       "    return false;\n",
       "}\n",
       "\n",
       "mpl.figure.prototype.toolbar_button_onclick = function(name) {\n",
       "    if (name == 'download') {\n",
       "        this.handle_save(this, null);\n",
       "    } else {\n",
       "        this.send_message(\"toolbar_button\", {name: name});\n",
       "    }\n",
       "};\n",
       "\n",
       "mpl.figure.prototype.toolbar_button_onmouseover = function(tooltip) {\n",
       "    this.message.textContent = tooltip;\n",
       "};\n",
       "mpl.toolbar_items = [[\"Home\", \"Reset original view\", \"fa fa-home icon-home\", \"home\"], [\"Back\", \"Back to previous view\", \"fa fa-arrow-left icon-arrow-left\", \"back\"], [\"Forward\", \"Forward to next view\", \"fa fa-arrow-right icon-arrow-right\", \"forward\"], [\"\", \"\", \"\", \"\"], [\"Pan\", \"Pan axes with left mouse, zoom with right\", \"fa fa-arrows icon-move\", \"pan\"], [\"Zoom\", \"Zoom to rectangle\", \"fa fa-square-o icon-check-empty\", \"zoom\"], [\"\", \"\", \"\", \"\"], [\"Download\", \"Download plot\", \"fa fa-floppy-o icon-save\", \"download\"]];\n",
       "\n",
       "mpl.extensions = [\"eps\", \"jpeg\", \"pdf\", \"png\", \"ps\", \"raw\", \"svg\", \"tif\"];\n",
       "\n",
       "mpl.default_extension = \"png\";var comm_websocket_adapter = function(comm) {\n",
       "    // Create a \"websocket\"-like object which calls the given IPython comm\n",
       "    // object with the appropriate methods. Currently this is a non binary\n",
       "    // socket, so there is still some room for performance tuning.\n",
       "    var ws = {};\n",
       "\n",
       "    ws.close = function() {\n",
       "        comm.close()\n",
       "    };\n",
       "    ws.send = function(m) {\n",
       "        //console.log('sending', m);\n",
       "        comm.send(m);\n",
       "    };\n",
       "    // Register the callback with on_msg.\n",
       "    comm.on_msg(function(msg) {\n",
       "        //console.log('receiving', msg['content']['data'], msg);\n",
       "        // Pass the mpl event to the overridden (by mpl) onmessage function.\n",
       "        ws.onmessage(msg['content']['data'])\n",
       "    });\n",
       "    return ws;\n",
       "}\n",
       "\n",
       "mpl.mpl_figure_comm = function(comm, msg) {\n",
       "    // This is the function which gets called when the mpl process\n",
       "    // starts-up an IPython Comm through the \"matplotlib\" channel.\n",
       "\n",
       "    var id = msg.content.data.id;\n",
       "    // Get hold of the div created by the display call when the Comm\n",
       "    // socket was opened in Python.\n",
       "    var element = $(\"#\" + id);\n",
       "    var ws_proxy = comm_websocket_adapter(comm)\n",
       "\n",
       "    function ondownload(figure, format) {\n",
       "        window.open(figure.imageObj.src);\n",
       "    }\n",
       "\n",
       "    var fig = new mpl.figure(id, ws_proxy,\n",
       "                           ondownload,\n",
       "                           element.get(0));\n",
       "\n",
       "    // Call onopen now - mpl needs it, as it is assuming we've passed it a real\n",
       "    // web socket which is closed, not our websocket->open comm proxy.\n",
       "    ws_proxy.onopen();\n",
       "\n",
       "    fig.parent_element = element.get(0);\n",
       "    fig.cell_info = mpl.find_output_cell(\"<div id='\" + id + \"'></div>\");\n",
       "    if (!fig.cell_info) {\n",
       "        console.error(\"Failed to find cell for figure\", id, fig);\n",
       "        return;\n",
       "    }\n",
       "\n",
       "    var output_index = fig.cell_info[2]\n",
       "    var cell = fig.cell_info[0];\n",
       "\n",
       "};\n",
       "\n",
       "mpl.figure.prototype.handle_close = function(fig, msg) {\n",
       "    var width = fig.canvas.width/mpl.ratio\n",
       "    fig.root.unbind('remove')\n",
       "\n",
       "    // Update the output cell to use the data from the current canvas.\n",
       "    fig.push_to_output();\n",
       "    var dataURL = fig.canvas.toDataURL();\n",
       "    // Re-enable the keyboard manager in IPython - without this line, in FF,\n",
       "    // the notebook keyboard shortcuts fail.\n",
       "    IPython.keyboard_manager.enable()\n",
       "    $(fig.parent_element).html('<img src=\"' + dataURL + '\" width=\"' + width + '\">');\n",
       "    fig.close_ws(fig, msg);\n",
       "}\n",
       "\n",
       "mpl.figure.prototype.close_ws = function(fig, msg){\n",
       "    fig.send_message('closing', msg);\n",
       "    // fig.ws.close()\n",
       "}\n",
       "\n",
       "mpl.figure.prototype.push_to_output = function(remove_interactive) {\n",
       "    // Turn the data on the canvas into data in the output cell.\n",
       "    var width = this.canvas.width/mpl.ratio\n",
       "    var dataURL = this.canvas.toDataURL();\n",
       "    this.cell_info[1]['text/html'] = '<img src=\"' + dataURL + '\" width=\"' + width + '\">';\n",
       "}\n",
       "\n",
       "mpl.figure.prototype.updated_canvas_event = function() {\n",
       "    // Tell IPython that the notebook contents must change.\n",
       "    IPython.notebook.set_dirty(true);\n",
       "    this.send_message(\"ack\", {});\n",
       "    var fig = this;\n",
       "    // Wait a second, then push the new image to the DOM so\n",
       "    // that it is saved nicely (might be nice to debounce this).\n",
       "    setTimeout(function () { fig.push_to_output() }, 1000);\n",
       "}\n",
       "\n",
       "mpl.figure.prototype._init_toolbar = function() {\n",
       "    var fig = this;\n",
       "\n",
       "    var nav_element = $('<div/>')\n",
       "    nav_element.attr('style', 'width: 100%');\n",
       "    this.root.append(nav_element);\n",
       "\n",
       "    // Define a callback function for later on.\n",
       "    function toolbar_event(event) {\n",
       "        return fig.toolbar_button_onclick(event['data']);\n",
       "    }\n",
       "    function toolbar_mouse_event(event) {\n",
       "        return fig.toolbar_button_onmouseover(event['data']);\n",
       "    }\n",
       "\n",
       "    for(var toolbar_ind in mpl.toolbar_items){\n",
       "        var name = mpl.toolbar_items[toolbar_ind][0];\n",
       "        var tooltip = mpl.toolbar_items[toolbar_ind][1];\n",
       "        var image = mpl.toolbar_items[toolbar_ind][2];\n",
       "        var method_name = mpl.toolbar_items[toolbar_ind][3];\n",
       "\n",
       "        if (!name) { continue; };\n",
       "\n",
       "        var button = $('<button class=\"btn btn-default\" href=\"#\" title=\"' + name + '\"><i class=\"fa ' + image + ' fa-lg\"></i></button>');\n",
       "        button.click(method_name, toolbar_event);\n",
       "        button.mouseover(tooltip, toolbar_mouse_event);\n",
       "        nav_element.append(button);\n",
       "    }\n",
       "\n",
       "    // Add the status bar.\n",
       "    var status_bar = $('<span class=\"mpl-message\" style=\"text-align:right; float: right;\"/>');\n",
       "    nav_element.append(status_bar);\n",
       "    this.message = status_bar[0];\n",
       "\n",
       "    // Add the close button to the window.\n",
       "    var buttongrp = $('<div class=\"btn-group inline pull-right\"></div>');\n",
       "    var button = $('<button class=\"btn btn-mini btn-primary\" href=\"#\" title=\"Stop Interaction\"><i class=\"fa fa-power-off icon-remove icon-large\"></i></button>');\n",
       "    button.click(function (evt) { fig.handle_close(fig, {}); } );\n",
       "    button.mouseover('Stop Interaction', toolbar_mouse_event);\n",
       "    buttongrp.append(button);\n",
       "    var titlebar = this.root.find($('.ui-dialog-titlebar'));\n",
       "    titlebar.prepend(buttongrp);\n",
       "}\n",
       "\n",
       "mpl.figure.prototype._root_extra_style = function(el){\n",
       "    var fig = this\n",
       "    el.on(\"remove\", function(){\n",
       "\tfig.close_ws(fig, {});\n",
       "    });\n",
       "}\n",
       "\n",
       "mpl.figure.prototype._canvas_extra_style = function(el){\n",
       "    // this is important to make the div 'focusable\n",
       "    el.attr('tabindex', 0)\n",
       "    // reach out to IPython and tell the keyboard manager to turn it's self\n",
       "    // off when our div gets focus\n",
       "\n",
       "    // location in version 3\n",
       "    if (IPython.notebook.keyboard_manager) {\n",
       "        IPython.notebook.keyboard_manager.register_events(el);\n",
       "    }\n",
       "    else {\n",
       "        // location in version 2\n",
       "        IPython.keyboard_manager.register_events(el);\n",
       "    }\n",
       "\n",
       "}\n",
       "\n",
       "mpl.figure.prototype._key_event_extra = function(event, name) {\n",
       "    var manager = IPython.notebook.keyboard_manager;\n",
       "    if (!manager)\n",
       "        manager = IPython.keyboard_manager;\n",
       "\n",
       "    // Check for shift+enter\n",
       "    if (event.shiftKey && event.which == 13) {\n",
       "        this.canvas_div.blur();\n",
       "        event.shiftKey = false;\n",
       "        // Send a \"J\" for go to next cell\n",
       "        event.which = 74;\n",
       "        event.keyCode = 74;\n",
       "        manager.command_mode();\n",
       "        manager.handle_keydown(event);\n",
       "    }\n",
       "}\n",
       "\n",
       "mpl.figure.prototype.handle_save = function(fig, msg) {\n",
       "    fig.ondownload(fig, null);\n",
       "}\n",
       "\n",
       "\n",
       "mpl.find_output_cell = function(html_output) {\n",
       "    // Return the cell and output element which can be found *uniquely* in the notebook.\n",
       "    // Note - this is a bit hacky, but it is done because the \"notebook_saving.Notebook\"\n",
       "    // IPython event is triggered only after the cells have been serialised, which for\n",
       "    // our purposes (turning an active figure into a static one), is too late.\n",
       "    var cells = IPython.notebook.get_cells();\n",
       "    var ncells = cells.length;\n",
       "    for (var i=0; i<ncells; i++) {\n",
       "        var cell = cells[i];\n",
       "        if (cell.cell_type === 'code'){\n",
       "            for (var j=0; j<cell.output_area.outputs.length; j++) {\n",
       "                var data = cell.output_area.outputs[j];\n",
       "                if (data.data) {\n",
       "                    // IPython >= 3 moved mimebundle to data attribute of output\n",
       "                    data = data.data;\n",
       "                }\n",
       "                if (data['text/html'] == html_output) {\n",
       "                    return [cell, data, j];\n",
       "                }\n",
       "            }\n",
       "        }\n",
       "    }\n",
       "}\n",
       "\n",
       "// Register the function which deals with the matplotlib target/channel.\n",
       "// The kernel may be null if the page has been refreshed.\n",
       "if (IPython.notebook.kernel != null) {\n",
       "    IPython.notebook.kernel.comm_manager.register_target('matplotlib', mpl.mpl_figure_comm);\n",
       "}\n"
      ],
      "text/plain": [
       "<IPython.core.display.Javascript object>"
      ]
     },
     "metadata": {},
     "output_type": "display_data"
    },
    {
     "data": {
      "text/html": [
       "<img src=\"data:image/png;base64,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\" width=\"640\">"
      ],
      "text/plain": [
       "<IPython.core.display.HTML object>"
      ]
     },
     "metadata": {},
     "output_type": "display_data"
    },
    {
     "data": {
      "text/plain": [
       "[<matplotlib.lines.Line2D at 0x7fcbe7a1bc18>]"
      ]
     },
     "execution_count": 2045,
     "metadata": {},
     "output_type": "execute_result"
    }
   ],
   "source": [
    "close(\"all\")\n",
    "plot(p0s)\n",
    "plot(p1s)"
   ]
  },
  {
   "cell_type": "code",
   "execution_count": 42,
   "metadata": {},
   "outputs": [],
   "source": [
    "r.close()"
   ]
  }
 ],
 "metadata": {
  "kernelspec": {
   "display_name": "Python 3",
   "language": "python",
   "name": "python3"
  },
  "language_info": {
   "codemirror_mode": {
    "name": "ipython",
    "version": 3
   },
   "file_extension": ".py",
   "mimetype": "text/x-python",
   "name": "python",
   "nbconvert_exporter": "python",
   "pygments_lexer": "ipython3",
   "version": "3.6.6"
  }
 },
 "nbformat": 4,
 "nbformat_minor": 2
}
