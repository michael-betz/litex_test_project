{
 "cells": [
  {
   "cell_type": "code",
   "execution_count": 45,
   "metadata": {},
   "outputs": [],
   "source": [
    "from litex.soc.tools.remote import RemoteClient\n",
    "from struct import pack, unpack"
   ]
  },
  {
   "cell_type": "code",
   "execution_count": 8,
   "metadata": {},
   "outputs": [
    {
     "name": "stdout",
     "output_type": "stream",
     "text": [
      "Starting job # 0 in a separate thread.\n"
     ]
    }
   ],
   "source": [
    "%%script bash --bg \n",
    "litex_server uart /dev/ttyUSB0 115200"
   ]
  },
  {
   "cell_type": "code",
   "execution_count": 18,
   "metadata": {},
   "outputs": [],
   "source": [
    "r = RemoteClient(csr_csv=\"build/csr.csv\", debug=True)\n",
    "r.open()"
   ]
  },
  {
   "cell_type": "code",
   "execution_count": 66,
   "metadata": {},
   "outputs": [],
   "source": [
    "def readReg(reg):\n",
    "    return r.read(reg.addr, reg.length)\n",
    "\n",
    "def getId():\n",
    "    s = \"\"\n",
    "    for i in range(64):\n",
    "        temp = r.read(r.bases.identifier_mem + i * 4)\n",
    "        if temp == 0:\n",
    "            break\n",
    "        s += chr(temp & 0xFF)\n",
    "    return s"
   ]
  },
  {
   "cell_type": "code",
   "execution_count": 62,
   "metadata": {},
   "outputs": [
    {
     "name": "stdout",
     "output_type": "stream",
     "text": [
      "read 00000000 @ e0000008\n"
     ]
    },
    {
     "data": {
      "text/plain": [
       "[0]"
      ]
     },
     "execution_count": 62,
     "metadata": {},
     "output_type": "execute_result"
    }
   ],
   "source": [
    "readReg(r.regs.ctrl_bus_errors)"
   ]
  },
  {
   "cell_type": "code",
   "execution_count": 63,
   "metadata": {},
   "outputs": [
    {
     "name": "stdout",
     "output_type": "stream",
     "text": [
      "read 00004711 @ e0000004\n"
     ]
    },
    {
     "data": {
      "text/plain": [
       "[18193]"
      ]
     },
     "execution_count": 63,
     "metadata": {},
     "output_type": "execute_result"
    }
   ],
   "source": [
    "readReg(r.regs.ctrl_scratch)"
   ]
  },
  {
   "cell_type": "code",
   "execution_count": 38,
   "metadata": {},
   "outputs": [
    {
     "name": "stdout",
     "output_type": "stream",
     "text": [
      "write 00004711 @ e0000004\n"
     ]
    }
   ],
   "source": [
    "r.write(r.regs.ctrl_scratch.addr, [0x4711])"
   ]
  },
  {
   "cell_type": "code",
   "execution_count": 64,
   "metadata": {},
   "outputs": [
    {
     "name": "stdout",
     "output_type": "stream",
     "text": [
      "read 00013581 @ e0004000\n",
      "read 95e76d0a @ e0004004\n"
     ]
    }
   ],
   "source": [
    "res = readReg(r.regs.dna_id)"
   ]
  },
  {
   "cell_type": "code",
   "execution_count": 67,
   "metadata": {},
   "outputs": [
    {
     "name": "stdout",
     "output_type": "stream",
     "text": [
      "read 00000057 @ e0002000\n",
      "read 00000069 @ e0002004\n",
      "read 00000072 @ e0002008\n",
      "read 00000020 @ e000200c\n",
      "read 00000074 @ e0002010\n",
      "read 00000072 @ e0002014\n",
      "read 00000061 @ e0002018\n",
      "read 0000006d @ e000201c\n",
      "read 00000070 @ e0002020\n",
      "read 00000065 @ e0002024\n",
      "read 0000006c @ e0002028\n",
      "read 0000006e @ e000202c\n",
      "read 00000020 @ e0002030\n",
      "read 00000064 @ e0002034\n",
      "read 00000075 @ e0002038\n",
      "read 00000072 @ e000203c\n",
      "read 00000063 @ e0002040\n",
      "read 00000068 @ e0002044\n",
      "read 00000073 @ e0002048\n",
      "read 00000020 @ e000204c\n",
      "read 00000047 @ e0002050\n",
      "read 00000065 @ e0002054\n",
      "read 00000074 @ e0002058\n",
      "read 00000072 @ e000205c\n",
      "read 00000065 @ e0002060\n",
      "read 00000069 @ e0002064\n",
      "read 00000064 @ e0002068\n",
      "read 00000065 @ e000206c\n",
      "read 00000020 @ e0002070\n",
      "read 0000002e @ e0002074\n",
      "read 0000002e @ e0002078\n",
      "read 0000002e @ e000207c\n",
      "read 00000020 @ e0002080\n",
      "read 00000032 @ e0002084\n",
      "read 00000030 @ e0002088\n",
      "read 00000031 @ e000208c\n",
      "read 00000039 @ e0002090\n",
      "read 0000002d @ e0002094\n",
      "read 00000030 @ e0002098\n",
      "read 00000033 @ e000209c\n",
      "read 0000002d @ e00020a0\n",
      "read 00000031 @ e00020a4\n",
      "read 00000036 @ e00020a8\n",
      "read 00000020 @ e00020ac\n",
      "read 00000031 @ e00020b0\n",
      "read 00000036 @ e00020b4\n",
      "read 0000003a @ e00020b8\n",
      "read 00000031 @ e00020bc\n",
      "read 00000036 @ e00020c0\n",
      "read 0000003a @ e00020c4\n",
      "read 00000033 @ e00020c8\n",
      "read 00000030 @ e00020cc\n",
      "read 00000000 @ e00020d0\n"
     ]
    },
    {
     "data": {
      "text/plain": [
       "'Wir trampeln durchs Getreide ... 2019-03-16 16:16:30'"
      ]
     },
     "execution_count": 67,
     "metadata": {},
     "output_type": "execute_result"
    }
   ],
   "source": [
    "getId()"
   ]
  },
  {
   "cell_type": "code",
   "execution_count": 17,
   "metadata": {},
   "outputs": [],
   "source": [
    "r.close()"
   ]
  }
 ],
 "metadata": {
  "kernelspec": {
   "display_name": "Python 3",
   "language": "python",
   "name": "python3"
  },
  "language_info": {
   "codemirror_mode": {
    "name": "ipython",
    "version": 3
   },
   "file_extension": ".py",
   "mimetype": "text/x-python",
   "name": "python",
   "nbconvert_exporter": "python",
   "pygments_lexer": "ipython3",
   "version": "3.7.2+"
  }
 },
 "nbformat": 4,
 "nbformat_minor": 2
}
