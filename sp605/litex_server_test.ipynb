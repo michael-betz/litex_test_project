{
 "cells": [
  {
   "cell_type": "code",
   "execution_count": 5,
   "metadata": {},
   "outputs": [
    {
     "name": "stdout",
     "output_type": "stream",
     "text": [
      "Starting job # 2 in a separate thread.\n"
     ]
    }
   ],
   "source": [
    "%%script bash --bg --out stdout\n",
    "litex_server uart /dev/ttyUSB0 115200"
   ]
  },
  {
   "cell_type": "code",
   "execution_count": 2,
   "metadata": {},
   "outputs": [
    {
     "ename": "KeyboardInterrupt",
     "evalue": "",
     "output_type": "error",
     "traceback": [
      "\u001b[0;31m---------------------------------------------------------------------------\u001b[0m",
      "\u001b[0;31mKeyboardInterrupt\u001b[0m                         Traceback (most recent call last)",
      "\u001b[0;32m<ipython-input-2-cd85e228898f>\u001b[0m in \u001b[0;36m<module>\u001b[0;34m()\u001b[0m\n\u001b[0;32m----> 1\u001b[0;31m \u001b[0mprint\u001b[0m\u001b[0;34m(\u001b[0m\u001b[0mstdout\u001b[0m\u001b[0;34m.\u001b[0m\u001b[0mreadlines\u001b[0m\u001b[0;34m(\u001b[0m\u001b[0;34m)\u001b[0m\u001b[0;34m)\u001b[0m\u001b[0;34m\u001b[0m\u001b[0;34m\u001b[0m\u001b[0m\n\u001b[0m",
      "\u001b[0;31mKeyboardInterrupt\u001b[0m: "
     ]
    }
   ],
   "source": [
    "print(stdout.readlines())"
   ]
  },
  {
   "cell_type": "code",
   "execution_count": 1,
   "metadata": {},
   "outputs": [],
   "source": [
    "from litex.soc.tools.remote import RemoteClient\n",
    "from struct import pack, unpack\n",
    "import time"
   ]
  },
  {
   "cell_type": "code",
   "execution_count": 2,
   "metadata": {},
   "outputs": [
    {
     "name": "stdout",
     "output_type": "stream",
     "text": [
      "Connected to Port 1234\n"
     ]
    }
   ],
   "source": [
    "for i in range(32):\n",
    "    try:\n",
    "        r = RemoteClient(csr_csv=\"build/csr.csv\", debug=False, port=1234 + i)\n",
    "        r.open()\n",
    "        print(\"Connected to Port\", 1234 + i)\n",
    "        break\n",
    "    except ConnectionRefusedError:\n",
    "        pass"
   ]
  },
  {
   "cell_type": "code",
   "execution_count": 3,
   "metadata": {},
   "outputs": [
    {
     "name": "stdout",
     "output_type": "stream",
     "text": [
      "0x12345678\n",
      "0xdeadbeef\n"
     ]
    }
   ],
   "source": [
    "print(hex(r.regs.ctrl_scratch.read()))\n",
    "r.regs.ctrl_scratch.write(0xDEADBEEF)\n",
    "print(hex(r.regs.ctrl_scratch.read()))"
   ]
  },
  {
   "cell_type": "code",
   "execution_count": 4,
   "metadata": {
    "scrolled": true
   },
   "outputs": [
    {
     "data": {
      "text/plain": [
       "'Wir trampeln durchs Getreide ... 2019-04-01 00:06:30'"
      ]
     },
     "execution_count": 4,
     "metadata": {},
     "output_type": "execute_result"
    }
   ],
   "source": [
    "def getId():\n",
    "    s = \"\"\n",
    "    for i in range(64):\n",
    "        temp = r.read(r.bases.identifier_mem + i * 4)\n",
    "        if temp == 0:\n",
    "            break\n",
    "        s += chr(temp & 0xFF)\n",
    "    return s\n",
    "getId()"
   ]
  },
  {
   "cell_type": "markdown",
   "metadata": {},
   "source": [
    "# SPI"
   ]
  },
  {
   "cell_type": "markdown",
   "metadata": {},
   "source": [
    "\n",
    "    config signal:\n",
    "        1 offline: all pins high-z (reset=1)\n",
    "        1 active: cs/transfer active (read-only)\n",
    "        1 pending: transfer pending in intermediate buffer (read-only)\n",
    "        1 cs_polarity: active level of chip select (reset=0)\n",
    "        1 clk_polarity: idle level of clk (reset=0)\n",
    "        1 clk_phase: first edge after cs assertion to sample data on (reset=0)\n",
    "            (clk_polarity, clk_phase) == (CPOL, CPHA) in Freescale language.\n",
    "            (0, 0): idle low, output on falling, input on rising\n",
    "            (0, 1): idle low, output on rising, input on falling\n",
    "            (1, 0): idle high, output on rising, input on falling\n",
    "            (1, 1): idle high, output on falling, input on rising\n",
    "            There is never a clk edge during a cs edge.\n",
    "        1 lsb_first: LSB is the first bit on the wire (reset=0)\n",
    "        1 half_duplex: 3-wire SPI, in/out on mosi (reset=0)\n",
    "        8 undefined\n",
    "        8 div_write: counter load value to divide this module's clock\n",
    "            to generate the SPI write clk (reset=0)\n",
    "            f_clk/f_spi_write == div_write + 2\n",
    "        8 div_read: ditto for the read clock"
   ]
  },
  {
   "cell_type": "markdown",
   "metadata": {},
   "source": [
    "    xfer_config signal:\n",
    "        16 cs: active high bit mask of chip selects to assert (reset=0)\n",
    "        6 write_len: 0-M bits (reset=0)\n",
    "        2 undefined\n",
    "        6 read_len: 0-M bits (reset=0)\n",
    "        2 undefined"
   ]
  },
  {
   "cell_type": "markdown",
   "metadata": {},
   "source": [
    "## Setup SPI"
   ]
  },
  {
   "cell_type": "code",
   "execution_count": 4,
   "metadata": {},
   "outputs": [],
   "source": [
    "r.regs.spi_config.write(0xFFFF0000)\n",
    "# 16 bit write transfer (includes read as is 4 wire)\n",
    "r.regs.spi_xfer.write(0x0010FFFF)\n",
    "\n",
    "def set_ltc_reg(adr, val):\n",
    "    word = (0 << 15) | ((adr & 0x7F) << 8) | (val & 0xFF)\n",
    "    word <<= 16\n",
    "    r.regs.spi_mosi_data.write(word)\n",
    "    r.regs.spi_start.write(1)\n",
    "\n",
    "def get_ltc_reg(adr):\n",
    "    word = (1 << 15) | ((adr & 0x7F) << 8)\n",
    "    word <<= 16\n",
    "    r.regs.spi_mosi_data.write(word)\n",
    "    r.regs.spi_start.write(1)\n",
    "    return r.regs.spi_miso_data.read() & 0xFF"
   ]
  },
  {
   "cell_type": "code",
   "execution_count": 5,
   "metadata": {},
   "outputs": [
    {
     "name": "stdout",
     "output_type": "stream",
     "text": [
      " 0: 00\n",
      " 1: 00\n",
      " 2: 00\n",
      " 3: 00\n",
      " 4: 00\n"
     ]
    }
   ],
   "source": [
    "for i in range(5):\n",
    "    print(\"{:2x}: {:02x}\".format(i, get_ltc_reg(i)))"
   ]
  },
  {
   "cell_type": "code",
   "execution_count": 112,
   "metadata": {},
   "outputs": [],
   "source": [
    "set_ltc_reg(0, 0x80)   # Software reset"
   ]
  },
  {
   "cell_type": "code",
   "execution_count": 15,
   "metadata": {},
   "outputs": [],
   "source": [
    "set_ltc_reg(1, 0x10)   # Sleep mode"
   ]
  },
  {
   "cell_type": "code",
   "execution_count": 16,
   "metadata": {},
   "outputs": [],
   "source": [
    "set_ltc_reg(1, 0x00)   # Waky waky"
   ]
  },
  {
   "cell_type": "code",
   "execution_count": 158,
   "metadata": {},
   "outputs": [
    {
     "name": "stdout",
     "output_type": "stream",
     "text": [
      "0x1f7\n",
      "111110111\n"
     ]
    }
   ],
   "source": [
    "tpValue = 0x1F7\n",
    "set_ltc_reg(3, (1<<7) | tpValue >> 8)   # Test pattern on + value MSB\n",
    "set_ltc_reg(4, tpValue & 0xFF)          # Test pattern value LSB\n",
    "\n",
    "print(hex((get_ltc_reg(3) & 0x3F) << 8 | get_ltc_reg(4)))\n",
    "print(\"{:08b}\".format(tpValue))"
   ]
  },
  {
   "cell_type": "markdown",
   "metadata": {},
   "source": [
    "# FRM clock frequency"
   ]
  },
  {
   "cell_type": "code",
   "execution_count": 8,
   "metadata": {
    "scrolled": true
   },
   "outputs": [
    {
     "ename": "AttributeError",
     "evalue": "No such element f_frame_value",
     "output_type": "error",
     "traceback": [
      "\u001b[0;31m---------------------------------------------------------------------------\u001b[0m",
      "\u001b[0;31mAttributeError\u001b[0m                            Traceback (most recent call last)",
      "\u001b[0;32m<ipython-input-8-1fc50447bcbc>\u001b[0m in \u001b[0;36m<module>\u001b[0;34m\u001b[0m\n\u001b[1;32m      1\u001b[0m \u001b[0;31m#while True:\u001b[0m\u001b[0;34m\u001b[0m\u001b[0;34m\u001b[0m\u001b[0m\n\u001b[1;32m      2\u001b[0m \u001b[0;31m#    time.sleep(0.5)\u001b[0m\u001b[0;34m\u001b[0m\u001b[0;34m\u001b[0m\u001b[0m\n\u001b[0;32m----> 3\u001b[0;31m \u001b[0mprint\u001b[0m\u001b[0;34m(\u001b[0m\u001b[0;34m\"\\r{:9.6f} MHz\"\u001b[0m\u001b[0;34m.\u001b[0m\u001b[0mformat\u001b[0m\u001b[0;34m(\u001b[0m\u001b[0mr\u001b[0m\u001b[0;34m.\u001b[0m\u001b[0mregs\u001b[0m\u001b[0;34m.\u001b[0m\u001b[0mf_frame_value\u001b[0m\u001b[0;34m.\u001b[0m\u001b[0mread\u001b[0m\u001b[0;34m(\u001b[0m\u001b[0;34m)\u001b[0m \u001b[0;34m/\u001b[0m \u001b[0;36m1e6\u001b[0m\u001b[0;34m)\u001b[0m\u001b[0;34m,\u001b[0m \u001b[0mend\u001b[0m\u001b[0;34m=\u001b[0m\u001b[0;34m\"\"\u001b[0m\u001b[0;34m)\u001b[0m\u001b[0;34m\u001b[0m\u001b[0m\n\u001b[0m",
      "\u001b[0;32m~/fpga_wsp/litex/litex/soc/tools/remote/csr_builder.py\u001b[0m in \u001b[0;36m__getattr__\u001b[0;34m(self, attr)\u001b[0m\n\u001b[1;32m     15\u001b[0m         \u001b[0;32mexcept\u001b[0m \u001b[0mKeyError\u001b[0m\u001b[0;34m:\u001b[0m\u001b[0;34m\u001b[0m\u001b[0m\n\u001b[1;32m     16\u001b[0m             \u001b[0;32mpass\u001b[0m\u001b[0;34m\u001b[0m\u001b[0m\n\u001b[0;32m---> 17\u001b[0;31m         \u001b[0;32mraise\u001b[0m \u001b[0mAttributeError\u001b[0m\u001b[0;34m(\u001b[0m\u001b[0;34m\"No such element \"\u001b[0m \u001b[0;34m+\u001b[0m \u001b[0mattr\u001b[0m\u001b[0;34m)\u001b[0m\u001b[0;34m\u001b[0m\u001b[0m\n\u001b[0m\u001b[1;32m     18\u001b[0m \u001b[0;34m\u001b[0m\u001b[0m\n\u001b[1;32m     19\u001b[0m \u001b[0;34m\u001b[0m\u001b[0m\n",
      "\u001b[0;31mAttributeError\u001b[0m: No such element f_frame_value"
     ]
    }
   ],
   "source": [
    "#while True:\n",
    "#    time.sleep(0.5)\n",
    "print(\"\\r{:9.6f} MHz\".format(r.regs.f_frame_value.read() / 1e6), end=\"\")"
   ]
  },
  {
   "cell_type": "code",
   "execution_count": 68,
   "metadata": {},
   "outputs": [
    {
     "data": {
      "text/plain": [
       "'10101111'"
      ]
     },
     "execution_count": 68,
     "metadata": {},
     "output_type": "execute_result"
    }
   ],
   "source": [
    "\"{:08b}\".format(0xAF)"
   ]
  },
  {
   "cell_type": "code",
   "execution_count": 69,
   "metadata": {},
   "outputs": [
    {
     "data": {
      "text/plain": [
       "'01010111'"
      ]
     },
     "execution_count": 69,
     "metadata": {},
     "output_type": "execute_result"
    }
   ],
   "source": [
    "\"{:08b}\".format(0x57)"
   ]
  },
  {
   "cell_type": "code",
   "execution_count": 160,
   "metadata": {},
   "outputs": [
    {
     "name": "stdout",
     "output_type": "stream",
     "text": [
      "0xf0\n",
      "11110000\n"
     ]
    }
   ],
   "source": [
    "rVal = r.regs.lvds_clk_peek.read()\n",
    "print(hex(rVal))\n",
    "print(\"{:08b}\".format(rVal))"
   ]
  },
  {
   "cell_type": "code",
   "execution_count": 166,
   "metadata": {},
   "outputs": [
    {
     "name": "stdout",
     "output_type": "stream",
     "text": [
      "0x85\n",
      "10000101\n",
      "00100011\n"
     ]
    }
   ],
   "source": [
    "rVal = r.regs.lvds_data_peek.read()\n",
    "print(hex(rVal))\n",
    "print(\"{:08b}\".format(rVal))\n",
    "print(\"00100011\")"
   ]
  },
  {
   "cell_type": "code",
   "execution_count": 108,
   "metadata": {},
   "outputs": [],
   "source": [
    "r.regs.lvds_bitslip_csr.write(1)"
   ]
  },
  {
   "cell_type": "code",
   "execution_count": 400,
   "metadata": {},
   "outputs": [],
   "source": [
    "def sign_extend(value, bits):\n",
    "    sign_bit = 1 << (bits - 1)\n",
    "    return (value & (sign_bit - 1)) - (value & sign_bit)"
   ]
  },
  {
   "cell_type": "code",
   "execution_count": 624,
   "metadata": {},
   "outputs": [
    {
     "name": "stdout",
     "output_type": "stream",
     "text": [
      "4 0\n"
     ]
    }
   ],
   "source": [
    "a = sign_extend(r.regs.lvds_idelay_a.read(), 9)\n",
    "b = sign_extend(r.regs.lvds_idelay_b.read(), 9)\n",
    "print(a, b)"
   ]
  },
  {
   "cell_type": "code",
   "execution_count": 314,
   "metadata": {},
   "outputs": [],
   "source": [
    "a = [1, 3, 5, 7, 9, 11, 13, 15]\n",
    "b = [0, 2, 4, 6, 8, 10, 12, 14]"
   ]
  },
  {
   "cell_type": "code",
   "execution_count": 320,
   "metadata": {},
   "outputs": [
    {
     "data": {
      "text/plain": [
       "[15, 13, 11, 9, 7, 5, 3, 1, 14, 12, 10, 8, 6, 4, 2, 0]"
      ]
     },
     "execution_count": 320,
     "metadata": {},
     "output_type": "execute_result"
    }
   ],
   "source": [
    "out = a[::-1] + b[::-1]\n",
    "out"
   ]
  },
  {
   "cell_type": "code",
   "execution_count": 340,
   "metadata": {},
   "outputs": [],
   "source": [
    "def myzip(*vals):\n",
    "    return [i for t in zip(*vals) for i in t]"
   ]
  },
  {
   "cell_type": "code",
   "execution_count": 342,
   "metadata": {},
   "outputs": [
    {
     "data": {
      "text/plain": [
       "[0, 1, 2, 3, 4, 5, 6, 7, 8, 9, 10, 11, 12, 13, 14, 15]"
      ]
     },
     "execution_count": 342,
     "metadata": {},
     "output_type": "execute_result"
    }
   ],
   "source": [
    "myzip(out[:8], out[8:])[::-1]"
   ]
  },
  {
   "cell_type": "code",
   "execution_count": null,
   "metadata": {},
   "outputs": [],
   "source": []
  },
  {
   "cell_type": "code",
   "execution_count": 42,
   "metadata": {},
   "outputs": [],
   "source": [
    "r.close()"
   ]
  },
  {
   "cell_type": "code",
   "execution_count": null,
   "metadata": {},
   "outputs": [],
   "source": []
  }
 ],
 "metadata": {
  "kernelspec": {
   "display_name": "Python 3",
   "language": "python",
   "name": "python3"
  },
  "language_info": {
   "codemirror_mode": {
    "name": "ipython",
    "version": 3
   },
   "file_extension": ".py",
   "mimetype": "text/x-python",
   "name": "python",
   "nbconvert_exporter": "python",
   "pygments_lexer": "ipython3",
   "version": "3.6.6"
  }
 },
 "nbformat": 4,
 "nbformat_minor": 2
}
