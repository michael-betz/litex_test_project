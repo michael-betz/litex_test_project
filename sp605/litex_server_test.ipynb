{
 "cells": [
  {
   "cell_type": "code",
   "execution_count": 13,
   "metadata": {},
   "outputs": [
    {
     "name": "stdout",
     "output_type": "stream",
     "text": [
      "Starting job # 2 in a separate thread.\n"
     ]
    }
   ],
   "source": [
    "%%script bash --bg --out stdout\n",
    "litex_server uart /dev/ttyUSB0 115200"
   ]
  },
  {
   "cell_type": "code",
   "execution_count": 18,
   "metadata": {},
   "outputs": [
    {
     "name": "stdout",
     "output_type": "stream",
     "text": [
      "[]\n"
     ]
    }
   ],
   "source": [
    "print(stdout.readlines())"
   ]
  },
  {
   "cell_type": "code",
   "execution_count": 143,
   "metadata": {},
   "outputs": [],
   "source": [
    "from litex.soc.tools.remote import RemoteClient\n",
    "from struct import pack, unpack\n",
    "import time"
   ]
  },
  {
   "cell_type": "code",
   "execution_count": 164,
   "metadata": {},
   "outputs": [
    {
     "name": "stdout",
     "output_type": "stream",
     "text": [
      "Connected to Port 1234\n"
     ]
    }
   ],
   "source": [
    "for i in range(32):\n",
    "    try:\n",
    "        r = RemoteClient(csr_csv=\"build/csr.csv\", debug=False, port=1234 + i)\n",
    "        r.open()\n",
    "        print(\"Connected to Port\", 1234 + i)\n",
    "        break\n",
    "    except ConnectionRefusedError:\n",
    "        pass"
   ]
  },
  {
   "cell_type": "code",
   "execution_count": 165,
   "metadata": {},
   "outputs": [
    {
     "name": "stdout",
     "output_type": "stream",
     "text": [
      "0x12345678\n",
      "0xdeadbeef\n"
     ]
    }
   ],
   "source": [
    "print(hex(r.regs.ctrl_scratch.read()))\n",
    "r.regs.ctrl_scratch.write(0xDEADBEEF)\n",
    "print(hex(r.regs.ctrl_scratch.read()))"
   ]
  },
  {
   "cell_type": "code",
   "execution_count": 155,
   "metadata": {
    "scrolled": true
   },
   "outputs": [
    {
     "data": {
      "text/plain": [
       "'Wir trampeln durchs Getreide ... 2019-03-20 20:31:38'"
      ]
     },
     "execution_count": 155,
     "metadata": {},
     "output_type": "execute_result"
    }
   ],
   "source": [
    "def getId():\n",
    "    s = \"\"\n",
    "    for i in range(64):\n",
    "        temp = r.read(r.bases.identifier_mem + i * 4)\n",
    "        if temp == 0:\n",
    "            break\n",
    "        s += chr(temp & 0xFF)\n",
    "    return s\n",
    "getId()"
   ]
  },
  {
   "cell_type": "markdown",
   "metadata": {},
   "source": [
    "# SPI"
   ]
  },
  {
   "cell_type": "markdown",
   "metadata": {},
   "source": [
    "\n",
    "    config signal:\n",
    "        1 offline: all pins high-z (reset=1)\n",
    "        1 active: cs/transfer active (read-only)\n",
    "        1 pending: transfer pending in intermediate buffer (read-only)\n",
    "        1 cs_polarity: active level of chip select (reset=0)\n",
    "        1 clk_polarity: idle level of clk (reset=0)\n",
    "        1 clk_phase: first edge after cs assertion to sample data on (reset=0)\n",
    "            (clk_polarity, clk_phase) == (CPOL, CPHA) in Freescale language.\n",
    "            (0, 0): idle low, output on falling, input on rising\n",
    "            (0, 1): idle low, output on rising, input on falling\n",
    "            (1, 0): idle high, output on rising, input on falling\n",
    "            (1, 1): idle high, output on falling, input on rising\n",
    "            There is never a clk edge during a cs edge.\n",
    "        1 lsb_first: LSB is the first bit on the wire (reset=0)\n",
    "        1 half_duplex: 3-wire SPI, in/out on mosi (reset=0)\n",
    "        8 undefined\n",
    "        8 div_write: counter load value to divide this module's clock\n",
    "            to generate the SPI write clk (reset=0)\n",
    "            f_clk/f_spi_write == div_write + 2\n",
    "        8 div_read: ditto for the read clock"
   ]
  },
  {
   "cell_type": "markdown",
   "metadata": {},
   "source": [
    "    xfer_config signal:\n",
    "        16 cs: active high bit mask of chip selects to assert (reset=0)\n",
    "        6 write_len: 0-M bits (reset=0)\n",
    "        2 undefined\n",
    "        6 read_len: 0-M bits (reset=0)\n",
    "        2 undefined"
   ]
  },
  {
   "cell_type": "code",
   "execution_count": 156,
   "metadata": {},
   "outputs": [],
   "source": [
    "r.regs.spi_config.write(0xFFFF0000)\n",
    "# 16 bit write transfer (includes read as is 4 wire)\n",
    "r.regs.spi_xfer.write(0x0010FFFF)"
   ]
  },
  {
   "cell_type": "code",
   "execution_count": 27,
   "metadata": {},
   "outputs": [
    {
     "name": "stdout",
     "output_type": "stream",
     "text": [
      "0x82800000\n",
      "0x82800001\n"
     ]
    }
   ],
   "source": [
    "rw = 1\n",
    "adr = 0x02\n",
    "data = 0x80\n",
    "word = (rw<<15) | (adr<<8) | (data & 0xFF)\n",
    "word <<= 16\n",
    "print(hex(word))\n",
    "\n",
    "r.regs.spi_mosi_data.write(word)\n",
    "r.regs.spi_start.write(1)\n",
    "\n",
    "print(hex(r.regs.spi_miso_data.read()))"
   ]
  },
  {
   "cell_type": "code",
   "execution_count": 157,
   "metadata": {},
   "outputs": [],
   "source": [
    "def set_ltc_reg(adr, val):\n",
    "    word = (0 << 15) | ((adr & 0x7F) << 8) | (val & 0xFF)\n",
    "    word <<= 16\n",
    "    r.regs.spi_mosi_data.write(word)\n",
    "    r.regs.spi_start.write(1)\n",
    "\n",
    "def get_ltc_reg(adr):\n",
    "    word = (1 << 15) | ((adr & 0x7F) << 8)\n",
    "    word <<= 16\n",
    "    r.regs.spi_mosi_data.write(word)\n",
    "    r.regs.spi_start.write(1)\n",
    "    return r.regs.spi_miso_data.read() & 0xFF"
   ]
  },
  {
   "cell_type": "code",
   "execution_count": 160,
   "metadata": {},
   "outputs": [
    {
     "name": "stdout",
     "output_type": "stream",
     "text": [
      " 0: 00\n",
      " 1: 00\n",
      " 2: 00\n",
      " 3: 00\n",
      " 4: 00\n"
     ]
    }
   ],
   "source": [
    "for i in range(5):\n",
    "    print(\"{:2x}: {:02x}\".format(i, get_ltc_reg(i)))"
   ]
  },
  {
   "cell_type": "code",
   "execution_count": 159,
   "metadata": {},
   "outputs": [],
   "source": [
    "set_ltc_reg(0, 0x80)   # Software reset"
   ]
  },
  {
   "cell_type": "code",
   "execution_count": 32,
   "metadata": {},
   "outputs": [],
   "source": [
    "set_ltc_reg(1, 0x10)   # Sleep mode"
   ]
  },
  {
   "cell_type": "code",
   "execution_count": 33,
   "metadata": {},
   "outputs": [],
   "source": [
    "set_ltc_reg(1, 0x00)   # Waky waky"
   ]
  },
  {
   "cell_type": "code",
   "execution_count": 36,
   "metadata": {},
   "outputs": [],
   "source": [
    "tpValue = 0x3456\n",
    "set_ltc_reg(3, (1<<7) | tpValue >> 8)   # Test pattern on + value MSB\n",
    "set_ltc_reg(4, tpValue & 0xFF)          # Test pattern value LSB"
   ]
  },
  {
   "cell_type": "code",
   "execution_count": 161,
   "metadata": {},
   "outputs": [
    {
     "data": {
      "text/plain": [
       "'0x0'"
      ]
     },
     "execution_count": 161,
     "metadata": {},
     "output_type": "execute_result"
    }
   ],
   "source": [
    "hex((get_ltc_reg(3) & 0x3F) << 8 | get_ltc_reg(4))"
   ]
  },
  {
   "cell_type": "markdown",
   "metadata": {},
   "source": [
    "# FRM clock frequency"
   ]
  },
  {
   "cell_type": "code",
   "execution_count": null,
   "metadata": {
    "scrolled": true
   },
   "outputs": [
    {
     "name": "stdout",
     "output_type": "stream",
     "text": [
      "        0"
     ]
    }
   ],
   "source": [
    "while True:\n",
    "    time.sleep(0.5)\n",
    "    print(\"\\r{:9d}\".format(r.regs.f_frame_value.read()), end=\"\")"
   ]
  },
  {
   "cell_type": "code",
   "execution_count": 50,
   "metadata": {},
   "outputs": [],
   "source": [
    "r.close()"
   ]
  }
 ],
 "metadata": {
  "kernelspec": {
   "display_name": "Python 3",
   "language": "python",
   "name": "python3"
  },
  "language_info": {
   "codemirror_mode": {
    "name": "ipython",
    "version": 3
   },
   "file_extension": ".py",
   "mimetype": "text/x-python",
   "name": "python",
   "nbconvert_exporter": "python",
   "pygments_lexer": "ipython3",
   "version": "3.7.2+"
  }
 },
 "nbformat": 4,
 "nbformat_minor": 2
}
