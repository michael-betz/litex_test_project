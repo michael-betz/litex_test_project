{
 "cells": [
  {
   "cell_type": "markdown",
   "metadata": {},
   "source": [
    "Start this first\n",
    "```bash\n",
    "$ litex_server uart /dev/ttyUSB0 115200\n",
    "```"
   ]
  },
  {
   "cell_type": "code",
   "execution_count": 1,
   "metadata": {},
   "outputs": [
    {
     "name": "stdout",
     "output_type": "stream",
     "text": [
      "Populating the interactive namespace from numpy and matplotlib\n"
     ]
    }
   ],
   "source": [
    "%pylab notebook\n",
    "from litex.soc.tools.remote import RemoteClient\n",
    "from struct import pack, unpack\n",
    "import time"
   ]
  },
  {
   "cell_type": "code",
   "execution_count": 72,
   "metadata": {},
   "outputs": [
    {
     "name": "stdout",
     "output_type": "stream",
     "text": [
      "Connected to Port 1234\n"
     ]
    },
    {
     "data": {
      "text/plain": [
       "'Wir trampeln durchs Getreide ... 2019-04-04 11:08:58'"
      ]
     },
     "execution_count": 72,
     "metadata": {},
     "output_type": "execute_result"
    }
   ],
   "source": [
    "for i in range(32):\n",
    "    try:\n",
    "        r = RemoteClient(csr_csv=\"build/csr.csv\", debug=False, port=1234 + i)\n",
    "        r.open()\n",
    "        print(\"Connected to Port\", 1234 + i)\n",
    "        break\n",
    "    except ConnectionRefusedError:\n",
    "        pass\n",
    "\n",
    "def getId():\n",
    "    s = \"\"\n",
    "    for i in range(64):\n",
    "        temp = r.read(r.bases.identifier_mem + i * 4)\n",
    "        if temp == 0:\n",
    "            break\n",
    "        s += chr(temp & 0xFF)\n",
    "    return s\n",
    "getId()"
   ]
  },
  {
   "cell_type": "markdown",
   "metadata": {},
   "source": [
    "# SPI config memo\n",
    "\n",
    "\n",
    "    config signal:\n",
    "        1 offline: all pins high-z (reset=1)\n",
    "        1 active: cs/transfer active (read-only)\n",
    "        1 pending: transfer pending in intermediate buffer (read-only)\n",
    "        1 cs_polarity: active level of chip select (reset=0)\n",
    "        1 clk_polarity: idle level of clk (reset=0)\n",
    "        1 clk_phase: first edge after cs assertion to sample data on (reset=0)\n",
    "            (clk_polarity, clk_phase) == (CPOL, CPHA) in Freescale language.\n",
    "            (0, 0): idle low, output on falling, input on rising\n",
    "            (0, 1): idle low, output on rising, input on falling\n",
    "            (1, 0): idle high, output on rising, input on falling\n",
    "            (1, 1): idle high, output on falling, input on rising\n",
    "            There is never a clk edge during a cs edge.\n",
    "        1 lsb_first: LSB is the first bit on the wire (reset=0)\n",
    "        1 half_duplex: 3-wire SPI, in/out on mosi (reset=0)\n",
    "        8 undefined\n",
    "        8 div_write: counter load value to divide this module's clock\n",
    "            to generate the SPI write clk (reset=0)\n",
    "            f_clk/f_spi_write == div_write + 2\n",
    "        8 div_read: ditto for the read clock\n",
    "\n",
    "    xfer_config signal:\n",
    "        16 cs: active high bit mask of chip selects to assert (reset=0)\n",
    "        6 write_len: 0-M bits (reset=0)\n",
    "        2 undefined\n",
    "        6 read_len: 0-M bits (reset=0)\n",
    "        2 undefined"
   ]
  },
  {
   "cell_type": "markdown",
   "metadata": {},
   "source": [
    "# Setup SPI"
   ]
  },
  {
   "cell_type": "code",
   "execution_count": 73,
   "metadata": {},
   "outputs": [],
   "source": [
    "r.regs.spi_config.write(0xFFFF0000)\n",
    "# 16 bit write transfer (includes read as is 4 wire)\n",
    "r.regs.spi_xfer.write(0x0010FFFF)\n",
    "\n",
    "def set_ltc_reg(adr, val):\n",
    "    word = (0 << 15) | ((adr & 0x7F) << 8) | (val & 0xFF)\n",
    "    word <<= 16\n",
    "    r.regs.spi_mosi_data.write(word)\n",
    "    r.regs.spi_start.write(1)\n",
    "\n",
    "def get_ltc_reg(adr):\n",
    "    word = (1 << 15) | ((adr & 0x7F) << 8)\n",
    "    word <<= 16\n",
    "    r.regs.spi_mosi_data.write(word)\n",
    "    r.regs.spi_start.write(1)\n",
    "    return r.regs.spi_miso_data.read() & 0xFF\n",
    "\n",
    "def setTp(tpValue):\n",
    "    set_ltc_reg(3, (1<<7) | tpValue >> 8)   # Test pattern on + value MSB\n",
    "    set_ltc_reg(4, tpValue & 0xFF)          # Test pattern value LSB\n",
    "    \n",
    "def myzip(*vals):\n",
    "    \"\"\"\n",
    "    interleave elements in a flattened list\n",
    "\n",
    "    >>> myzip([1,2,3], ['a', 'b', 'c'])\n",
    "    [1, 'a', 2, 'b', 3, 'c']\n",
    "    \"\"\"\n",
    "    return [i for t in zip(*vals) for i in t]\n",
    "\n",
    "def getInt32(I):\n",
    "    \"\"\" \n",
    "    recover sign from twos complement integer\n",
    "    >>> getInt32(0xFFFFFFFF)\n",
    "    -1\n",
    "    \"\"\"\n",
    "    return unpack(\"i\", pack(\"I\", I))[0]"
   ]
  },
  {
   "cell_type": "markdown",
   "metadata": {},
   "source": [
    "# Dump LTC2175 registers"
   ]
  },
  {
   "cell_type": "code",
   "execution_count": 74,
   "metadata": {},
   "outputs": [
    {
     "name": "stdout",
     "output_type": "stream",
     "text": [
      " 0: 00\n",
      " 1: 00\n",
      " 2: 00\n",
      " 3: 00\n",
      " 4: 00\n"
     ]
    }
   ],
   "source": [
    "for i in range(5):\n",
    "    print(\"{:2x}: {:02x}\".format(i, get_ltc_reg(i)))"
   ]
  },
  {
   "cell_type": "code",
   "execution_count": 75,
   "metadata": {},
   "outputs": [],
   "source": [
    "set_ltc_reg(0, 0x80)   # Software reset"
   ]
  },
  {
   "cell_type": "code",
   "execution_count": 8,
   "metadata": {},
   "outputs": [],
   "source": [
    "set_ltc_reg(1, 0x10)   # Sleep mode"
   ]
  },
  {
   "cell_type": "code",
   "execution_count": 16,
   "metadata": {},
   "outputs": [],
   "source": [
    "set_ltc_reg(1, 0x00)   # Waky waky"
   ]
  },
  {
   "cell_type": "markdown",
   "metadata": {},
   "source": [
    "# Measure sample clock frequency [Hz]"
   ]
  },
  {
   "cell_type": "code",
   "execution_count": 76,
   "metadata": {},
   "outputs": [
    {
     "data": {
      "text/plain": [
       "114285714"
      ]
     },
     "execution_count": 76,
     "metadata": {},
     "output_type": "execute_result"
    }
   ],
   "source": [
    "r.regs.lvds_f_sample_value.read()"
   ]
  },
  {
   "cell_type": "markdown",
   "metadata": {},
   "source": [
    "# Read and align clock data"
   ]
  },
  {
   "cell_type": "code",
   "execution_count": 80,
   "metadata": {},
   "outputs": [
    {
     "name": "stdout",
     "output_type": "stream",
     "text": [
      "0x0F 0b00001111\n"
     ]
    }
   ],
   "source": [
    "rVal = r.regs.lvds_clk_peek.read()\n",
    "print(\"0x{0:02X} 0b{0:08b}\".format(rVal))"
   ]
  },
  {
   "cell_type": "markdown",
   "metadata": {},
   "source": [
    "do a bitslip until we get 0x0F"
   ]
  },
  {
   "cell_type": "code",
   "execution_count": 79,
   "metadata": {},
   "outputs": [],
   "source": [
    "r.regs.lvds_bitslip_csr.write(1)"
   ]
  },
  {
   "cell_type": "markdown",
   "metadata": {},
   "source": [
    "# Map data lanes\n",
    "Check that each bit in the test-pattern end up in the right place in the output word"
   ]
  },
  {
   "cell_type": "code",
   "execution_count": 81,
   "metadata": {},
   "outputs": [
    {
     "name": "stdout",
     "output_type": "stream",
     "text": [
      "0000000000000001 0000000000000100\n",
      "0000000000000010 0000000000001000\n",
      "0000000000000100 0000000000010000\n",
      "0000000000001000 0000000000100000\n",
      "0000000000010000 0000000001000000\n",
      "0000000000100000 0000000010000000\n",
      "0000000001000000 0000000100000000\n",
      "0000000010000000 0000001000000000\n",
      "0000000100000000 0000010000000000\n",
      "0000001000000000 0000100000000000\n",
      "0000010000000000 0001000000000000\n",
      "0000100000000000 0010000000000000\n",
      "0001000000000000 0100000000000000\n",
      "0010000000000000 1000000000000000\n"
     ]
    }
   ],
   "source": [
    "for i in range(14):\n",
    "    tpValue = 1 << i\n",
    "    setTp(tpValue)\n",
    "    rVal = r.regs.lvds_data_peek.read()\n",
    "    print(\"{:016b} {:016b}\".format(tpValue, rVal))"
   ]
  },
  {
   "cell_type": "markdown",
   "metadata": {},
   "source": [
    "# Read ADC sample"
   ]
  },
  {
   "cell_type": "code",
   "execution_count": 82,
   "metadata": {},
   "outputs": [],
   "source": [
    "set_ltc_reg(3, 0)   # Test pattern off\n",
    "set_ltc_reg(1, 0)   # Randomizer off"
   ]
  },
  {
   "cell_type": "code",
   "execution_count": 86,
   "metadata": {},
   "outputs": [
    {
     "name": "stdout",
     "output_type": "stream",
     "text": [
      "0x7fe 0b011111111110\n",
      "-2\n"
     ]
    }
   ],
   "source": [
    "# Lowest 2 bits are always zero in 16 bit LVDS mode\n",
    "# 12 bit ADC, so next 2 bits are also zero\n",
    "rVal = r.regs.lvds_data_peek.read() >> 4\n",
    "print(\"0x{0:03x} 0b{0:012b}\".format(rVal))\n",
    "# Decode offset binary mode\n",
    "print(rVal - (1 << 11))"
   ]
  },
  {
   "cell_type": "markdown",
   "metadata": {},
   "source": [
    "# Read randomized ADC sample"
   ]
  },
  {
   "cell_type": "code",
   "execution_count": 297,
   "metadata": {},
   "outputs": [],
   "source": [
    "set_ltc_reg(1, (1<<6))   # Randomizer on"
   ]
  },
  {
   "cell_type": "code",
   "execution_count": 304,
   "metadata": {},
   "outputs": [
    {
     "name": "stdout",
     "output_type": "stream",
     "text": [
      "0x734 0b011100110100\n",
      "-204\n"
     ]
    }
   ],
   "source": [
    "rVal = r.regs.lvds_data_peek.read() >> 4\n",
    "print(\"0x{0:03x} 0b{0:012b}\".format(rVal))\n",
    "# XOR LSB with any other bit\n",
    "if rVal & 0x01:\n",
    "    rVal ^= 0xFFE\n",
    "# Decode offset binary mode\n",
    "print(rVal - (1 << 11))"
   ]
  },
  {
   "cell_type": "markdown",
   "metadata": {},
   "source": [
    "# Read phase detectors\n",
    "Make sure to disable the test-pattern to get transitions on all LVDS lanes"
   ]
  },
  {
   "cell_type": "code",
   "execution_count": 87,
   "metadata": {},
   "outputs": [
    {
     "data": {
      "text/plain": [
       "33554432"
      ]
     },
     "execution_count": 87,
     "metadata": {},
     "output_type": "execute_result"
    }
   ],
   "source": [
    "integr = 2**25\n",
    "r.regs.lvds_pd_period_csr.write(integr)\n",
    "r.regs.lvds_pd_period_csr.read()"
   ]
  },
  {
   "cell_type": "code",
   "execution_count": 88,
   "metadata": {},
   "outputs": [],
   "source": [
    "def printPd():\n",
    "    val0 = getInt32(r.regs.lvds_pd_phase_0.read()) / integr\n",
    "    val1 = getInt32(r.regs.lvds_pd_phase_1.read()) / integr\n",
    "    print(\"\\r{:0.3f}  {:0.3f}          \".format(val0, val1), end=\"\")\n",
    "    return val0, val1"
   ]
  },
  {
   "cell_type": "code",
   "execution_count": 96,
   "metadata": {},
   "outputs": [
    {
     "name": "stdout",
     "output_type": "stream",
     "text": [
      "\r",
      "-0.569  -0.957          "
     ]
    }
   ],
   "source": [
    "val0, val1 = printPd()"
   ]
  },
  {
   "cell_type": "markdown",
   "metadata": {},
   "source": [
    "# Control Idelays manually"
   ]
  },
  {
   "cell_type": "code",
   "execution_count": 136,
   "metadata": {},
   "outputs": [],
   "source": [
    "r.regs.lvds_idelay_auto.write(0)"
   ]
  },
  {
   "cell_type": "code",
   "execution_count": 154,
   "metadata": {},
   "outputs": [
    {
     "data": {
      "text/plain": [
       "1"
      ]
     },
     "execution_count": 154,
     "metadata": {},
     "output_type": "execute_result"
    }
   ],
   "source": [
    "# Choose channel\n",
    "r.regs.lvds_idelay_mux.write(1)\n",
    "r.regs.lvds_idelay_mux.read()"
   ]
  },
  {
   "cell_type": "code",
   "execution_count": 155,
   "metadata": {},
   "outputs": [],
   "source": [
    "r.regs.lvds_idelay_inc.write(0)   # Increment delay"
   ]
  },
  {
   "cell_type": "code",
   "execution_count": 170,
   "metadata": {},
   "outputs": [],
   "source": [
    "r.regs.lvds_idelay_dec.write(0)   # Decrement delay"
   ]
  },
  {
   "cell_type": "code",
   "execution_count": 171,
   "metadata": {},
   "outputs": [
    {
     "name": "stdout",
     "output_type": "stream",
     "text": [
      "\r",
      "1.000  -1.000          "
     ]
    },
    {
     "data": {
      "text/plain": [
       "(0.999999463558197, -0.9999992549419403)"
      ]
     },
     "execution_count": 171,
     "metadata": {},
     "output_type": "execute_result"
    }
   ],
   "source": [
    "printPd()"
   ]
  },
  {
   "cell_type": "markdown",
   "metadata": {},
   "source": [
    "# Control Idelays automatically\n",
    "Let the gateware step up / down the idelays and monitor the phase detector values"
   ]
  },
  {
   "cell_type": "code",
   "execution_count": 172,
   "metadata": {},
   "outputs": [
    {
     "name": "stdout",
     "output_type": "stream",
     "text": [
      "0.030  -0.196           "
     ]
    },
    {
     "ename": "KeyboardInterrupt",
     "evalue": "",
     "output_type": "error",
     "traceback": [
      "\u001b[0;31m---------------------------------------------------------------------------\u001b[0m",
      "\u001b[0;31mKeyboardInterrupt\u001b[0m                         Traceback (most recent call last)",
      "\u001b[0;32m<ipython-input-172-995e2a211b3c>\u001b[0m in \u001b[0;36m<module>\u001b[0;34m\u001b[0m\n\u001b[1;32m      8\u001b[0m     \u001b[0mp0s\u001b[0m\u001b[0;34m.\u001b[0m\u001b[0mappend\u001b[0m\u001b[0;34m(\u001b[0m\u001b[0mval0\u001b[0m\u001b[0;34m)\u001b[0m\u001b[0;34m\u001b[0m\u001b[0m\n\u001b[1;32m      9\u001b[0m     \u001b[0mp1s\u001b[0m\u001b[0;34m.\u001b[0m\u001b[0mappend\u001b[0m\u001b[0;34m(\u001b[0m\u001b[0mval1\u001b[0m\u001b[0;34m)\u001b[0m\u001b[0;34m\u001b[0m\u001b[0m\n\u001b[0;32m---> 10\u001b[0;31m     \u001b[0mtime\u001b[0m\u001b[0;34m.\u001b[0m\u001b[0msleep\u001b[0m\u001b[0;34m(\u001b[0m\u001b[0;36m0.1\u001b[0m\u001b[0;34m)\u001b[0m\u001b[0;34m\u001b[0m\u001b[0m\n\u001b[0m",
      "\u001b[0;31mKeyboardInterrupt\u001b[0m: "
     ]
    }
   ],
   "source": [
    "# Enable / disable auto phase tracking mode\n",
    "r.regs.lvds_idelay_auto.write(1)\n",
    "# Print phase\n",
    "p0s = []\n",
    "p1s = []\n",
    "while True:\n",
    "    val0, val1 = printPd()\n",
    "    p0s.append(val0)\n",
    "    p1s.append(val1)\n",
    "    time.sleep(0.1)"
   ]
  },
  {
   "cell_type": "code",
   "execution_count": 173,
   "metadata": {},
   "outputs": [
    {
     "data": {
      "application/javascript": [
       "/* Put everything inside the global mpl namespace */\n",
       "window.mpl = {};\n",
       "\n",
       "\n",
       "mpl.get_websocket_type = function() {\n",
       "    if (typeof(WebSocket) !== 'undefined') {\n",
       "        return WebSocket;\n",
       "    } else if (typeof(MozWebSocket) !== 'undefined') {\n",
       "        return MozWebSocket;\n",
       "    } else {\n",
       "        alert('Your browser does not have WebSocket support.' +\n",
       "              'Please try Chrome, Safari or Firefox ≥ 6. ' +\n",
       "              'Firefox 4 and 5 are also supported but you ' +\n",
       "              'have to enable WebSockets in about:config.');\n",
       "    };\n",
       "}\n",
       "\n",
       "mpl.figure = function(figure_id, websocket, ondownload, parent_element) {\n",
       "    this.id = figure_id;\n",
       "\n",
       "    this.ws = websocket;\n",
       "\n",
       "    this.supports_binary = (this.ws.binaryType != undefined);\n",
       "\n",
       "    if (!this.supports_binary) {\n",
       "        var warnings = document.getElementById(\"mpl-warnings\");\n",
       "        if (warnings) {\n",
       "            warnings.style.display = 'block';\n",
       "            warnings.textContent = (\n",
       "                \"This browser does not support binary websocket messages. \" +\n",
       "                    \"Performance may be slow.\");\n",
       "        }\n",
       "    }\n",
       "\n",
       "    this.imageObj = new Image();\n",
       "\n",
       "    this.context = undefined;\n",
       "    this.message = undefined;\n",
       "    this.canvas = undefined;\n",
       "    this.rubberband_canvas = undefined;\n",
       "    this.rubberband_context = undefined;\n",
       "    this.format_dropdown = undefined;\n",
       "\n",
       "    this.image_mode = 'full';\n",
       "\n",
       "    this.root = $('<div/>');\n",
       "    this._root_extra_style(this.root)\n",
       "    this.root.attr('style', 'display: inline-block');\n",
       "\n",
       "    $(parent_element).append(this.root);\n",
       "\n",
       "    this._init_header(this);\n",
       "    this._init_canvas(this);\n",
       "    this._init_toolbar(this);\n",
       "\n",
       "    var fig = this;\n",
       "\n",
       "    this.waiting = false;\n",
       "\n",
       "    this.ws.onopen =  function () {\n",
       "            fig.send_message(\"supports_binary\", {value: fig.supports_binary});\n",
       "            fig.send_message(\"send_image_mode\", {});\n",
       "            if (mpl.ratio != 1) {\n",
       "                fig.send_message(\"set_dpi_ratio\", {'dpi_ratio': mpl.ratio});\n",
       "            }\n",
       "            fig.send_message(\"refresh\", {});\n",
       "        }\n",
       "\n",
       "    this.imageObj.onload = function() {\n",
       "            if (fig.image_mode == 'full') {\n",
       "                // Full images could contain transparency (where diff images\n",
       "                // almost always do), so we need to clear the canvas so that\n",
       "                // there is no ghosting.\n",
       "                fig.context.clearRect(0, 0, fig.canvas.width, fig.canvas.height);\n",
       "            }\n",
       "            fig.context.drawImage(fig.imageObj, 0, 0);\n",
       "        };\n",
       "\n",
       "    this.imageObj.onunload = function() {\n",
       "        fig.ws.close();\n",
       "    }\n",
       "\n",
       "    this.ws.onmessage = this._make_on_message_function(this);\n",
       "\n",
       "    this.ondownload = ondownload;\n",
       "}\n",
       "\n",
       "mpl.figure.prototype._init_header = function() {\n",
       "    var titlebar = $(\n",
       "        '<div class=\"ui-dialog-titlebar ui-widget-header ui-corner-all ' +\n",
       "        'ui-helper-clearfix\"/>');\n",
       "    var titletext = $(\n",
       "        '<div class=\"ui-dialog-title\" style=\"width: 100%; ' +\n",
       "        'text-align: center; padding: 3px;\"/>');\n",
       "    titlebar.append(titletext)\n",
       "    this.root.append(titlebar);\n",
       "    this.header = titletext[0];\n",
       "}\n",
       "\n",
       "\n",
       "\n",
       "mpl.figure.prototype._canvas_extra_style = function(canvas_div) {\n",
       "\n",
       "}\n",
       "\n",
       "\n",
       "mpl.figure.prototype._root_extra_style = function(canvas_div) {\n",
       "\n",
       "}\n",
       "\n",
       "mpl.figure.prototype._init_canvas = function() {\n",
       "    var fig = this;\n",
       "\n",
       "    var canvas_div = $('<div/>');\n",
       "\n",
       "    canvas_div.attr('style', 'position: relative; clear: both; outline: 0');\n",
       "\n",
       "    function canvas_keyboard_event(event) {\n",
       "        return fig.key_event(event, event['data']);\n",
       "    }\n",
       "\n",
       "    canvas_div.keydown('key_press', canvas_keyboard_event);\n",
       "    canvas_div.keyup('key_release', canvas_keyboard_event);\n",
       "    this.canvas_div = canvas_div\n",
       "    this._canvas_extra_style(canvas_div)\n",
       "    this.root.append(canvas_div);\n",
       "\n",
       "    var canvas = $('<canvas/>');\n",
       "    canvas.addClass('mpl-canvas');\n",
       "    canvas.attr('style', \"left: 0; top: 0; z-index: 0; outline: 0\")\n",
       "\n",
       "    this.canvas = canvas[0];\n",
       "    this.context = canvas[0].getContext(\"2d\");\n",
       "\n",
       "    var backingStore = this.context.backingStorePixelRatio ||\n",
       "\tthis.context.webkitBackingStorePixelRatio ||\n",
       "\tthis.context.mozBackingStorePixelRatio ||\n",
       "\tthis.context.msBackingStorePixelRatio ||\n",
       "\tthis.context.oBackingStorePixelRatio ||\n",
       "\tthis.context.backingStorePixelRatio || 1;\n",
       "\n",
       "    mpl.ratio = (window.devicePixelRatio || 1) / backingStore;\n",
       "\n",
       "    var rubberband = $('<canvas/>');\n",
       "    rubberband.attr('style', \"position: absolute; left: 0; top: 0; z-index: 1;\")\n",
       "\n",
       "    var pass_mouse_events = true;\n",
       "\n",
       "    canvas_div.resizable({\n",
       "        start: function(event, ui) {\n",
       "            pass_mouse_events = false;\n",
       "        },\n",
       "        resize: function(event, ui) {\n",
       "            fig.request_resize(ui.size.width, ui.size.height);\n",
       "        },\n",
       "        stop: function(event, ui) {\n",
       "            pass_mouse_events = true;\n",
       "            fig.request_resize(ui.size.width, ui.size.height);\n",
       "        },\n",
       "    });\n",
       "\n",
       "    function mouse_event_fn(event) {\n",
       "        if (pass_mouse_events)\n",
       "            return fig.mouse_event(event, event['data']);\n",
       "    }\n",
       "\n",
       "    rubberband.mousedown('button_press', mouse_event_fn);\n",
       "    rubberband.mouseup('button_release', mouse_event_fn);\n",
       "    // Throttle sequential mouse events to 1 every 20ms.\n",
       "    rubberband.mousemove('motion_notify', mouse_event_fn);\n",
       "\n",
       "    rubberband.mouseenter('figure_enter', mouse_event_fn);\n",
       "    rubberband.mouseleave('figure_leave', mouse_event_fn);\n",
       "\n",
       "    canvas_div.on(\"wheel\", function (event) {\n",
       "        event = event.originalEvent;\n",
       "        event['data'] = 'scroll'\n",
       "        if (event.deltaY < 0) {\n",
       "            event.step = 1;\n",
       "        } else {\n",
       "            event.step = -1;\n",
       "        }\n",
       "        mouse_event_fn(event);\n",
       "    });\n",
       "\n",
       "    canvas_div.append(canvas);\n",
       "    canvas_div.append(rubberband);\n",
       "\n",
       "    this.rubberband = rubberband;\n",
       "    this.rubberband_canvas = rubberband[0];\n",
       "    this.rubberband_context = rubberband[0].getContext(\"2d\");\n",
       "    this.rubberband_context.strokeStyle = \"#000000\";\n",
       "\n",
       "    this._resize_canvas = function(width, height) {\n",
       "        // Keep the size of the canvas, canvas container, and rubber band\n",
       "        // canvas in synch.\n",
       "        canvas_div.css('width', width)\n",
       "        canvas_div.css('height', height)\n",
       "\n",
       "        canvas.attr('width', width * mpl.ratio);\n",
       "        canvas.attr('height', height * mpl.ratio);\n",
       "        canvas.attr('style', 'width: ' + width + 'px; height: ' + height + 'px;');\n",
       "\n",
       "        rubberband.attr('width', width);\n",
       "        rubberband.attr('height', height);\n",
       "    }\n",
       "\n",
       "    // Set the figure to an initial 600x600px, this will subsequently be updated\n",
       "    // upon first draw.\n",
       "    this._resize_canvas(600, 600);\n",
       "\n",
       "    // Disable right mouse context menu.\n",
       "    $(this.rubberband_canvas).bind(\"contextmenu\",function(e){\n",
       "        return false;\n",
       "    });\n",
       "\n",
       "    function set_focus () {\n",
       "        canvas.focus();\n",
       "        canvas_div.focus();\n",
       "    }\n",
       "\n",
       "    window.setTimeout(set_focus, 100);\n",
       "}\n",
       "\n",
       "mpl.figure.prototype._init_toolbar = function() {\n",
       "    var fig = this;\n",
       "\n",
       "    var nav_element = $('<div/>')\n",
       "    nav_element.attr('style', 'width: 100%');\n",
       "    this.root.append(nav_element);\n",
       "\n",
       "    // Define a callback function for later on.\n",
       "    function toolbar_event(event) {\n",
       "        return fig.toolbar_button_onclick(event['data']);\n",
       "    }\n",
       "    function toolbar_mouse_event(event) {\n",
       "        return fig.toolbar_button_onmouseover(event['data']);\n",
       "    }\n",
       "\n",
       "    for(var toolbar_ind in mpl.toolbar_items) {\n",
       "        var name = mpl.toolbar_items[toolbar_ind][0];\n",
       "        var tooltip = mpl.toolbar_items[toolbar_ind][1];\n",
       "        var image = mpl.toolbar_items[toolbar_ind][2];\n",
       "        var method_name = mpl.toolbar_items[toolbar_ind][3];\n",
       "\n",
       "        if (!name) {\n",
       "            // put a spacer in here.\n",
       "            continue;\n",
       "        }\n",
       "        var button = $('<button/>');\n",
       "        button.addClass('ui-button ui-widget ui-state-default ui-corner-all ' +\n",
       "                        'ui-button-icon-only');\n",
       "        button.attr('role', 'button');\n",
       "        button.attr('aria-disabled', 'false');\n",
       "        button.click(method_name, toolbar_event);\n",
       "        button.mouseover(tooltip, toolbar_mouse_event);\n",
       "\n",
       "        var icon_img = $('<span/>');\n",
       "        icon_img.addClass('ui-button-icon-primary ui-icon');\n",
       "        icon_img.addClass(image);\n",
       "        icon_img.addClass('ui-corner-all');\n",
       "\n",
       "        var tooltip_span = $('<span/>');\n",
       "        tooltip_span.addClass('ui-button-text');\n",
       "        tooltip_span.html(tooltip);\n",
       "\n",
       "        button.append(icon_img);\n",
       "        button.append(tooltip_span);\n",
       "\n",
       "        nav_element.append(button);\n",
       "    }\n",
       "\n",
       "    var fmt_picker_span = $('<span/>');\n",
       "\n",
       "    var fmt_picker = $('<select/>');\n",
       "    fmt_picker.addClass('mpl-toolbar-option ui-widget ui-widget-content');\n",
       "    fmt_picker_span.append(fmt_picker);\n",
       "    nav_element.append(fmt_picker_span);\n",
       "    this.format_dropdown = fmt_picker[0];\n",
       "\n",
       "    for (var ind in mpl.extensions) {\n",
       "        var fmt = mpl.extensions[ind];\n",
       "        var option = $(\n",
       "            '<option/>', {selected: fmt === mpl.default_extension}).html(fmt);\n",
       "        fmt_picker.append(option)\n",
       "    }\n",
       "\n",
       "    // Add hover states to the ui-buttons\n",
       "    $( \".ui-button\" ).hover(\n",
       "        function() { $(this).addClass(\"ui-state-hover\");},\n",
       "        function() { $(this).removeClass(\"ui-state-hover\");}\n",
       "    );\n",
       "\n",
       "    var status_bar = $('<span class=\"mpl-message\"/>');\n",
       "    nav_element.append(status_bar);\n",
       "    this.message = status_bar[0];\n",
       "}\n",
       "\n",
       "mpl.figure.prototype.request_resize = function(x_pixels, y_pixels) {\n",
       "    // Request matplotlib to resize the figure. Matplotlib will then trigger a resize in the client,\n",
       "    // which will in turn request a refresh of the image.\n",
       "    this.send_message('resize', {'width': x_pixels, 'height': y_pixels});\n",
       "}\n",
       "\n",
       "mpl.figure.prototype.send_message = function(type, properties) {\n",
       "    properties['type'] = type;\n",
       "    properties['figure_id'] = this.id;\n",
       "    this.ws.send(JSON.stringify(properties));\n",
       "}\n",
       "\n",
       "mpl.figure.prototype.send_draw_message = function() {\n",
       "    if (!this.waiting) {\n",
       "        this.waiting = true;\n",
       "        this.ws.send(JSON.stringify({type: \"draw\", figure_id: this.id}));\n",
       "    }\n",
       "}\n",
       "\n",
       "\n",
       "mpl.figure.prototype.handle_save = function(fig, msg) {\n",
       "    var format_dropdown = fig.format_dropdown;\n",
       "    var format = format_dropdown.options[format_dropdown.selectedIndex].value;\n",
       "    fig.ondownload(fig, format);\n",
       "}\n",
       "\n",
       "\n",
       "mpl.figure.prototype.handle_resize = function(fig, msg) {\n",
       "    var size = msg['size'];\n",
       "    if (size[0] != fig.canvas.width || size[1] != fig.canvas.height) {\n",
       "        fig._resize_canvas(size[0], size[1]);\n",
       "        fig.send_message(\"refresh\", {});\n",
       "    };\n",
       "}\n",
       "\n",
       "mpl.figure.prototype.handle_rubberband = function(fig, msg) {\n",
       "    var x0 = msg['x0'] / mpl.ratio;\n",
       "    var y0 = (fig.canvas.height - msg['y0']) / mpl.ratio;\n",
       "    var x1 = msg['x1'] / mpl.ratio;\n",
       "    var y1 = (fig.canvas.height - msg['y1']) / mpl.ratio;\n",
       "    x0 = Math.floor(x0) + 0.5;\n",
       "    y0 = Math.floor(y0) + 0.5;\n",
       "    x1 = Math.floor(x1) + 0.5;\n",
       "    y1 = Math.floor(y1) + 0.5;\n",
       "    var min_x = Math.min(x0, x1);\n",
       "    var min_y = Math.min(y0, y1);\n",
       "    var width = Math.abs(x1 - x0);\n",
       "    var height = Math.abs(y1 - y0);\n",
       "\n",
       "    fig.rubberband_context.clearRect(\n",
       "        0, 0, fig.canvas.width, fig.canvas.height);\n",
       "\n",
       "    fig.rubberband_context.strokeRect(min_x, min_y, width, height);\n",
       "}\n",
       "\n",
       "mpl.figure.prototype.handle_figure_label = function(fig, msg) {\n",
       "    // Updates the figure title.\n",
       "    fig.header.textContent = msg['label'];\n",
       "}\n",
       "\n",
       "mpl.figure.prototype.handle_cursor = function(fig, msg) {\n",
       "    var cursor = msg['cursor'];\n",
       "    switch(cursor)\n",
       "    {\n",
       "    case 0:\n",
       "        cursor = 'pointer';\n",
       "        break;\n",
       "    case 1:\n",
       "        cursor = 'default';\n",
       "        break;\n",
       "    case 2:\n",
       "        cursor = 'crosshair';\n",
       "        break;\n",
       "    case 3:\n",
       "        cursor = 'move';\n",
       "        break;\n",
       "    }\n",
       "    fig.rubberband_canvas.style.cursor = cursor;\n",
       "}\n",
       "\n",
       "mpl.figure.prototype.handle_message = function(fig, msg) {\n",
       "    fig.message.textContent = msg['message'];\n",
       "}\n",
       "\n",
       "mpl.figure.prototype.handle_draw = function(fig, msg) {\n",
       "    // Request the server to send over a new figure.\n",
       "    fig.send_draw_message();\n",
       "}\n",
       "\n",
       "mpl.figure.prototype.handle_image_mode = function(fig, msg) {\n",
       "    fig.image_mode = msg['mode'];\n",
       "}\n",
       "\n",
       "mpl.figure.prototype.updated_canvas_event = function() {\n",
       "    // Called whenever the canvas gets updated.\n",
       "    this.send_message(\"ack\", {});\n",
       "}\n",
       "\n",
       "// A function to construct a web socket function for onmessage handling.\n",
       "// Called in the figure constructor.\n",
       "mpl.figure.prototype._make_on_message_function = function(fig) {\n",
       "    return function socket_on_message(evt) {\n",
       "        if (evt.data instanceof Blob) {\n",
       "            /* FIXME: We get \"Resource interpreted as Image but\n",
       "             * transferred with MIME type text/plain:\" errors on\n",
       "             * Chrome.  But how to set the MIME type?  It doesn't seem\n",
       "             * to be part of the websocket stream */\n",
       "            evt.data.type = \"image/png\";\n",
       "\n",
       "            /* Free the memory for the previous frames */\n",
       "            if (fig.imageObj.src) {\n",
       "                (window.URL || window.webkitURL).revokeObjectURL(\n",
       "                    fig.imageObj.src);\n",
       "            }\n",
       "\n",
       "            fig.imageObj.src = (window.URL || window.webkitURL).createObjectURL(\n",
       "                evt.data);\n",
       "            fig.updated_canvas_event();\n",
       "            fig.waiting = false;\n",
       "            return;\n",
       "        }\n",
       "        else if (typeof evt.data === 'string' && evt.data.slice(0, 21) == \"data:image/png;base64\") {\n",
       "            fig.imageObj.src = evt.data;\n",
       "            fig.updated_canvas_event();\n",
       "            fig.waiting = false;\n",
       "            return;\n",
       "        }\n",
       "\n",
       "        var msg = JSON.parse(evt.data);\n",
       "        var msg_type = msg['type'];\n",
       "\n",
       "        // Call the  \"handle_{type}\" callback, which takes\n",
       "        // the figure and JSON message as its only arguments.\n",
       "        try {\n",
       "            var callback = fig[\"handle_\" + msg_type];\n",
       "        } catch (e) {\n",
       "            console.log(\"No handler for the '\" + msg_type + \"' message type: \", msg);\n",
       "            return;\n",
       "        }\n",
       "\n",
       "        if (callback) {\n",
       "            try {\n",
       "                // console.log(\"Handling '\" + msg_type + \"' message: \", msg);\n",
       "                callback(fig, msg);\n",
       "            } catch (e) {\n",
       "                console.log(\"Exception inside the 'handler_\" + msg_type + \"' callback:\", e, e.stack, msg);\n",
       "            }\n",
       "        }\n",
       "    };\n",
       "}\n",
       "\n",
       "// from http://stackoverflow.com/questions/1114465/getting-mouse-location-in-canvas\n",
       "mpl.findpos = function(e) {\n",
       "    //this section is from http://www.quirksmode.org/js/events_properties.html\n",
       "    var targ;\n",
       "    if (!e)\n",
       "        e = window.event;\n",
       "    if (e.target)\n",
       "        targ = e.target;\n",
       "    else if (e.srcElement)\n",
       "        targ = e.srcElement;\n",
       "    if (targ.nodeType == 3) // defeat Safari bug\n",
       "        targ = targ.parentNode;\n",
       "\n",
       "    // jQuery normalizes the pageX and pageY\n",
       "    // pageX,Y are the mouse positions relative to the document\n",
       "    // offset() returns the position of the element relative to the document\n",
       "    var x = e.pageX - $(targ).offset().left;\n",
       "    var y = e.pageY - $(targ).offset().top;\n",
       "\n",
       "    return {\"x\": x, \"y\": y};\n",
       "};\n",
       "\n",
       "/*\n",
       " * return a copy of an object with only non-object keys\n",
       " * we need this to avoid circular references\n",
       " * http://stackoverflow.com/a/24161582/3208463\n",
       " */\n",
       "function simpleKeys (original) {\n",
       "  return Object.keys(original).reduce(function (obj, key) {\n",
       "    if (typeof original[key] !== 'object')\n",
       "        obj[key] = original[key]\n",
       "    return obj;\n",
       "  }, {});\n",
       "}\n",
       "\n",
       "mpl.figure.prototype.mouse_event = function(event, name) {\n",
       "    var canvas_pos = mpl.findpos(event)\n",
       "\n",
       "    if (name === 'button_press')\n",
       "    {\n",
       "        this.canvas.focus();\n",
       "        this.canvas_div.focus();\n",
       "    }\n",
       "\n",
       "    var x = canvas_pos.x * mpl.ratio;\n",
       "    var y = canvas_pos.y * mpl.ratio;\n",
       "\n",
       "    this.send_message(name, {x: x, y: y, button: event.button,\n",
       "                             step: event.step,\n",
       "                             guiEvent: simpleKeys(event)});\n",
       "\n",
       "    /* This prevents the web browser from automatically changing to\n",
       "     * the text insertion cursor when the button is pressed.  We want\n",
       "     * to control all of the cursor setting manually through the\n",
       "     * 'cursor' event from matplotlib */\n",
       "    event.preventDefault();\n",
       "    return false;\n",
       "}\n",
       "\n",
       "mpl.figure.prototype._key_event_extra = function(event, name) {\n",
       "    // Handle any extra behaviour associated with a key event\n",
       "}\n",
       "\n",
       "mpl.figure.prototype.key_event = function(event, name) {\n",
       "\n",
       "    // Prevent repeat events\n",
       "    if (name == 'key_press')\n",
       "    {\n",
       "        if (event.which === this._key)\n",
       "            return;\n",
       "        else\n",
       "            this._key = event.which;\n",
       "    }\n",
       "    if (name == 'key_release')\n",
       "        this._key = null;\n",
       "\n",
       "    var value = '';\n",
       "    if (event.ctrlKey && event.which != 17)\n",
       "        value += \"ctrl+\";\n",
       "    if (event.altKey && event.which != 18)\n",
       "        value += \"alt+\";\n",
       "    if (event.shiftKey && event.which != 16)\n",
       "        value += \"shift+\";\n",
       "\n",
       "    value += 'k';\n",
       "    value += event.which.toString();\n",
       "\n",
       "    this._key_event_extra(event, name);\n",
       "\n",
       "    this.send_message(name, {key: value,\n",
       "                             guiEvent: simpleKeys(event)});\n",
       "    return false;\n",
       "}\n",
       "\n",
       "mpl.figure.prototype.toolbar_button_onclick = function(name) {\n",
       "    if (name == 'download') {\n",
       "        this.handle_save(this, null);\n",
       "    } else {\n",
       "        this.send_message(\"toolbar_button\", {name: name});\n",
       "    }\n",
       "};\n",
       "\n",
       "mpl.figure.prototype.toolbar_button_onmouseover = function(tooltip) {\n",
       "    this.message.textContent = tooltip;\n",
       "};\n",
       "mpl.toolbar_items = [[\"Home\", \"Reset original view\", \"fa fa-home icon-home\", \"home\"], [\"Back\", \"Back to previous view\", \"fa fa-arrow-left icon-arrow-left\", \"back\"], [\"Forward\", \"Forward to next view\", \"fa fa-arrow-right icon-arrow-right\", \"forward\"], [\"\", \"\", \"\", \"\"], [\"Pan\", \"Pan axes with left mouse, zoom with right\", \"fa fa-arrows icon-move\", \"pan\"], [\"Zoom\", \"Zoom to rectangle\", \"fa fa-square-o icon-check-empty\", \"zoom\"], [\"\", \"\", \"\", \"\"], [\"Download\", \"Download plot\", \"fa fa-floppy-o icon-save\", \"download\"]];\n",
       "\n",
       "mpl.extensions = [\"eps\", \"jpeg\", \"pdf\", \"png\", \"ps\", \"raw\", \"svg\", \"tif\"];\n",
       "\n",
       "mpl.default_extension = \"png\";var comm_websocket_adapter = function(comm) {\n",
       "    // Create a \"websocket\"-like object which calls the given IPython comm\n",
       "    // object with the appropriate methods. Currently this is a non binary\n",
       "    // socket, so there is still some room for performance tuning.\n",
       "    var ws = {};\n",
       "\n",
       "    ws.close = function() {\n",
       "        comm.close()\n",
       "    };\n",
       "    ws.send = function(m) {\n",
       "        //console.log('sending', m);\n",
       "        comm.send(m);\n",
       "    };\n",
       "    // Register the callback with on_msg.\n",
       "    comm.on_msg(function(msg) {\n",
       "        //console.log('receiving', msg['content']['data'], msg);\n",
       "        // Pass the mpl event to the overridden (by mpl) onmessage function.\n",
       "        ws.onmessage(msg['content']['data'])\n",
       "    });\n",
       "    return ws;\n",
       "}\n",
       "\n",
       "mpl.mpl_figure_comm = function(comm, msg) {\n",
       "    // This is the function which gets called when the mpl process\n",
       "    // starts-up an IPython Comm through the \"matplotlib\" channel.\n",
       "\n",
       "    var id = msg.content.data.id;\n",
       "    // Get hold of the div created by the display call when the Comm\n",
       "    // socket was opened in Python.\n",
       "    var element = $(\"#\" + id);\n",
       "    var ws_proxy = comm_websocket_adapter(comm)\n",
       "\n",
       "    function ondownload(figure, format) {\n",
       "        window.open(figure.imageObj.src);\n",
       "    }\n",
       "\n",
       "    var fig = new mpl.figure(id, ws_proxy,\n",
       "                           ondownload,\n",
       "                           element.get(0));\n",
       "\n",
       "    // Call onopen now - mpl needs it, as it is assuming we've passed it a real\n",
       "    // web socket which is closed, not our websocket->open comm proxy.\n",
       "    ws_proxy.onopen();\n",
       "\n",
       "    fig.parent_element = element.get(0);\n",
       "    fig.cell_info = mpl.find_output_cell(\"<div id='\" + id + \"'></div>\");\n",
       "    if (!fig.cell_info) {\n",
       "        console.error(\"Failed to find cell for figure\", id, fig);\n",
       "        return;\n",
       "    }\n",
       "\n",
       "    var output_index = fig.cell_info[2]\n",
       "    var cell = fig.cell_info[0];\n",
       "\n",
       "};\n",
       "\n",
       "mpl.figure.prototype.handle_close = function(fig, msg) {\n",
       "    var width = fig.canvas.width/mpl.ratio\n",
       "    fig.root.unbind('remove')\n",
       "\n",
       "    // Update the output cell to use the data from the current canvas.\n",
       "    fig.push_to_output();\n",
       "    var dataURL = fig.canvas.toDataURL();\n",
       "    // Re-enable the keyboard manager in IPython - without this line, in FF,\n",
       "    // the notebook keyboard shortcuts fail.\n",
       "    IPython.keyboard_manager.enable()\n",
       "    $(fig.parent_element).html('<img src=\"' + dataURL + '\" width=\"' + width + '\">');\n",
       "    fig.close_ws(fig, msg);\n",
       "}\n",
       "\n",
       "mpl.figure.prototype.close_ws = function(fig, msg){\n",
       "    fig.send_message('closing', msg);\n",
       "    // fig.ws.close()\n",
       "}\n",
       "\n",
       "mpl.figure.prototype.push_to_output = function(remove_interactive) {\n",
       "    // Turn the data on the canvas into data in the output cell.\n",
       "    var width = this.canvas.width/mpl.ratio\n",
       "    var dataURL = this.canvas.toDataURL();\n",
       "    this.cell_info[1]['text/html'] = '<img src=\"' + dataURL + '\" width=\"' + width + '\">';\n",
       "}\n",
       "\n",
       "mpl.figure.prototype.updated_canvas_event = function() {\n",
       "    // Tell IPython that the notebook contents must change.\n",
       "    IPython.notebook.set_dirty(true);\n",
       "    this.send_message(\"ack\", {});\n",
       "    var fig = this;\n",
       "    // Wait a second, then push the new image to the DOM so\n",
       "    // that it is saved nicely (might be nice to debounce this).\n",
       "    setTimeout(function () { fig.push_to_output() }, 1000);\n",
       "}\n",
       "\n",
       "mpl.figure.prototype._init_toolbar = function() {\n",
       "    var fig = this;\n",
       "\n",
       "    var nav_element = $('<div/>')\n",
       "    nav_element.attr('style', 'width: 100%');\n",
       "    this.root.append(nav_element);\n",
       "\n",
       "    // Define a callback function for later on.\n",
       "    function toolbar_event(event) {\n",
       "        return fig.toolbar_button_onclick(event['data']);\n",
       "    }\n",
       "    function toolbar_mouse_event(event) {\n",
       "        return fig.toolbar_button_onmouseover(event['data']);\n",
       "    }\n",
       "\n",
       "    for(var toolbar_ind in mpl.toolbar_items){\n",
       "        var name = mpl.toolbar_items[toolbar_ind][0];\n",
       "        var tooltip = mpl.toolbar_items[toolbar_ind][1];\n",
       "        var image = mpl.toolbar_items[toolbar_ind][2];\n",
       "        var method_name = mpl.toolbar_items[toolbar_ind][3];\n",
       "\n",
       "        if (!name) { continue; };\n",
       "\n",
       "        var button = $('<button class=\"btn btn-default\" href=\"#\" title=\"' + name + '\"><i class=\"fa ' + image + ' fa-lg\"></i></button>');\n",
       "        button.click(method_name, toolbar_event);\n",
       "        button.mouseover(tooltip, toolbar_mouse_event);\n",
       "        nav_element.append(button);\n",
       "    }\n",
       "\n",
       "    // Add the status bar.\n",
       "    var status_bar = $('<span class=\"mpl-message\" style=\"text-align:right; float: right;\"/>');\n",
       "    nav_element.append(status_bar);\n",
       "    this.message = status_bar[0];\n",
       "\n",
       "    // Add the close button to the window.\n",
       "    var buttongrp = $('<div class=\"btn-group inline pull-right\"></div>');\n",
       "    var button = $('<button class=\"btn btn-mini btn-primary\" href=\"#\" title=\"Stop Interaction\"><i class=\"fa fa-power-off icon-remove icon-large\"></i></button>');\n",
       "    button.click(function (evt) { fig.handle_close(fig, {}); } );\n",
       "    button.mouseover('Stop Interaction', toolbar_mouse_event);\n",
       "    buttongrp.append(button);\n",
       "    var titlebar = this.root.find($('.ui-dialog-titlebar'));\n",
       "    titlebar.prepend(buttongrp);\n",
       "}\n",
       "\n",
       "mpl.figure.prototype._root_extra_style = function(el){\n",
       "    var fig = this\n",
       "    el.on(\"remove\", function(){\n",
       "\tfig.close_ws(fig, {});\n",
       "    });\n",
       "}\n",
       "\n",
       "mpl.figure.prototype._canvas_extra_style = function(el){\n",
       "    // this is important to make the div 'focusable\n",
       "    el.attr('tabindex', 0)\n",
       "    // reach out to IPython and tell the keyboard manager to turn it's self\n",
       "    // off when our div gets focus\n",
       "\n",
       "    // location in version 3\n",
       "    if (IPython.notebook.keyboard_manager) {\n",
       "        IPython.notebook.keyboard_manager.register_events(el);\n",
       "    }\n",
       "    else {\n",
       "        // location in version 2\n",
       "        IPython.keyboard_manager.register_events(el);\n",
       "    }\n",
       "\n",
       "}\n",
       "\n",
       "mpl.figure.prototype._key_event_extra = function(event, name) {\n",
       "    var manager = IPython.notebook.keyboard_manager;\n",
       "    if (!manager)\n",
       "        manager = IPython.keyboard_manager;\n",
       "\n",
       "    // Check for shift+enter\n",
       "    if (event.shiftKey && event.which == 13) {\n",
       "        this.canvas_div.blur();\n",
       "        event.shiftKey = false;\n",
       "        // Send a \"J\" for go to next cell\n",
       "        event.which = 74;\n",
       "        event.keyCode = 74;\n",
       "        manager.command_mode();\n",
       "        manager.handle_keydown(event);\n",
       "    }\n",
       "}\n",
       "\n",
       "mpl.figure.prototype.handle_save = function(fig, msg) {\n",
       "    fig.ondownload(fig, null);\n",
       "}\n",
       "\n",
       "\n",
       "mpl.find_output_cell = function(html_output) {\n",
       "    // Return the cell and output element which can be found *uniquely* in the notebook.\n",
       "    // Note - this is a bit hacky, but it is done because the \"notebook_saving.Notebook\"\n",
       "    // IPython event is triggered only after the cells have been serialised, which for\n",
       "    // our purposes (turning an active figure into a static one), is too late.\n",
       "    var cells = IPython.notebook.get_cells();\n",
       "    var ncells = cells.length;\n",
       "    for (var i=0; i<ncells; i++) {\n",
       "        var cell = cells[i];\n",
       "        if (cell.cell_type === 'code'){\n",
       "            for (var j=0; j<cell.output_area.outputs.length; j++) {\n",
       "                var data = cell.output_area.outputs[j];\n",
       "                if (data.data) {\n",
       "                    // IPython >= 3 moved mimebundle to data attribute of output\n",
       "                    data = data.data;\n",
       "                }\n",
       "                if (data['text/html'] == html_output) {\n",
       "                    return [cell, data, j];\n",
       "                }\n",
       "            }\n",
       "        }\n",
       "    }\n",
       "}\n",
       "\n",
       "// Register the function which deals with the matplotlib target/channel.\n",
       "// The kernel may be null if the page has been refreshed.\n",
       "if (IPython.notebook.kernel != null) {\n",
       "    IPython.notebook.kernel.comm_manager.register_target('matplotlib', mpl.mpl_figure_comm);\n",
       "}\n"
      ],
      "text/plain": [
       "<IPython.core.display.Javascript object>"
      ]
     },
     "metadata": {},
     "output_type": "display_data"
    },
    {
     "data": {
      "text/html": [
       "<img src=\"data:image/png;base64,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\" width=\"640\">"
      ],
      "text/plain": [
       "<IPython.core.display.HTML object>"
      ]
     },
     "metadata": {},
     "output_type": "display_data"
    },
    {
     "data": {
      "text/plain": [
       "[<matplotlib.lines.Line2D at 0x7fed003ac2e8>]"
      ]
     },
     "execution_count": 173,
     "metadata": {},
     "output_type": "execute_result"
    }
   ],
   "source": [
    "close(\"all\")\n",
    "plot(p0s, \"-o\")\n",
    "plot(p1s, \"-o\")"
   ]
  },
  {
   "cell_type": "code",
   "execution_count": 42,
   "metadata": {},
   "outputs": [],
   "source": [
    "r.close()"
   ]
  }
 ],
 "metadata": {
  "kernelspec": {
   "display_name": "Python 3",
   "language": "python",
   "name": "python3"
  },
  "language_info": {
   "codemirror_mode": {
    "name": "ipython",
    "version": 3
   },
   "file_extension": ".py",
   "mimetype": "text/x-python",
   "name": "python",
   "nbconvert_exporter": "python",
   "pygments_lexer": "ipython3",
   "version": "3.6.6"
  }
 },
 "nbformat": 4,
 "nbformat_minor": 2
}
