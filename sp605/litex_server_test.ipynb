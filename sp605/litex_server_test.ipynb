{
 "cells": [
  {
   "cell_type": "markdown",
   "metadata": {},
   "source": [
    "Start this first\n",
    "```bash\n",
    "$ litex_server uart /dev/ttyUSB0 1152000\n",
    "# or alternatively\n",
    "$ litex_server udp 192.168.1.50 1234\n",
    "```"
   ]
  },
  {
   "cell_type": "code",
   "execution_count": 22,
   "metadata": {},
   "outputs": [
    {
     "name": "stdout",
     "output_type": "stream",
     "text": [
      "Populating the interactive namespace from numpy and matplotlib\n"
     ]
    }
   ],
   "source": [
    "%pylab notebook\n",
    "from litex.soc.tools.remote import RemoteClient\n",
    "from struct import pack, unpack\n",
    "import time\n",
    "from scipy.signal import *"
   ]
  },
  {
   "cell_type": "code",
   "execution_count": 9,
   "metadata": {},
   "outputs": [
    {
     "name": "stdout",
     "output_type": "stream",
     "text": [
      "Connected to Port 1234\n"
     ]
    },
    {
     "data": {
      "text/plain": [
       "'LTC2175 demonstrator 2019-04-15 12:28:51'"
      ]
     },
     "execution_count": 9,
     "metadata": {},
     "output_type": "execute_result"
    }
   ],
   "source": [
    "for i in range(32):\n",
    "    try:\n",
    "        r = RemoteClient(csr_csv=\"build/csr.csv\", debug=False, port=1234 + i)\n",
    "        r.open()\n",
    "        print(\"Connected to Port\", 1234 + i)\n",
    "        break\n",
    "    except ConnectionRefusedError:\n",
    "        pass\n",
    "\n",
    "def getId():\n",
    "    s = \"\"\n",
    "    for i in range(64):\n",
    "        temp = r.read(r.bases.identifier_mem + i * 4)\n",
    "        if temp == 0:\n",
    "            break\n",
    "        s += chr(temp & 0xFF)\n",
    "    return s\n",
    "getId()"
   ]
  },
  {
   "cell_type": "markdown",
   "metadata": {},
   "source": [
    "# Setup SPI"
   ]
  },
  {
   "cell_type": "code",
   "execution_count": 10,
   "metadata": {},
   "outputs": [],
   "source": [
    "# config bits\n",
    "OFFLINE      = 0  # all pins high-z (reset=1)\n",
    "CS_POLARITY  = 3  # active level of chip select (reset=0)\n",
    "CLK_POLARITY = 4  # idle level of clk (reset=0)\n",
    "CLK_PHASE    = 5  # first edge after cs assertion to sample data on (reset=0)\n",
    "LSB_FIRST    = 6  # LSB is the first bit on the wire (reset=0)\n",
    "HALF_DUPLEX  = 7  # 3-wire SPI, in/out on mosi (reset=0)\n",
    "DIV_READ     = 16 # SPI read clk divider (reset=0)\n",
    "DIV_WRITE    = 24 # f_clk / f_spi_write == div_write + 2\n",
    "# xfer bits\n",
    "CS_MASK      =  0 # Active high bit mask of chip selects to assert (reset=0)\n",
    "WRITE_LENGTH = 16 # How many bits to write and ...\n",
    "READ_LENGTH  = 24 # when to switch over in half duplex mode\n",
    "\n",
    "r.regs.spi_config.write((0xFF << DIV_WRITE) | (0xFF << DIV_READ))\n",
    "\n",
    "# 16 bit write transfer (includes read as is 4 wire)\n",
    "r.regs.spi_xfer.write((0 << READ_LENGTH) | (0x10 << WRITE_LENGTH) | (0xFFFF << CS_MASK))\n",
    "\n",
    "def set_ltc_reg(adr, val):\n",
    "    word = (0 << 15) | ((adr & 0x7F) << 8) | (val & 0xFF)\n",
    "    word <<= 16\n",
    "    r.regs.spi_mosi_data.write(word)\n",
    "    r.regs.spi_start.write(1)\n",
    "\n",
    "def get_ltc_reg(adr):\n",
    "    word = (1 << 15) | ((adr & 0x7F) << 8)\n",
    "    word <<= 16\n",
    "    r.regs.spi_mosi_data.write(word)\n",
    "    r.regs.spi_start.write(1)\n",
    "    return r.regs.spi_miso_data.read() & 0xFF\n",
    "\n",
    "def setTp(tpValue):\n",
    "    set_ltc_reg(3, (1<<7) | tpValue >> 8)   # Test pattern on + value MSB\n",
    "    set_ltc_reg(4, tpValue & 0xFF)          # Test pattern value LSB\n",
    "    \n",
    "def myzip(*vals):\n",
    "    \"\"\"\n",
    "    interleave elements in a flattened list\n",
    "\n",
    "    >>> myzip([1,2,3], ['a', 'b', 'c'])\n",
    "    [1, 'a', 2, 'b', 3, 'c']\n",
    "    \"\"\"\n",
    "    return [i for t in zip(*vals) for i in t]\n",
    "\n",
    "def getInt32(I):\n",
    "    \"\"\" \n",
    "    recover sign from twos complement integer\n",
    "    >>> getInt32(0xFFFFFFFF)\n",
    "    -1\n",
    "    \"\"\"\n",
    "    return unpack(\"i\", pack(\"I\", I))[0]"
   ]
  },
  {
   "cell_type": "markdown",
   "metadata": {},
   "source": [
    "# Dump LTC2175 registers"
   ]
  },
  {
   "cell_type": "code",
   "execution_count": 11,
   "metadata": {},
   "outputs": [
    {
     "name": "stdout",
     "output_type": "stream",
     "text": [
      " 0: 00\n",
      " 1: 00\n",
      " 2: 00\n",
      " 3: a0\n",
      " 4: 00\n"
     ]
    }
   ],
   "source": [
    "for i in range(5):\n",
    "    print(\"{:2x}: {:02x}\".format(i, get_ltc_reg(i)))"
   ]
  },
  {
   "cell_type": "code",
   "execution_count": 12,
   "metadata": {},
   "outputs": [],
   "source": [
    "set_ltc_reg(0, 0x80)   # Software reset"
   ]
  },
  {
   "cell_type": "code",
   "execution_count": null,
   "metadata": {},
   "outputs": [],
   "source": [
    "set_ltc_reg(1, 0x10)   # Sleep mode"
   ]
  },
  {
   "cell_type": "code",
   "execution_count": null,
   "metadata": {},
   "outputs": [],
   "source": [
    "set_ltc_reg(1, 0x00)   # Waky waky"
   ]
  },
  {
   "cell_type": "markdown",
   "metadata": {},
   "source": [
    "# Measure sample clock frequency [Hz]"
   ]
  },
  {
   "cell_type": "code",
   "execution_count": 14,
   "metadata": {},
   "outputs": [
    {
     "data": {
      "text/plain": [
       "114285714.28571428"
      ]
     },
     "execution_count": 14,
     "metadata": {},
     "output_type": "execute_result"
    }
   ],
   "source": [
    "800e6 / 7"
   ]
  },
  {
   "cell_type": "code",
   "execution_count": 37,
   "metadata": {},
   "outputs": [
    {
     "data": {
      "text/plain": [
       "114285715"
      ]
     },
     "execution_count": 37,
     "metadata": {},
     "output_type": "execute_result"
    }
   ],
   "source": [
    "r.regs.lvds_f_sample_value.read()"
   ]
  },
  {
   "cell_type": "markdown",
   "metadata": {},
   "source": [
    "# Read and align clock data"
   ]
  },
  {
   "cell_type": "code",
   "execution_count": 15,
   "metadata": {},
   "outputs": [
    {
     "name": "stdout",
     "output_type": "stream",
     "text": [
      "0x0F 0b00001111\n"
     ]
    }
   ],
   "source": [
    "rVal = r.regs.lvds_clk_peek.read()\n",
    "print(\"0x{0:02X} 0b{0:08b}\".format(rVal))"
   ]
  },
  {
   "cell_type": "markdown",
   "metadata": {},
   "source": [
    "do a bitslip until we get 0x0F"
   ]
  },
  {
   "cell_type": "code",
   "execution_count": null,
   "metadata": {},
   "outputs": [],
   "source": [
    "r.regs.lvds_bitslip_csr.write(1)"
   ]
  },
  {
   "cell_type": "markdown",
   "metadata": {},
   "source": [
    "# Map data lanes\n",
    "Check that each bit in the test-pattern end up in the right place in the output word"
   ]
  },
  {
   "cell_type": "code",
   "execution_count": null,
   "metadata": {},
   "outputs": [],
   "source": [
    "for i in range(14):\n",
    "    tpValue = 1 << i\n",
    "    setTp(tpValue)\n",
    "    rVal = r.regs.lvds_data_peek.read()\n",
    "    print(\"{:016b} {:016b}\".format(tpValue, rVal))"
   ]
  },
  {
   "cell_type": "markdown",
   "metadata": {},
   "source": [
    "# Read ADC sample"
   ]
  },
  {
   "cell_type": "code",
   "execution_count": 16,
   "metadata": {},
   "outputs": [],
   "source": [
    "set_ltc_reg(3, 0)   # Test pattern off\n",
    "set_ltc_reg(1, 0)   # Randomizer off"
   ]
  },
  {
   "cell_type": "code",
   "execution_count": 17,
   "metadata": {},
   "outputs": [
    {
     "name": "stdout",
     "output_type": "stream",
     "text": [
      "0x7fe 0b011111111110\n",
      "-2\n"
     ]
    }
   ],
   "source": [
    "# Lowest 2 bits are always zero in 16 bit LVDS mode\n",
    "# 12 bit ADC, so next 2 bits are also zero\n",
    "rVal = r.regs.lvds_data_peek.read() >> 4\n",
    "print(\"0x{0:03x} 0b{0:012b}\".format(rVal))\n",
    "# Decode offset binary mode\n",
    "print(rVal - (1 << 11))"
   ]
  },
  {
   "cell_type": "markdown",
   "metadata": {},
   "source": [
    "# Read randomized ADC sample"
   ]
  },
  {
   "cell_type": "code",
   "execution_count": null,
   "metadata": {},
   "outputs": [],
   "source": [
    "set_ltc_reg(1, (1<<6))   # Randomizer on"
   ]
  },
  {
   "cell_type": "code",
   "execution_count": null,
   "metadata": {},
   "outputs": [],
   "source": [
    "rVal = r.regs.lvds_data_peek.read() >> 4\n",
    "print(\"0x{0:03x} 0b{0:012b}\".format(rVal))\n",
    "# XOR LSB with any other bit\n",
    "if rVal & 0x01:\n",
    "    rVal ^= 0xFFE\n",
    "# Decode offset binary mode\n",
    "print(rVal - (1 << 11))"
   ]
  },
  {
   "cell_type": "markdown",
   "metadata": {},
   "source": [
    "# Read phase detectors\n",
    "Make sure to disable the test-pattern to get transitions on all LVDS lanes"
   ]
  },
  {
   "cell_type": "code",
   "execution_count": 18,
   "metadata": {},
   "outputs": [
    {
     "data": {
      "text/plain": [
       "4194304"
      ]
     },
     "execution_count": 18,
     "metadata": {},
     "output_type": "execute_result"
    }
   ],
   "source": [
    "integr = 2**22\n",
    "r.regs.lvds_pd_period_csr.write(integr)\n",
    "r.regs.lvds_pd_period_csr.read()"
   ]
  },
  {
   "cell_type": "code",
   "execution_count": 19,
   "metadata": {},
   "outputs": [],
   "source": [
    "def printPd():\n",
    "    val0 = getInt32(r.regs.lvds_pd_phase_0.read()) / integr\n",
    "    val1 = getInt32(r.regs.lvds_pd_phase_1.read()) / integr\n",
    "    print(\"\\r{:0.3f}  {:0.3f}          \".format(val0, val1), end=\"\")\n",
    "    return val0, val1"
   ]
  },
  {
   "cell_type": "code",
   "execution_count": 20,
   "metadata": {},
   "outputs": [
    {
     "name": "stdout",
     "output_type": "stream",
     "text": [
      "\r",
      "-0.876  -0.647          "
     ]
    }
   ],
   "source": [
    "val0, val1 = printPd()"
   ]
  },
  {
   "cell_type": "markdown",
   "metadata": {},
   "source": [
    "# Control Idelays manually"
   ]
  },
  {
   "cell_type": "code",
   "execution_count": null,
   "metadata": {},
   "outputs": [],
   "source": [
    "# Choose channel\n",
    "r.regs.lvds_idelay_mux.write(1)\n",
    "r.regs.lvds_idelay_mux.read()"
   ]
  },
  {
   "cell_type": "code",
   "execution_count": null,
   "metadata": {},
   "outputs": [],
   "source": [
    "r.regs.lvds_idelay_inc.write(0)   # Increment delay"
   ]
  },
  {
   "cell_type": "code",
   "execution_count": null,
   "metadata": {},
   "outputs": [],
   "source": [
    "r.regs.lvds_idelay_dec.write(0)   # Decrement delay"
   ]
  },
  {
   "cell_type": "code",
   "execution_count": null,
   "metadata": {},
   "outputs": [],
   "source": [
    "printPd()"
   ]
  },
  {
   "cell_type": "markdown",
   "metadata": {},
   "source": [
    "# Control Idelays automatically\n",
    "Let the gateware step up / down the idelays and monitor the phase detector values"
   ]
  },
  {
   "cell_type": "code",
   "execution_count": null,
   "metadata": {},
   "outputs": [],
   "source": [
    "r.regs.lvds_idelay_auto.write(1)"
   ]
  },
  {
   "cell_type": "code",
   "execution_count": null,
   "metadata": {},
   "outputs": [],
   "source": [
    "# Enable / disable auto phase tracking mode\n",
    "r.regs.lvds_idelay_auto.write(1)\n",
    "# Print phase\n",
    "p0s = []\n",
    "p1s = []\n",
    "while True:\n",
    "    val0, val1 = printPd()\n",
    "    p0s.append(val0)\n",
    "    p1s.append(val1)\n",
    "    time.sleep(0.1)"
   ]
  },
  {
   "cell_type": "code",
   "execution_count": null,
   "metadata": {},
   "outputs": [],
   "source": [
    "r.regs.lvds_idelay_auto.write(0)\n",
    "close(\"all\")\n",
    "plot(p0s, \"-o\")\n",
    "plot(p1s, \"-o\")"
   ]
  },
  {
   "cell_type": "markdown",
   "metadata": {},
   "source": [
    "# Scope plot"
   ]
  },
  {
   "cell_type": "code",
   "execution_count": 30,
   "metadata": {
    "scrolled": false
   },
   "outputs": [
    {
     "data": {
      "application/javascript": [
       "/* Put everything inside the global mpl namespace */\n",
       "window.mpl = {};\n",
       "\n",
       "\n",
       "mpl.get_websocket_type = function() {\n",
       "    if (typeof(WebSocket) !== 'undefined') {\n",
       "        return WebSocket;\n",
       "    } else if (typeof(MozWebSocket) !== 'undefined') {\n",
       "        return MozWebSocket;\n",
       "    } else {\n",
       "        alert('Your browser does not have WebSocket support.' +\n",
       "              'Please try Chrome, Safari or Firefox ≥ 6. ' +\n",
       "              'Firefox 4 and 5 are also supported but you ' +\n",
       "              'have to enable WebSockets in about:config.');\n",
       "    };\n",
       "}\n",
       "\n",
       "mpl.figure = function(figure_id, websocket, ondownload, parent_element) {\n",
       "    this.id = figure_id;\n",
       "\n",
       "    this.ws = websocket;\n",
       "\n",
       "    this.supports_binary = (this.ws.binaryType != undefined);\n",
       "\n",
       "    if (!this.supports_binary) {\n",
       "        var warnings = document.getElementById(\"mpl-warnings\");\n",
       "        if (warnings) {\n",
       "            warnings.style.display = 'block';\n",
       "            warnings.textContent = (\n",
       "                \"This browser does not support binary websocket messages. \" +\n",
       "                    \"Performance may be slow.\");\n",
       "        }\n",
       "    }\n",
       "\n",
       "    this.imageObj = new Image();\n",
       "\n",
       "    this.context = undefined;\n",
       "    this.message = undefined;\n",
       "    this.canvas = undefined;\n",
       "    this.rubberband_canvas = undefined;\n",
       "    this.rubberband_context = undefined;\n",
       "    this.format_dropdown = undefined;\n",
       "\n",
       "    this.image_mode = 'full';\n",
       "\n",
       "    this.root = $('<div/>');\n",
       "    this._root_extra_style(this.root)\n",
       "    this.root.attr('style', 'display: inline-block');\n",
       "\n",
       "    $(parent_element).append(this.root);\n",
       "\n",
       "    this._init_header(this);\n",
       "    this._init_canvas(this);\n",
       "    this._init_toolbar(this);\n",
       "\n",
       "    var fig = this;\n",
       "\n",
       "    this.waiting = false;\n",
       "\n",
       "    this.ws.onopen =  function () {\n",
       "            fig.send_message(\"supports_binary\", {value: fig.supports_binary});\n",
       "            fig.send_message(\"send_image_mode\", {});\n",
       "            if (mpl.ratio != 1) {\n",
       "                fig.send_message(\"set_dpi_ratio\", {'dpi_ratio': mpl.ratio});\n",
       "            }\n",
       "            fig.send_message(\"refresh\", {});\n",
       "        }\n",
       "\n",
       "    this.imageObj.onload = function() {\n",
       "            if (fig.image_mode == 'full') {\n",
       "                // Full images could contain transparency (where diff images\n",
       "                // almost always do), so we need to clear the canvas so that\n",
       "                // there is no ghosting.\n",
       "                fig.context.clearRect(0, 0, fig.canvas.width, fig.canvas.height);\n",
       "            }\n",
       "            fig.context.drawImage(fig.imageObj, 0, 0);\n",
       "        };\n",
       "\n",
       "    this.imageObj.onunload = function() {\n",
       "        fig.ws.close();\n",
       "    }\n",
       "\n",
       "    this.ws.onmessage = this._make_on_message_function(this);\n",
       "\n",
       "    this.ondownload = ondownload;\n",
       "}\n",
       "\n",
       "mpl.figure.prototype._init_header = function() {\n",
       "    var titlebar = $(\n",
       "        '<div class=\"ui-dialog-titlebar ui-widget-header ui-corner-all ' +\n",
       "        'ui-helper-clearfix\"/>');\n",
       "    var titletext = $(\n",
       "        '<div class=\"ui-dialog-title\" style=\"width: 100%; ' +\n",
       "        'text-align: center; padding: 3px;\"/>');\n",
       "    titlebar.append(titletext)\n",
       "    this.root.append(titlebar);\n",
       "    this.header = titletext[0];\n",
       "}\n",
       "\n",
       "\n",
       "\n",
       "mpl.figure.prototype._canvas_extra_style = function(canvas_div) {\n",
       "\n",
       "}\n",
       "\n",
       "\n",
       "mpl.figure.prototype._root_extra_style = function(canvas_div) {\n",
       "\n",
       "}\n",
       "\n",
       "mpl.figure.prototype._init_canvas = function() {\n",
       "    var fig = this;\n",
       "\n",
       "    var canvas_div = $('<div/>');\n",
       "\n",
       "    canvas_div.attr('style', 'position: relative; clear: both; outline: 0');\n",
       "\n",
       "    function canvas_keyboard_event(event) {\n",
       "        return fig.key_event(event, event['data']);\n",
       "    }\n",
       "\n",
       "    canvas_div.keydown('key_press', canvas_keyboard_event);\n",
       "    canvas_div.keyup('key_release', canvas_keyboard_event);\n",
       "    this.canvas_div = canvas_div\n",
       "    this._canvas_extra_style(canvas_div)\n",
       "    this.root.append(canvas_div);\n",
       "\n",
       "    var canvas = $('<canvas/>');\n",
       "    canvas.addClass('mpl-canvas');\n",
       "    canvas.attr('style', \"left: 0; top: 0; z-index: 0; outline: 0\")\n",
       "\n",
       "    this.canvas = canvas[0];\n",
       "    this.context = canvas[0].getContext(\"2d\");\n",
       "\n",
       "    var backingStore = this.context.backingStorePixelRatio ||\n",
       "\tthis.context.webkitBackingStorePixelRatio ||\n",
       "\tthis.context.mozBackingStorePixelRatio ||\n",
       "\tthis.context.msBackingStorePixelRatio ||\n",
       "\tthis.context.oBackingStorePixelRatio ||\n",
       "\tthis.context.backingStorePixelRatio || 1;\n",
       "\n",
       "    mpl.ratio = (window.devicePixelRatio || 1) / backingStore;\n",
       "\n",
       "    var rubberband = $('<canvas/>');\n",
       "    rubberband.attr('style', \"position: absolute; left: 0; top: 0; z-index: 1;\")\n",
       "\n",
       "    var pass_mouse_events = true;\n",
       "\n",
       "    canvas_div.resizable({\n",
       "        start: function(event, ui) {\n",
       "            pass_mouse_events = false;\n",
       "        },\n",
       "        resize: function(event, ui) {\n",
       "            fig.request_resize(ui.size.width, ui.size.height);\n",
       "        },\n",
       "        stop: function(event, ui) {\n",
       "            pass_mouse_events = true;\n",
       "            fig.request_resize(ui.size.width, ui.size.height);\n",
       "        },\n",
       "    });\n",
       "\n",
       "    function mouse_event_fn(event) {\n",
       "        if (pass_mouse_events)\n",
       "            return fig.mouse_event(event, event['data']);\n",
       "    }\n",
       "\n",
       "    rubberband.mousedown('button_press', mouse_event_fn);\n",
       "    rubberband.mouseup('button_release', mouse_event_fn);\n",
       "    // Throttle sequential mouse events to 1 every 20ms.\n",
       "    rubberband.mousemove('motion_notify', mouse_event_fn);\n",
       "\n",
       "    rubberband.mouseenter('figure_enter', mouse_event_fn);\n",
       "    rubberband.mouseleave('figure_leave', mouse_event_fn);\n",
       "\n",
       "    canvas_div.on(\"wheel\", function (event) {\n",
       "        event = event.originalEvent;\n",
       "        event['data'] = 'scroll'\n",
       "        if (event.deltaY < 0) {\n",
       "            event.step = 1;\n",
       "        } else {\n",
       "            event.step = -1;\n",
       "        }\n",
       "        mouse_event_fn(event);\n",
       "    });\n",
       "\n",
       "    canvas_div.append(canvas);\n",
       "    canvas_div.append(rubberband);\n",
       "\n",
       "    this.rubberband = rubberband;\n",
       "    this.rubberband_canvas = rubberband[0];\n",
       "    this.rubberband_context = rubberband[0].getContext(\"2d\");\n",
       "    this.rubberband_context.strokeStyle = \"#000000\";\n",
       "\n",
       "    this._resize_canvas = function(width, height) {\n",
       "        // Keep the size of the canvas, canvas container, and rubber band\n",
       "        // canvas in synch.\n",
       "        canvas_div.css('width', width)\n",
       "        canvas_div.css('height', height)\n",
       "\n",
       "        canvas.attr('width', width * mpl.ratio);\n",
       "        canvas.attr('height', height * mpl.ratio);\n",
       "        canvas.attr('style', 'width: ' + width + 'px; height: ' + height + 'px;');\n",
       "\n",
       "        rubberband.attr('width', width);\n",
       "        rubberband.attr('height', height);\n",
       "    }\n",
       "\n",
       "    // Set the figure to an initial 600x600px, this will subsequently be updated\n",
       "    // upon first draw.\n",
       "    this._resize_canvas(600, 600);\n",
       "\n",
       "    // Disable right mouse context menu.\n",
       "    $(this.rubberband_canvas).bind(\"contextmenu\",function(e){\n",
       "        return false;\n",
       "    });\n",
       "\n",
       "    function set_focus () {\n",
       "        canvas.focus();\n",
       "        canvas_div.focus();\n",
       "    }\n",
       "\n",
       "    window.setTimeout(set_focus, 100);\n",
       "}\n",
       "\n",
       "mpl.figure.prototype._init_toolbar = function() {\n",
       "    var fig = this;\n",
       "\n",
       "    var nav_element = $('<div/>')\n",
       "    nav_element.attr('style', 'width: 100%');\n",
       "    this.root.append(nav_element);\n",
       "\n",
       "    // Define a callback function for later on.\n",
       "    function toolbar_event(event) {\n",
       "        return fig.toolbar_button_onclick(event['data']);\n",
       "    }\n",
       "    function toolbar_mouse_event(event) {\n",
       "        return fig.toolbar_button_onmouseover(event['data']);\n",
       "    }\n",
       "\n",
       "    for(var toolbar_ind in mpl.toolbar_items) {\n",
       "        var name = mpl.toolbar_items[toolbar_ind][0];\n",
       "        var tooltip = mpl.toolbar_items[toolbar_ind][1];\n",
       "        var image = mpl.toolbar_items[toolbar_ind][2];\n",
       "        var method_name = mpl.toolbar_items[toolbar_ind][3];\n",
       "\n",
       "        if (!name) {\n",
       "            // put a spacer in here.\n",
       "            continue;\n",
       "        }\n",
       "        var button = $('<button/>');\n",
       "        button.addClass('ui-button ui-widget ui-state-default ui-corner-all ' +\n",
       "                        'ui-button-icon-only');\n",
       "        button.attr('role', 'button');\n",
       "        button.attr('aria-disabled', 'false');\n",
       "        button.click(method_name, toolbar_event);\n",
       "        button.mouseover(tooltip, toolbar_mouse_event);\n",
       "\n",
       "        var icon_img = $('<span/>');\n",
       "        icon_img.addClass('ui-button-icon-primary ui-icon');\n",
       "        icon_img.addClass(image);\n",
       "        icon_img.addClass('ui-corner-all');\n",
       "\n",
       "        var tooltip_span = $('<span/>');\n",
       "        tooltip_span.addClass('ui-button-text');\n",
       "        tooltip_span.html(tooltip);\n",
       "\n",
       "        button.append(icon_img);\n",
       "        button.append(tooltip_span);\n",
       "\n",
       "        nav_element.append(button);\n",
       "    }\n",
       "\n",
       "    var fmt_picker_span = $('<span/>');\n",
       "\n",
       "    var fmt_picker = $('<select/>');\n",
       "    fmt_picker.addClass('mpl-toolbar-option ui-widget ui-widget-content');\n",
       "    fmt_picker_span.append(fmt_picker);\n",
       "    nav_element.append(fmt_picker_span);\n",
       "    this.format_dropdown = fmt_picker[0];\n",
       "\n",
       "    for (var ind in mpl.extensions) {\n",
       "        var fmt = mpl.extensions[ind];\n",
       "        var option = $(\n",
       "            '<option/>', {selected: fmt === mpl.default_extension}).html(fmt);\n",
       "        fmt_picker.append(option)\n",
       "    }\n",
       "\n",
       "    // Add hover states to the ui-buttons\n",
       "    $( \".ui-button\" ).hover(\n",
       "        function() { $(this).addClass(\"ui-state-hover\");},\n",
       "        function() { $(this).removeClass(\"ui-state-hover\");}\n",
       "    );\n",
       "\n",
       "    var status_bar = $('<span class=\"mpl-message\"/>');\n",
       "    nav_element.append(status_bar);\n",
       "    this.message = status_bar[0];\n",
       "}\n",
       "\n",
       "mpl.figure.prototype.request_resize = function(x_pixels, y_pixels) {\n",
       "    // Request matplotlib to resize the figure. Matplotlib will then trigger a resize in the client,\n",
       "    // which will in turn request a refresh of the image.\n",
       "    this.send_message('resize', {'width': x_pixels, 'height': y_pixels});\n",
       "}\n",
       "\n",
       "mpl.figure.prototype.send_message = function(type, properties) {\n",
       "    properties['type'] = type;\n",
       "    properties['figure_id'] = this.id;\n",
       "    this.ws.send(JSON.stringify(properties));\n",
       "}\n",
       "\n",
       "mpl.figure.prototype.send_draw_message = function() {\n",
       "    if (!this.waiting) {\n",
       "        this.waiting = true;\n",
       "        this.ws.send(JSON.stringify({type: \"draw\", figure_id: this.id}));\n",
       "    }\n",
       "}\n",
       "\n",
       "\n",
       "mpl.figure.prototype.handle_save = function(fig, msg) {\n",
       "    var format_dropdown = fig.format_dropdown;\n",
       "    var format = format_dropdown.options[format_dropdown.selectedIndex].value;\n",
       "    fig.ondownload(fig, format);\n",
       "}\n",
       "\n",
       "\n",
       "mpl.figure.prototype.handle_resize = function(fig, msg) {\n",
       "    var size = msg['size'];\n",
       "    if (size[0] != fig.canvas.width || size[1] != fig.canvas.height) {\n",
       "        fig._resize_canvas(size[0], size[1]);\n",
       "        fig.send_message(\"refresh\", {});\n",
       "    };\n",
       "}\n",
       "\n",
       "mpl.figure.prototype.handle_rubberband = function(fig, msg) {\n",
       "    var x0 = msg['x0'] / mpl.ratio;\n",
       "    var y0 = (fig.canvas.height - msg['y0']) / mpl.ratio;\n",
       "    var x1 = msg['x1'] / mpl.ratio;\n",
       "    var y1 = (fig.canvas.height - msg['y1']) / mpl.ratio;\n",
       "    x0 = Math.floor(x0) + 0.5;\n",
       "    y0 = Math.floor(y0) + 0.5;\n",
       "    x1 = Math.floor(x1) + 0.5;\n",
       "    y1 = Math.floor(y1) + 0.5;\n",
       "    var min_x = Math.min(x0, x1);\n",
       "    var min_y = Math.min(y0, y1);\n",
       "    var width = Math.abs(x1 - x0);\n",
       "    var height = Math.abs(y1 - y0);\n",
       "\n",
       "    fig.rubberband_context.clearRect(\n",
       "        0, 0, fig.canvas.width, fig.canvas.height);\n",
       "\n",
       "    fig.rubberband_context.strokeRect(min_x, min_y, width, height);\n",
       "}\n",
       "\n",
       "mpl.figure.prototype.handle_figure_label = function(fig, msg) {\n",
       "    // Updates the figure title.\n",
       "    fig.header.textContent = msg['label'];\n",
       "}\n",
       "\n",
       "mpl.figure.prototype.handle_cursor = function(fig, msg) {\n",
       "    var cursor = msg['cursor'];\n",
       "    switch(cursor)\n",
       "    {\n",
       "    case 0:\n",
       "        cursor = 'pointer';\n",
       "        break;\n",
       "    case 1:\n",
       "        cursor = 'default';\n",
       "        break;\n",
       "    case 2:\n",
       "        cursor = 'crosshair';\n",
       "        break;\n",
       "    case 3:\n",
       "        cursor = 'move';\n",
       "        break;\n",
       "    }\n",
       "    fig.rubberband_canvas.style.cursor = cursor;\n",
       "}\n",
       "\n",
       "mpl.figure.prototype.handle_message = function(fig, msg) {\n",
       "    fig.message.textContent = msg['message'];\n",
       "}\n",
       "\n",
       "mpl.figure.prototype.handle_draw = function(fig, msg) {\n",
       "    // Request the server to send over a new figure.\n",
       "    fig.send_draw_message();\n",
       "}\n",
       "\n",
       "mpl.figure.prototype.handle_image_mode = function(fig, msg) {\n",
       "    fig.image_mode = msg['mode'];\n",
       "}\n",
       "\n",
       "mpl.figure.prototype.updated_canvas_event = function() {\n",
       "    // Called whenever the canvas gets updated.\n",
       "    this.send_message(\"ack\", {});\n",
       "}\n",
       "\n",
       "// A function to construct a web socket function for onmessage handling.\n",
       "// Called in the figure constructor.\n",
       "mpl.figure.prototype._make_on_message_function = function(fig) {\n",
       "    return function socket_on_message(evt) {\n",
       "        if (evt.data instanceof Blob) {\n",
       "            /* FIXME: We get \"Resource interpreted as Image but\n",
       "             * transferred with MIME type text/plain:\" errors on\n",
       "             * Chrome.  But how to set the MIME type?  It doesn't seem\n",
       "             * to be part of the websocket stream */\n",
       "            evt.data.type = \"image/png\";\n",
       "\n",
       "            /* Free the memory for the previous frames */\n",
       "            if (fig.imageObj.src) {\n",
       "                (window.URL || window.webkitURL).revokeObjectURL(\n",
       "                    fig.imageObj.src);\n",
       "            }\n",
       "\n",
       "            fig.imageObj.src = (window.URL || window.webkitURL).createObjectURL(\n",
       "                evt.data);\n",
       "            fig.updated_canvas_event();\n",
       "            fig.waiting = false;\n",
       "            return;\n",
       "        }\n",
       "        else if (typeof evt.data === 'string' && evt.data.slice(0, 21) == \"data:image/png;base64\") {\n",
       "            fig.imageObj.src = evt.data;\n",
       "            fig.updated_canvas_event();\n",
       "            fig.waiting = false;\n",
       "            return;\n",
       "        }\n",
       "\n",
       "        var msg = JSON.parse(evt.data);\n",
       "        var msg_type = msg['type'];\n",
       "\n",
       "        // Call the  \"handle_{type}\" callback, which takes\n",
       "        // the figure and JSON message as its only arguments.\n",
       "        try {\n",
       "            var callback = fig[\"handle_\" + msg_type];\n",
       "        } catch (e) {\n",
       "            console.log(\"No handler for the '\" + msg_type + \"' message type: \", msg);\n",
       "            return;\n",
       "        }\n",
       "\n",
       "        if (callback) {\n",
       "            try {\n",
       "                // console.log(\"Handling '\" + msg_type + \"' message: \", msg);\n",
       "                callback(fig, msg);\n",
       "            } catch (e) {\n",
       "                console.log(\"Exception inside the 'handler_\" + msg_type + \"' callback:\", e, e.stack, msg);\n",
       "            }\n",
       "        }\n",
       "    };\n",
       "}\n",
       "\n",
       "// from http://stackoverflow.com/questions/1114465/getting-mouse-location-in-canvas\n",
       "mpl.findpos = function(e) {\n",
       "    //this section is from http://www.quirksmode.org/js/events_properties.html\n",
       "    var targ;\n",
       "    if (!e)\n",
       "        e = window.event;\n",
       "    if (e.target)\n",
       "        targ = e.target;\n",
       "    else if (e.srcElement)\n",
       "        targ = e.srcElement;\n",
       "    if (targ.nodeType == 3) // defeat Safari bug\n",
       "        targ = targ.parentNode;\n",
       "\n",
       "    // jQuery normalizes the pageX and pageY\n",
       "    // pageX,Y are the mouse positions relative to the document\n",
       "    // offset() returns the position of the element relative to the document\n",
       "    var x = e.pageX - $(targ).offset().left;\n",
       "    var y = e.pageY - $(targ).offset().top;\n",
       "\n",
       "    return {\"x\": x, \"y\": y};\n",
       "};\n",
       "\n",
       "/*\n",
       " * return a copy of an object with only non-object keys\n",
       " * we need this to avoid circular references\n",
       " * http://stackoverflow.com/a/24161582/3208463\n",
       " */\n",
       "function simpleKeys (original) {\n",
       "  return Object.keys(original).reduce(function (obj, key) {\n",
       "    if (typeof original[key] !== 'object')\n",
       "        obj[key] = original[key]\n",
       "    return obj;\n",
       "  }, {});\n",
       "}\n",
       "\n",
       "mpl.figure.prototype.mouse_event = function(event, name) {\n",
       "    var canvas_pos = mpl.findpos(event)\n",
       "\n",
       "    if (name === 'button_press')\n",
       "    {\n",
       "        this.canvas.focus();\n",
       "        this.canvas_div.focus();\n",
       "    }\n",
       "\n",
       "    var x = canvas_pos.x * mpl.ratio;\n",
       "    var y = canvas_pos.y * mpl.ratio;\n",
       "\n",
       "    this.send_message(name, {x: x, y: y, button: event.button,\n",
       "                             step: event.step,\n",
       "                             guiEvent: simpleKeys(event)});\n",
       "\n",
       "    /* This prevents the web browser from automatically changing to\n",
       "     * the text insertion cursor when the button is pressed.  We want\n",
       "     * to control all of the cursor setting manually through the\n",
       "     * 'cursor' event from matplotlib */\n",
       "    event.preventDefault();\n",
       "    return false;\n",
       "}\n",
       "\n",
       "mpl.figure.prototype._key_event_extra = function(event, name) {\n",
       "    // Handle any extra behaviour associated with a key event\n",
       "}\n",
       "\n",
       "mpl.figure.prototype.key_event = function(event, name) {\n",
       "\n",
       "    // Prevent repeat events\n",
       "    if (name == 'key_press')\n",
       "    {\n",
       "        if (event.which === this._key)\n",
       "            return;\n",
       "        else\n",
       "            this._key = event.which;\n",
       "    }\n",
       "    if (name == 'key_release')\n",
       "        this._key = null;\n",
       "\n",
       "    var value = '';\n",
       "    if (event.ctrlKey && event.which != 17)\n",
       "        value += \"ctrl+\";\n",
       "    if (event.altKey && event.which != 18)\n",
       "        value += \"alt+\";\n",
       "    if (event.shiftKey && event.which != 16)\n",
       "        value += \"shift+\";\n",
       "\n",
       "    value += 'k';\n",
       "    value += event.which.toString();\n",
       "\n",
       "    this._key_event_extra(event, name);\n",
       "\n",
       "    this.send_message(name, {key: value,\n",
       "                             guiEvent: simpleKeys(event)});\n",
       "    return false;\n",
       "}\n",
       "\n",
       "mpl.figure.prototype.toolbar_button_onclick = function(name) {\n",
       "    if (name == 'download') {\n",
       "        this.handle_save(this, null);\n",
       "    } else {\n",
       "        this.send_message(\"toolbar_button\", {name: name});\n",
       "    }\n",
       "};\n",
       "\n",
       "mpl.figure.prototype.toolbar_button_onmouseover = function(tooltip) {\n",
       "    this.message.textContent = tooltip;\n",
       "};\n",
       "mpl.toolbar_items = [[\"Home\", \"Reset original view\", \"fa fa-home icon-home\", \"home\"], [\"Back\", \"Back to previous view\", \"fa fa-arrow-left icon-arrow-left\", \"back\"], [\"Forward\", \"Forward to next view\", \"fa fa-arrow-right icon-arrow-right\", \"forward\"], [\"\", \"\", \"\", \"\"], [\"Pan\", \"Pan axes with left mouse, zoom with right\", \"fa fa-arrows icon-move\", \"pan\"], [\"Zoom\", \"Zoom to rectangle\", \"fa fa-square-o icon-check-empty\", \"zoom\"], [\"\", \"\", \"\", \"\"], [\"Download\", \"Download plot\", \"fa fa-floppy-o icon-save\", \"download\"]];\n",
       "\n",
       "mpl.extensions = [\"eps\", \"jpeg\", \"pdf\", \"png\", \"ps\", \"raw\", \"svg\", \"tif\"];\n",
       "\n",
       "mpl.default_extension = \"png\";var comm_websocket_adapter = function(comm) {\n",
       "    // Create a \"websocket\"-like object which calls the given IPython comm\n",
       "    // object with the appropriate methods. Currently this is a non binary\n",
       "    // socket, so there is still some room for performance tuning.\n",
       "    var ws = {};\n",
       "\n",
       "    ws.close = function() {\n",
       "        comm.close()\n",
       "    };\n",
       "    ws.send = function(m) {\n",
       "        //console.log('sending', m);\n",
       "        comm.send(m);\n",
       "    };\n",
       "    // Register the callback with on_msg.\n",
       "    comm.on_msg(function(msg) {\n",
       "        //console.log('receiving', msg['content']['data'], msg);\n",
       "        // Pass the mpl event to the overridden (by mpl) onmessage function.\n",
       "        ws.onmessage(msg['content']['data'])\n",
       "    });\n",
       "    return ws;\n",
       "}\n",
       "\n",
       "mpl.mpl_figure_comm = function(comm, msg) {\n",
       "    // This is the function which gets called when the mpl process\n",
       "    // starts-up an IPython Comm through the \"matplotlib\" channel.\n",
       "\n",
       "    var id = msg.content.data.id;\n",
       "    // Get hold of the div created by the display call when the Comm\n",
       "    // socket was opened in Python.\n",
       "    var element = $(\"#\" + id);\n",
       "    var ws_proxy = comm_websocket_adapter(comm)\n",
       "\n",
       "    function ondownload(figure, format) {\n",
       "        window.open(figure.imageObj.src);\n",
       "    }\n",
       "\n",
       "    var fig = new mpl.figure(id, ws_proxy,\n",
       "                           ondownload,\n",
       "                           element.get(0));\n",
       "\n",
       "    // Call onopen now - mpl needs it, as it is assuming we've passed it a real\n",
       "    // web socket which is closed, not our websocket->open comm proxy.\n",
       "    ws_proxy.onopen();\n",
       "\n",
       "    fig.parent_element = element.get(0);\n",
       "    fig.cell_info = mpl.find_output_cell(\"<div id='\" + id + \"'></div>\");\n",
       "    if (!fig.cell_info) {\n",
       "        console.error(\"Failed to find cell for figure\", id, fig);\n",
       "        return;\n",
       "    }\n",
       "\n",
       "    var output_index = fig.cell_info[2]\n",
       "    var cell = fig.cell_info[0];\n",
       "\n",
       "};\n",
       "\n",
       "mpl.figure.prototype.handle_close = function(fig, msg) {\n",
       "    var width = fig.canvas.width/mpl.ratio\n",
       "    fig.root.unbind('remove')\n",
       "\n",
       "    // Update the output cell to use the data from the current canvas.\n",
       "    fig.push_to_output();\n",
       "    var dataURL = fig.canvas.toDataURL();\n",
       "    // Re-enable the keyboard manager in IPython - without this line, in FF,\n",
       "    // the notebook keyboard shortcuts fail.\n",
       "    IPython.keyboard_manager.enable()\n",
       "    $(fig.parent_element).html('<img src=\"' + dataURL + '\" width=\"' + width + '\">');\n",
       "    fig.close_ws(fig, msg);\n",
       "}\n",
       "\n",
       "mpl.figure.prototype.close_ws = function(fig, msg){\n",
       "    fig.send_message('closing', msg);\n",
       "    // fig.ws.close()\n",
       "}\n",
       "\n",
       "mpl.figure.prototype.push_to_output = function(remove_interactive) {\n",
       "    // Turn the data on the canvas into data in the output cell.\n",
       "    var width = this.canvas.width/mpl.ratio\n",
       "    var dataURL = this.canvas.toDataURL();\n",
       "    this.cell_info[1]['text/html'] = '<img src=\"' + dataURL + '\" width=\"' + width + '\">';\n",
       "}\n",
       "\n",
       "mpl.figure.prototype.updated_canvas_event = function() {\n",
       "    // Tell IPython that the notebook contents must change.\n",
       "    IPython.notebook.set_dirty(true);\n",
       "    this.send_message(\"ack\", {});\n",
       "    var fig = this;\n",
       "    // Wait a second, then push the new image to the DOM so\n",
       "    // that it is saved nicely (might be nice to debounce this).\n",
       "    setTimeout(function () { fig.push_to_output() }, 1000);\n",
       "}\n",
       "\n",
       "mpl.figure.prototype._init_toolbar = function() {\n",
       "    var fig = this;\n",
       "\n",
       "    var nav_element = $('<div/>')\n",
       "    nav_element.attr('style', 'width: 100%');\n",
       "    this.root.append(nav_element);\n",
       "\n",
       "    // Define a callback function for later on.\n",
       "    function toolbar_event(event) {\n",
       "        return fig.toolbar_button_onclick(event['data']);\n",
       "    }\n",
       "    function toolbar_mouse_event(event) {\n",
       "        return fig.toolbar_button_onmouseover(event['data']);\n",
       "    }\n",
       "\n",
       "    for(var toolbar_ind in mpl.toolbar_items){\n",
       "        var name = mpl.toolbar_items[toolbar_ind][0];\n",
       "        var tooltip = mpl.toolbar_items[toolbar_ind][1];\n",
       "        var image = mpl.toolbar_items[toolbar_ind][2];\n",
       "        var method_name = mpl.toolbar_items[toolbar_ind][3];\n",
       "\n",
       "        if (!name) { continue; };\n",
       "\n",
       "        var button = $('<button class=\"btn btn-default\" href=\"#\" title=\"' + name + '\"><i class=\"fa ' + image + ' fa-lg\"></i></button>');\n",
       "        button.click(method_name, toolbar_event);\n",
       "        button.mouseover(tooltip, toolbar_mouse_event);\n",
       "        nav_element.append(button);\n",
       "    }\n",
       "\n",
       "    // Add the status bar.\n",
       "    var status_bar = $('<span class=\"mpl-message\" style=\"text-align:right; float: right;\"/>');\n",
       "    nav_element.append(status_bar);\n",
       "    this.message = status_bar[0];\n",
       "\n",
       "    // Add the close button to the window.\n",
       "    var buttongrp = $('<div class=\"btn-group inline pull-right\"></div>');\n",
       "    var button = $('<button class=\"btn btn-mini btn-primary\" href=\"#\" title=\"Stop Interaction\"><i class=\"fa fa-power-off icon-remove icon-large\"></i></button>');\n",
       "    button.click(function (evt) { fig.handle_close(fig, {}); } );\n",
       "    button.mouseover('Stop Interaction', toolbar_mouse_event);\n",
       "    buttongrp.append(button);\n",
       "    var titlebar = this.root.find($('.ui-dialog-titlebar'));\n",
       "    titlebar.prepend(buttongrp);\n",
       "}\n",
       "\n",
       "mpl.figure.prototype._root_extra_style = function(el){\n",
       "    var fig = this\n",
       "    el.on(\"remove\", function(){\n",
       "\tfig.close_ws(fig, {});\n",
       "    });\n",
       "}\n",
       "\n",
       "mpl.figure.prototype._canvas_extra_style = function(el){\n",
       "    // this is important to make the div 'focusable\n",
       "    el.attr('tabindex', 0)\n",
       "    // reach out to IPython and tell the keyboard manager to turn it's self\n",
       "    // off when our div gets focus\n",
       "\n",
       "    // location in version 3\n",
       "    if (IPython.notebook.keyboard_manager) {\n",
       "        IPython.notebook.keyboard_manager.register_events(el);\n",
       "    }\n",
       "    else {\n",
       "        // location in version 2\n",
       "        IPython.keyboard_manager.register_events(el);\n",
       "    }\n",
       "\n",
       "}\n",
       "\n",
       "mpl.figure.prototype._key_event_extra = function(event, name) {\n",
       "    var manager = IPython.notebook.keyboard_manager;\n",
       "    if (!manager)\n",
       "        manager = IPython.keyboard_manager;\n",
       "\n",
       "    // Check for shift+enter\n",
       "    if (event.shiftKey && event.which == 13) {\n",
       "        this.canvas_div.blur();\n",
       "        event.shiftKey = false;\n",
       "        // Send a \"J\" for go to next cell\n",
       "        event.which = 74;\n",
       "        event.keyCode = 74;\n",
       "        manager.command_mode();\n",
       "        manager.handle_keydown(event);\n",
       "    }\n",
       "}\n",
       "\n",
       "mpl.figure.prototype.handle_save = function(fig, msg) {\n",
       "    fig.ondownload(fig, null);\n",
       "}\n",
       "\n",
       "\n",
       "mpl.find_output_cell = function(html_output) {\n",
       "    // Return the cell and output element which can be found *uniquely* in the notebook.\n",
       "    // Note - this is a bit hacky, but it is done because the \"notebook_saving.Notebook\"\n",
       "    // IPython event is triggered only after the cells have been serialised, which for\n",
       "    // our purposes (turning an active figure into a static one), is too late.\n",
       "    var cells = IPython.notebook.get_cells();\n",
       "    var ncells = cells.length;\n",
       "    for (var i=0; i<ncells; i++) {\n",
       "        var cell = cells[i];\n",
       "        if (cell.cell_type === 'code'){\n",
       "            for (var j=0; j<cell.output_area.outputs.length; j++) {\n",
       "                var data = cell.output_area.outputs[j];\n",
       "                if (data.data) {\n",
       "                    // IPython >= 3 moved mimebundle to data attribute of output\n",
       "                    data = data.data;\n",
       "                }\n",
       "                if (data['text/html'] == html_output) {\n",
       "                    return [cell, data, j];\n",
       "                }\n",
       "            }\n",
       "        }\n",
       "    }\n",
       "}\n",
       "\n",
       "// Register the function which deals with the matplotlib target/channel.\n",
       "// The kernel may be null if the page has been refreshed.\n",
       "if (IPython.notebook.kernel != null) {\n",
       "    IPython.notebook.kernel.comm_manager.register_target('matplotlib', mpl.mpl_figure_comm);\n",
       "}\n"
      ],
      "text/plain": [
       "<IPython.core.display.Javascript object>"
      ]
     },
     "metadata": {},
     "output_type": "display_data"
    },
    {
     "data": {
      "text/html": [
       "<img src=\"data:image/png;base64,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\" width=\"800\">"
      ],
      "text/plain": [
       "<IPython.core.display.HTML object>"
      ]
     },
     "metadata": {},
     "output_type": "display_data"
    },
    {
     "data": {
      "text/plain": [
       "<matplotlib.animation.FuncAnimation at 0x7f4166041470>"
      ]
     },
     "execution_count": 30,
     "metadata": {},
     "output_type": "execute_result"
    }
   ],
   "source": [
    "from matplotlib.animation import FuncAnimation\n",
    "\n",
    "def setTriggerLevel(l):\n",
    "    \"\"\" -1 < l < 1 \"\"\"\n",
    "    tl = int((l + 1) * (1 << 15))\n",
    "    print(tl)\n",
    "    r.regs.acq_trig_level.write(tl)\n",
    "    \n",
    "def getSamples(N=None):\n",
    "    \"\"\" why doesn't RemoteClient take care of chunking for me ??? \"\"\"\n",
    "    if N is None:\n",
    "        N = r.mems.sample.size\n",
    "    o = r.mems.sample.base\n",
    "    r.regs.acq_trig_csr.write(0)\n",
    "    samples = []\n",
    "    while N:\n",
    "        temp = r.read(o, min(255, N))\n",
    "        o += len(temp) * 4  # in bytes!\n",
    "        N -= len(temp)\n",
    "        samples.append(temp)\n",
    "    samples = hstack(samples)\n",
    "    return samples / (1<<15) - 1 \n",
    "\n",
    "def ani(i, N):\n",
    "    yVect = getSamples(N)\n",
    "    f, Pxx = periodogram(yVect, fs, window='hanning', scaling='spectrum', nfft=N*4)\n",
    "    lt.set_ydata(yVect)\n",
    "    lf.set_ydata(10*log10(Pxx) + 3)\n",
    "\n",
    "close(\"all\")\n",
    "N = 1024\n",
    "fs = 800e6 / 7\n",
    "xVect = linspace(0, N / fs, N, endpoint=False)\n",
    "yVect = getSamples(N)\n",
    "fig, axs = subplots(2, 1, figsize=(8, 6), squeeze=True)\n",
    "lt, = axs[0].plot(xVect * 1e9, yVect, \"-o\")\n",
    "f, Pxx = periodogram(yVect, fs, window='hanning', scaling='spectrum', nfft=N*4)\n",
    "lf, = axs[1].plot(f / 1e6, 10*log10(Pxx) + 3)\n",
    "axs[0].set_xlabel(\"Time [ns]\")\n",
    "axs[1].set_xlabel(\"Frequency [MHz]\")\n",
    "axs[0].set_ylabel(\"ADC value [FS]\")\n",
    "axs[1].set_ylabel(\"ADC value [dB_FS]\")\n",
    "fig.tight_layout()\n",
    "FuncAnimation(fig, ani, interval=500, fargs=(N,))"
   ]
  },
  {
   "cell_type": "code",
   "execution_count": null,
   "metadata": {},
   "outputs": [],
   "source": [
    "getSamples(32)"
   ]
  },
  {
   "cell_type": "code",
   "execution_count": null,
   "metadata": {},
   "outputs": [],
   "source": [
    "setTriggerLevel(0.0)"
   ]
  },
  {
   "cell_type": "code",
   "execution_count": null,
   "metadata": {},
   "outputs": [],
   "source": [
    "dat = []\n",
    "for i in range(32):\n",
    "    dat.append(getSamples(2**12-1))\n",
    "    print(\"*\", end=\"\", flush=True)\n",
    "dat = vstack(dat)"
   ]
  },
  {
   "cell_type": "code",
   "execution_count": null,
   "metadata": {},
   "outputs": [],
   "source": [
    "savez_compressed(\"550MHz_0dBm.npz\", dat=dat)"
   ]
  },
  {
   "cell_type": "code",
   "execution_count": 43,
   "metadata": {},
   "outputs": [],
   "source": [
    "def getNyquist(f, fs):\n",
    "    f_n = f / fs\n",
    "    f_fract = f_n % 1\n",
    "    if f_fract <= 0.5:\n",
    "        return f_fract * fs\n",
    "    else:\n",
    "        return (1 - f_fract) * fs"
   ]
  },
  {
   "cell_type": "code",
   "execution_count": null,
   "metadata": {},
   "outputs": [],
   "source": [
    "getNyquist(550, fs/1e6)"
   ]
  },
  {
   "cell_type": "code",
   "execution_count": 47,
   "metadata": {},
   "outputs": [
    {
     "data": {
      "text/plain": [
       "20.000000000000036"
      ]
     },
     "execution_count": 47,
     "metadata": {},
     "output_type": "execute_result"
    }
   ],
   "source": [
    "getNyquist(500, 1200/10)"
   ]
  },
  {
   "cell_type": "code",
   "execution_count": null,
   "metadata": {},
   "outputs": [],
   "source": [
    "close(\"all\")\n",
    "for fName in [\"fullscale\", \"550MHz_15dBm.npz\", \"550MHz_10dBm.npz\", \"550MHz_5dBm.npz\", \"550MHz_0dBm.npz\"]:\n",
    "    if fName == \"fullscale\":\n",
    "        continue\n",
    "        d = sin(arange(4095))\n",
    "        dat = vstack([d, d])\n",
    "    else:\n",
    "        dat = load(fName)[\"dat\"]\n",
    "    f, Pxx = periodogram(dat, fs, window='hanning', scaling='spectrum', nfft=2**15)\n",
    "    plot(f / 1e6, 10*log10(mean(Pxx, 0)) + 3, label=fName)\n",
    "legend()\n",
    "xlabel(\"Frequency [MHz]\")\n",
    "ylabel(\"[db_fs]\")"
   ]
  },
  {
   "cell_type": "code",
   "execution_count": null,
   "metadata": {},
   "outputs": [],
   "source": [
    "5 * fs + 17e6"
   ]
  },
  {
   "cell_type": "code",
   "execution_count": null,
   "metadata": {},
   "outputs": [],
   "source": [
    "r.close()"
   ]
  }
 ],
 "metadata": {
  "kernelspec": {
   "display_name": "Python 3",
   "language": "python",
   "name": "python3"
  },
  "language_info": {
   "codemirror_mode": {
    "name": "ipython",
    "version": 3
   },
   "file_extension": ".py",
   "mimetype": "text/x-python",
   "name": "python",
   "nbconvert_exporter": "python",
   "pygments_lexer": "ipython3",
   "version": "3.6.6"
  }
 },
 "nbformat": 4,
 "nbformat_minor": 2
}
