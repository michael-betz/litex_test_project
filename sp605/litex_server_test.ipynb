{
 "cells": [
  {
   "cell_type": "markdown",
   "metadata": {},
   "source": [
    "Start this first\n",
    "```bash\n",
    "$ litex_server uart /dev/ttyUSB0 115200\n",
    "```"
   ]
  },
  {
   "cell_type": "code",
   "execution_count": 1,
   "metadata": {},
   "outputs": [
    {
     "name": "stdout",
     "output_type": "stream",
     "text": [
      "Populating the interactive namespace from numpy and matplotlib\n"
     ]
    }
   ],
   "source": [
    "%pylab notebook\n",
    "from litex.soc.tools.remote import RemoteClient\n",
    "from struct import pack, unpack\n",
    "import time"
   ]
  },
  {
   "cell_type": "code",
   "execution_count": 278,
   "metadata": {},
   "outputs": [
    {
     "name": "stdout",
     "output_type": "stream",
     "text": [
      "Connected to Port 1234\n"
     ]
    },
    {
     "data": {
      "text/plain": [
       "'Wir trampeln durchs Getreide ... 2019-04-03 17:49:30'"
      ]
     },
     "execution_count": 278,
     "metadata": {},
     "output_type": "execute_result"
    }
   ],
   "source": [
    "for i in range(32):\n",
    "    try:\n",
    "        r = RemoteClient(csr_csv=\"build/csr.csv\", debug=False, port=1234 + i)\n",
    "        r.open()\n",
    "        print(\"Connected to Port\", 1234 + i)\n",
    "        break\n",
    "    except ConnectionRefusedError:\n",
    "        pass\n",
    "\n",
    "def getId():\n",
    "    s = \"\"\n",
    "    for i in range(64):\n",
    "        temp = r.read(r.bases.identifier_mem + i * 4)\n",
    "        if temp == 0:\n",
    "            break\n",
    "        s += chr(temp & 0xFF)\n",
    "    return s\n",
    "getId()"
   ]
  },
  {
   "cell_type": "markdown",
   "metadata": {},
   "source": [
    "# SPI config memo\n",
    "\n",
    "\n",
    "    config signal:\n",
    "        1 offline: all pins high-z (reset=1)\n",
    "        1 active: cs/transfer active (read-only)\n",
    "        1 pending: transfer pending in intermediate buffer (read-only)\n",
    "        1 cs_polarity: active level of chip select (reset=0)\n",
    "        1 clk_polarity: idle level of clk (reset=0)\n",
    "        1 clk_phase: first edge after cs assertion to sample data on (reset=0)\n",
    "            (clk_polarity, clk_phase) == (CPOL, CPHA) in Freescale language.\n",
    "            (0, 0): idle low, output on falling, input on rising\n",
    "            (0, 1): idle low, output on rising, input on falling\n",
    "            (1, 0): idle high, output on rising, input on falling\n",
    "            (1, 1): idle high, output on falling, input on rising\n",
    "            There is never a clk edge during a cs edge.\n",
    "        1 lsb_first: LSB is the first bit on the wire (reset=0)\n",
    "        1 half_duplex: 3-wire SPI, in/out on mosi (reset=0)\n",
    "        8 undefined\n",
    "        8 div_write: counter load value to divide this module's clock\n",
    "            to generate the SPI write clk (reset=0)\n",
    "            f_clk/f_spi_write == div_write + 2\n",
    "        8 div_read: ditto for the read clock\n",
    "\n",
    "    xfer_config signal:\n",
    "        16 cs: active high bit mask of chip selects to assert (reset=0)\n",
    "        6 write_len: 0-M bits (reset=0)\n",
    "        2 undefined\n",
    "        6 read_len: 0-M bits (reset=0)\n",
    "        2 undefined"
   ]
  },
  {
   "cell_type": "markdown",
   "metadata": {},
   "source": [
    "# Setup SPI"
   ]
  },
  {
   "cell_type": "code",
   "execution_count": 279,
   "metadata": {},
   "outputs": [],
   "source": [
    "r.regs.spi_config.write(0xFFFF0000)\n",
    "# 16 bit write transfer (includes read as is 4 wire)\n",
    "r.regs.spi_xfer.write(0x0010FFFF)\n",
    "\n",
    "def set_ltc_reg(adr, val):\n",
    "    word = (0 << 15) | ((adr & 0x7F) << 8) | (val & 0xFF)\n",
    "    word <<= 16\n",
    "    r.regs.spi_mosi_data.write(word)\n",
    "    r.regs.spi_start.write(1)\n",
    "\n",
    "def get_ltc_reg(adr):\n",
    "    word = (1 << 15) | ((adr & 0x7F) << 8)\n",
    "    word <<= 16\n",
    "    r.regs.spi_mosi_data.write(word)\n",
    "    r.regs.spi_start.write(1)\n",
    "    return r.regs.spi_miso_data.read() & 0xFF\n",
    "\n",
    "def setTp(tpValue):\n",
    "    set_ltc_reg(3, (1<<7) | tpValue >> 8)   # Test pattern on + value MSB\n",
    "    set_ltc_reg(4, tpValue & 0xFF)          # Test pattern value LSB\n",
    "    \n",
    "def myzip(*vals):\n",
    "    \"\"\"\n",
    "    interleave elements in a flattened list\n",
    "\n",
    "    >>> myzip([1,2,3], ['a', 'b', 'c'])\n",
    "    [1, 'a', 2, 'b', 3, 'c']\n",
    "    \"\"\"\n",
    "    return [i for t in zip(*vals) for i in t]\n",
    "\n",
    "def getInt32(I):\n",
    "    \"\"\" \n",
    "    recover sign from twos complement integer\n",
    "    >>> getInt32(0xFFFFFFFF)\n",
    "    -1\n",
    "    \"\"\"\n",
    "    return unpack(\"i\", pack(\"I\", I))[0]"
   ]
  },
  {
   "cell_type": "markdown",
   "metadata": {},
   "source": [
    "# Dump LTC2175 registers"
   ]
  },
  {
   "cell_type": "code",
   "execution_count": 282,
   "metadata": {},
   "outputs": [
    {
     "name": "stdout",
     "output_type": "stream",
     "text": [
      " 0: 00\n",
      " 1: 00\n",
      " 2: 00\n",
      " 3: 00\n",
      " 4: 00\n"
     ]
    }
   ],
   "source": [
    "for i in range(5):\n",
    "    print(\"{:2x}: {:02x}\".format(i, get_ltc_reg(i)))"
   ]
  },
  {
   "cell_type": "code",
   "execution_count": 281,
   "metadata": {},
   "outputs": [],
   "source": [
    "set_ltc_reg(0, 0x80)   # Software reset"
   ]
  },
  {
   "cell_type": "code",
   "execution_count": 15,
   "metadata": {},
   "outputs": [],
   "source": [
    "set_ltc_reg(1, 0x10)   # Sleep mode"
   ]
  },
  {
   "cell_type": "code",
   "execution_count": 16,
   "metadata": {},
   "outputs": [],
   "source": [
    "set_ltc_reg(1, 0x00)   # Waky waky"
   ]
  },
  {
   "cell_type": "markdown",
   "metadata": {},
   "source": [
    "# Measure sample clock frequency [Hz]"
   ]
  },
  {
   "cell_type": "code",
   "execution_count": 284,
   "metadata": {},
   "outputs": [
    {
     "data": {
      "text/plain": [
       "114285714"
      ]
     },
     "execution_count": 284,
     "metadata": {},
     "output_type": "execute_result"
    }
   ],
   "source": [
    "r.regs.lvds_f_sample_value.read()"
   ]
  },
  {
   "cell_type": "markdown",
   "metadata": {},
   "source": [
    "# Read and align clock data"
   ]
  },
  {
   "cell_type": "code",
   "execution_count": 288,
   "metadata": {},
   "outputs": [
    {
     "name": "stdout",
     "output_type": "stream",
     "text": [
      "0x0F 0b00001111\n"
     ]
    }
   ],
   "source": [
    "rVal = r.regs.lvds_clk_peek.read()\n",
    "print(\"0x{0:02X} 0b{0:08b}\".format(rVal))"
   ]
  },
  {
   "cell_type": "markdown",
   "metadata": {},
   "source": [
    "do a bitslip until we get 0x0F"
   ]
  },
  {
   "cell_type": "code",
   "execution_count": 287,
   "metadata": {},
   "outputs": [],
   "source": [
    "r.regs.lvds_bitslip_csr.write(1)"
   ]
  },
  {
   "cell_type": "markdown",
   "metadata": {},
   "source": [
    "# Map data lanes\n",
    "Check that each bit in the test-pattern end up in the right place in the output word"
   ]
  },
  {
   "cell_type": "code",
   "execution_count": 289,
   "metadata": {},
   "outputs": [
    {
     "name": "stdout",
     "output_type": "stream",
     "text": [
      "0000000000000001 0000000000000100\n",
      "0000000000000010 0000000000001000\n",
      "0000000000000100 0000000000010000\n",
      "0000000000001000 0000000000100000\n",
      "0000000000010000 0000000001000000\n",
      "0000000000100000 0000000010000000\n",
      "0000000001000000 0000000100000000\n",
      "0000000010000000 0000001000000000\n",
      "0000000100000000 0000010000000000\n",
      "0000001000000000 0000100000000000\n",
      "0000010000000000 0001000000000000\n",
      "0000100000000000 0010000000000000\n",
      "0001000000000000 0100000000000000\n",
      "0010000000000000 1000000000000000\n"
     ]
    }
   ],
   "source": [
    "for i in range(14):\n",
    "    tpValue = 1 << i\n",
    "    setTp(tpValue)\n",
    "    rVal = r.regs.lvds_data_peek.read()\n",
    "    print(\"{:016b} {:016b}\".format(tpValue, rVal))"
   ]
  },
  {
   "cell_type": "markdown",
   "metadata": {},
   "source": [
    "# Read ADC sample"
   ]
  },
  {
   "cell_type": "code",
   "execution_count": 290,
   "metadata": {},
   "outputs": [],
   "source": [
    "set_ltc_reg(3, 0)   # Test pattern off\n",
    "set_ltc_reg(1, 0)   # Randomizer off"
   ]
  },
  {
   "cell_type": "code",
   "execution_count": 296,
   "metadata": {},
   "outputs": [
    {
     "name": "stdout",
     "output_type": "stream",
     "text": [
      "0x6ae 0b011010101110\n",
      "-338\n"
     ]
    }
   ],
   "source": [
    "# Lowest 2 bits are always zero in 16 bit LVDS mode\n",
    "# 12 bit ADC, so next 2 bits are also zero\n",
    "rVal = r.regs.lvds_data_peek.read() >> 4\n",
    "print(\"0x{0:03x} 0b{0:012b}\".format(rVal))\n",
    "# Decode offset binary mode\n",
    "print(rVal - (1 << 11))"
   ]
  },
  {
   "cell_type": "markdown",
   "metadata": {},
   "source": [
    "# Read randomized ADC sample"
   ]
  },
  {
   "cell_type": "code",
   "execution_count": 297,
   "metadata": {},
   "outputs": [],
   "source": [
    "set_ltc_reg(1, (1<<6))   # Randomizer on"
   ]
  },
  {
   "cell_type": "code",
   "execution_count": 304,
   "metadata": {},
   "outputs": [
    {
     "name": "stdout",
     "output_type": "stream",
     "text": [
      "0x734 0b011100110100\n",
      "-204\n"
     ]
    }
   ],
   "source": [
    "rVal = r.regs.lvds_data_peek.read() >> 4\n",
    "print(\"0x{0:03x} 0b{0:012b}\".format(rVal))\n",
    "# XOR LSB with any other bit\n",
    "if rVal & 0x01:\n",
    "    rVal ^= 0xFFE\n",
    "# Decode offset binary mode\n",
    "print(rVal - (1 << 11))"
   ]
  },
  {
   "cell_type": "markdown",
   "metadata": {},
   "source": [
    "# Read phase detectors\n",
    "Make sure to disable the test-pattern to get transitions on all LVDS lanes"
   ]
  },
  {
   "cell_type": "code",
   "execution_count": 305,
   "metadata": {},
   "outputs": [
    {
     "data": {
      "text/plain": [
       "33554432"
      ]
     },
     "execution_count": 305,
     "metadata": {},
     "output_type": "execute_result"
    }
   ],
   "source": [
    "integr = 2**25\n",
    "r.regs.lvds_pd_period_csr.write(integr)\n",
    "r.regs.lvds_pd_period_csr.read()"
   ]
  },
  {
   "cell_type": "code",
   "execution_count": 307,
   "metadata": {},
   "outputs": [],
   "source": [
    "def printPd():\n",
    "    val0 = getInt32(r.regs.lvds_pd_phase_0.read()) / integr\n",
    "    val1 = getInt32(r.regs.lvds_pd_phase_1.read()) / integr\n",
    "    print(\"\\r{:0.3f}  {:0.3f}          \".format(val0, val1), end=\"\")\n",
    "    return val0, val1"
   ]
  },
  {
   "cell_type": "code",
   "execution_count": 314,
   "metadata": {},
   "outputs": [
    {
     "name": "stdout",
     "output_type": "stream",
     "text": [
      "\r",
      "-0.892  -0.919          "
     ]
    }
   ],
   "source": [
    "val0, val1 = printPd()"
   ]
  },
  {
   "cell_type": "markdown",
   "metadata": {},
   "source": [
    "# Control Idelays manually"
   ]
  },
  {
   "cell_type": "code",
   "execution_count": 390,
   "metadata": {},
   "outputs": [],
   "source": [
    "r.regs.lvds_idelay_auto.write(0)"
   ]
  },
  {
   "cell_type": "code",
   "execution_count": 407,
   "metadata": {},
   "outputs": [
    {
     "data": {
      "text/plain": [
       "1"
      ]
     },
     "execution_count": 407,
     "metadata": {},
     "output_type": "execute_result"
    }
   ],
   "source": [
    "# Choose channel\n",
    "r.regs.lvds_idelay_mux.write(1)\n",
    "r.regs.lvds_idelay_mux.read()"
   ]
  },
  {
   "cell_type": "code",
   "execution_count": 406,
   "metadata": {},
   "outputs": [],
   "source": [
    "r.regs.lvds_idelay_inc.write(0)   # Increment delay"
   ]
  },
  {
   "cell_type": "code",
   "execution_count": 422,
   "metadata": {},
   "outputs": [],
   "source": [
    "r.regs.lvds_idelay_dec.write(0)   # Decrement delay"
   ]
  },
  {
   "cell_type": "code",
   "execution_count": 423,
   "metadata": {},
   "outputs": [
    {
     "name": "stdout",
     "output_type": "stream",
     "text": [
      "\r",
      "1.000  -0.985          "
     ]
    },
    {
     "data": {
      "text/plain": [
       "(1.0, -0.9853743016719818)"
      ]
     },
     "execution_count": 423,
     "metadata": {},
     "output_type": "execute_result"
    }
   ],
   "source": [
    "printPd()"
   ]
  },
  {
   "cell_type": "markdown",
   "metadata": {},
   "source": [
    "# Control Idelays automatically\n",
    "Let the gateware step up / down the idelays and monitor the phase detector values"
   ]
  },
  {
   "cell_type": "code",
   "execution_count": 424,
   "metadata": {},
   "outputs": [
    {
     "name": "stdout",
     "output_type": "stream",
     "text": [
      "0.445  0.803            "
     ]
    },
    {
     "ename": "KeyboardInterrupt",
     "evalue": "",
     "output_type": "error",
     "traceback": [
      "\u001b[0;31m---------------------------------------------------------------------------\u001b[0m",
      "\u001b[0;31mKeyboardInterrupt\u001b[0m                         Traceback (most recent call last)",
      "\u001b[0;32m<ipython-input-424-995e2a211b3c>\u001b[0m in \u001b[0;36m<module>\u001b[0;34m\u001b[0m\n\u001b[1;32m      8\u001b[0m     \u001b[0mp0s\u001b[0m\u001b[0;34m.\u001b[0m\u001b[0mappend\u001b[0m\u001b[0;34m(\u001b[0m\u001b[0mval0\u001b[0m\u001b[0;34m)\u001b[0m\u001b[0;34m\u001b[0m\u001b[0m\n\u001b[1;32m      9\u001b[0m     \u001b[0mp1s\u001b[0m\u001b[0;34m.\u001b[0m\u001b[0mappend\u001b[0m\u001b[0;34m(\u001b[0m\u001b[0mval1\u001b[0m\u001b[0;34m)\u001b[0m\u001b[0;34m\u001b[0m\u001b[0m\n\u001b[0;32m---> 10\u001b[0;31m     \u001b[0mtime\u001b[0m\u001b[0;34m.\u001b[0m\u001b[0msleep\u001b[0m\u001b[0;34m(\u001b[0m\u001b[0;36m0.1\u001b[0m\u001b[0;34m)\u001b[0m\u001b[0;34m\u001b[0m\u001b[0m\n\u001b[0m",
      "\u001b[0;31mKeyboardInterrupt\u001b[0m: "
     ]
    }
   ],
   "source": [
    "# Enable / disable auto phase tracking mode\n",
    "r.regs.lvds_idelay_auto.write(1)\n",
    "# Print phase\n",
    "p0s = []\n",
    "p1s = []\n",
    "while True:\n",
    "    val0, val1 = printPd()\n",
    "    p0s.append(val0)\n",
    "    p1s.append(val1)\n",
    "    time.sleep(0.1)"
   ]
  },
  {
   "cell_type": "code",
   "execution_count": 425,
   "metadata": {},
   "outputs": [
    {
     "data": {
      "application/javascript": [
       "/* Put everything inside the global mpl namespace */\n",
       "window.mpl = {};\n",
       "\n",
       "\n",
       "mpl.get_websocket_type = function() {\n",
       "    if (typeof(WebSocket) !== 'undefined') {\n",
       "        return WebSocket;\n",
       "    } else if (typeof(MozWebSocket) !== 'undefined') {\n",
       "        return MozWebSocket;\n",
       "    } else {\n",
       "        alert('Your browser does not have WebSocket support.' +\n",
       "              'Please try Chrome, Safari or Firefox ≥ 6. ' +\n",
       "              'Firefox 4 and 5 are also supported but you ' +\n",
       "              'have to enable WebSockets in about:config.');\n",
       "    };\n",
       "}\n",
       "\n",
       "mpl.figure = function(figure_id, websocket, ondownload, parent_element) {\n",
       "    this.id = figure_id;\n",
       "\n",
       "    this.ws = websocket;\n",
       "\n",
       "    this.supports_binary = (this.ws.binaryType != undefined);\n",
       "\n",
       "    if (!this.supports_binary) {\n",
       "        var warnings = document.getElementById(\"mpl-warnings\");\n",
       "        if (warnings) {\n",
       "            warnings.style.display = 'block';\n",
       "            warnings.textContent = (\n",
       "                \"This browser does not support binary websocket messages. \" +\n",
       "                    \"Performance may be slow.\");\n",
       "        }\n",
       "    }\n",
       "\n",
       "    this.imageObj = new Image();\n",
       "\n",
       "    this.context = undefined;\n",
       "    this.message = undefined;\n",
       "    this.canvas = undefined;\n",
       "    this.rubberband_canvas = undefined;\n",
       "    this.rubberband_context = undefined;\n",
       "    this.format_dropdown = undefined;\n",
       "\n",
       "    this.image_mode = 'full';\n",
       "\n",
       "    this.root = $('<div/>');\n",
       "    this._root_extra_style(this.root)\n",
       "    this.root.attr('style', 'display: inline-block');\n",
       "\n",
       "    $(parent_element).append(this.root);\n",
       "\n",
       "    this._init_header(this);\n",
       "    this._init_canvas(this);\n",
       "    this._init_toolbar(this);\n",
       "\n",
       "    var fig = this;\n",
       "\n",
       "    this.waiting = false;\n",
       "\n",
       "    this.ws.onopen =  function () {\n",
       "            fig.send_message(\"supports_binary\", {value: fig.supports_binary});\n",
       "            fig.send_message(\"send_image_mode\", {});\n",
       "            if (mpl.ratio != 1) {\n",
       "                fig.send_message(\"set_dpi_ratio\", {'dpi_ratio': mpl.ratio});\n",
       "            }\n",
       "            fig.send_message(\"refresh\", {});\n",
       "        }\n",
       "\n",
       "    this.imageObj.onload = function() {\n",
       "            if (fig.image_mode == 'full') {\n",
       "                // Full images could contain transparency (where diff images\n",
       "                // almost always do), so we need to clear the canvas so that\n",
       "                // there is no ghosting.\n",
       "                fig.context.clearRect(0, 0, fig.canvas.width, fig.canvas.height);\n",
       "            }\n",
       "            fig.context.drawImage(fig.imageObj, 0, 0);\n",
       "        };\n",
       "\n",
       "    this.imageObj.onunload = function() {\n",
       "        fig.ws.close();\n",
       "    }\n",
       "\n",
       "    this.ws.onmessage = this._make_on_message_function(this);\n",
       "\n",
       "    this.ondownload = ondownload;\n",
       "}\n",
       "\n",
       "mpl.figure.prototype._init_header = function() {\n",
       "    var titlebar = $(\n",
       "        '<div class=\"ui-dialog-titlebar ui-widget-header ui-corner-all ' +\n",
       "        'ui-helper-clearfix\"/>');\n",
       "    var titletext = $(\n",
       "        '<div class=\"ui-dialog-title\" style=\"width: 100%; ' +\n",
       "        'text-align: center; padding: 3px;\"/>');\n",
       "    titlebar.append(titletext)\n",
       "    this.root.append(titlebar);\n",
       "    this.header = titletext[0];\n",
       "}\n",
       "\n",
       "\n",
       "\n",
       "mpl.figure.prototype._canvas_extra_style = function(canvas_div) {\n",
       "\n",
       "}\n",
       "\n",
       "\n",
       "mpl.figure.prototype._root_extra_style = function(canvas_div) {\n",
       "\n",
       "}\n",
       "\n",
       "mpl.figure.prototype._init_canvas = function() {\n",
       "    var fig = this;\n",
       "\n",
       "    var canvas_div = $('<div/>');\n",
       "\n",
       "    canvas_div.attr('style', 'position: relative; clear: both; outline: 0');\n",
       "\n",
       "    function canvas_keyboard_event(event) {\n",
       "        return fig.key_event(event, event['data']);\n",
       "    }\n",
       "\n",
       "    canvas_div.keydown('key_press', canvas_keyboard_event);\n",
       "    canvas_div.keyup('key_release', canvas_keyboard_event);\n",
       "    this.canvas_div = canvas_div\n",
       "    this._canvas_extra_style(canvas_div)\n",
       "    this.root.append(canvas_div);\n",
       "\n",
       "    var canvas = $('<canvas/>');\n",
       "    canvas.addClass('mpl-canvas');\n",
       "    canvas.attr('style', \"left: 0; top: 0; z-index: 0; outline: 0\")\n",
       "\n",
       "    this.canvas = canvas[0];\n",
       "    this.context = canvas[0].getContext(\"2d\");\n",
       "\n",
       "    var backingStore = this.context.backingStorePixelRatio ||\n",
       "\tthis.context.webkitBackingStorePixelRatio ||\n",
       "\tthis.context.mozBackingStorePixelRatio ||\n",
       "\tthis.context.msBackingStorePixelRatio ||\n",
       "\tthis.context.oBackingStorePixelRatio ||\n",
       "\tthis.context.backingStorePixelRatio || 1;\n",
       "\n",
       "    mpl.ratio = (window.devicePixelRatio || 1) / backingStore;\n",
       "\n",
       "    var rubberband = $('<canvas/>');\n",
       "    rubberband.attr('style', \"position: absolute; left: 0; top: 0; z-index: 1;\")\n",
       "\n",
       "    var pass_mouse_events = true;\n",
       "\n",
       "    canvas_div.resizable({\n",
       "        start: function(event, ui) {\n",
       "            pass_mouse_events = false;\n",
       "        },\n",
       "        resize: function(event, ui) {\n",
       "            fig.request_resize(ui.size.width, ui.size.height);\n",
       "        },\n",
       "        stop: function(event, ui) {\n",
       "            pass_mouse_events = true;\n",
       "            fig.request_resize(ui.size.width, ui.size.height);\n",
       "        },\n",
       "    });\n",
       "\n",
       "    function mouse_event_fn(event) {\n",
       "        if (pass_mouse_events)\n",
       "            return fig.mouse_event(event, event['data']);\n",
       "    }\n",
       "\n",
       "    rubberband.mousedown('button_press', mouse_event_fn);\n",
       "    rubberband.mouseup('button_release', mouse_event_fn);\n",
       "    // Throttle sequential mouse events to 1 every 20ms.\n",
       "    rubberband.mousemove('motion_notify', mouse_event_fn);\n",
       "\n",
       "    rubberband.mouseenter('figure_enter', mouse_event_fn);\n",
       "    rubberband.mouseleave('figure_leave', mouse_event_fn);\n",
       "\n",
       "    canvas_div.on(\"wheel\", function (event) {\n",
       "        event = event.originalEvent;\n",
       "        event['data'] = 'scroll'\n",
       "        if (event.deltaY < 0) {\n",
       "            event.step = 1;\n",
       "        } else {\n",
       "            event.step = -1;\n",
       "        }\n",
       "        mouse_event_fn(event);\n",
       "    });\n",
       "\n",
       "    canvas_div.append(canvas);\n",
       "    canvas_div.append(rubberband);\n",
       "\n",
       "    this.rubberband = rubberband;\n",
       "    this.rubberband_canvas = rubberband[0];\n",
       "    this.rubberband_context = rubberband[0].getContext(\"2d\");\n",
       "    this.rubberband_context.strokeStyle = \"#000000\";\n",
       "\n",
       "    this._resize_canvas = function(width, height) {\n",
       "        // Keep the size of the canvas, canvas container, and rubber band\n",
       "        // canvas in synch.\n",
       "        canvas_div.css('width', width)\n",
       "        canvas_div.css('height', height)\n",
       "\n",
       "        canvas.attr('width', width * mpl.ratio);\n",
       "        canvas.attr('height', height * mpl.ratio);\n",
       "        canvas.attr('style', 'width: ' + width + 'px; height: ' + height + 'px;');\n",
       "\n",
       "        rubberband.attr('width', width);\n",
       "        rubberband.attr('height', height);\n",
       "    }\n",
       "\n",
       "    // Set the figure to an initial 600x600px, this will subsequently be updated\n",
       "    // upon first draw.\n",
       "    this._resize_canvas(600, 600);\n",
       "\n",
       "    // Disable right mouse context menu.\n",
       "    $(this.rubberband_canvas).bind(\"contextmenu\",function(e){\n",
       "        return false;\n",
       "    });\n",
       "\n",
       "    function set_focus () {\n",
       "        canvas.focus();\n",
       "        canvas_div.focus();\n",
       "    }\n",
       "\n",
       "    window.setTimeout(set_focus, 100);\n",
       "}\n",
       "\n",
       "mpl.figure.prototype._init_toolbar = function() {\n",
       "    var fig = this;\n",
       "\n",
       "    var nav_element = $('<div/>')\n",
       "    nav_element.attr('style', 'width: 100%');\n",
       "    this.root.append(nav_element);\n",
       "\n",
       "    // Define a callback function for later on.\n",
       "    function toolbar_event(event) {\n",
       "        return fig.toolbar_button_onclick(event['data']);\n",
       "    }\n",
       "    function toolbar_mouse_event(event) {\n",
       "        return fig.toolbar_button_onmouseover(event['data']);\n",
       "    }\n",
       "\n",
       "    for(var toolbar_ind in mpl.toolbar_items) {\n",
       "        var name = mpl.toolbar_items[toolbar_ind][0];\n",
       "        var tooltip = mpl.toolbar_items[toolbar_ind][1];\n",
       "        var image = mpl.toolbar_items[toolbar_ind][2];\n",
       "        var method_name = mpl.toolbar_items[toolbar_ind][3];\n",
       "\n",
       "        if (!name) {\n",
       "            // put a spacer in here.\n",
       "            continue;\n",
       "        }\n",
       "        var button = $('<button/>');\n",
       "        button.addClass('ui-button ui-widget ui-state-default ui-corner-all ' +\n",
       "                        'ui-button-icon-only');\n",
       "        button.attr('role', 'button');\n",
       "        button.attr('aria-disabled', 'false');\n",
       "        button.click(method_name, toolbar_event);\n",
       "        button.mouseover(tooltip, toolbar_mouse_event);\n",
       "\n",
       "        var icon_img = $('<span/>');\n",
       "        icon_img.addClass('ui-button-icon-primary ui-icon');\n",
       "        icon_img.addClass(image);\n",
       "        icon_img.addClass('ui-corner-all');\n",
       "\n",
       "        var tooltip_span = $('<span/>');\n",
       "        tooltip_span.addClass('ui-button-text');\n",
       "        tooltip_span.html(tooltip);\n",
       "\n",
       "        button.append(icon_img);\n",
       "        button.append(tooltip_span);\n",
       "\n",
       "        nav_element.append(button);\n",
       "    }\n",
       "\n",
       "    var fmt_picker_span = $('<span/>');\n",
       "\n",
       "    var fmt_picker = $('<select/>');\n",
       "    fmt_picker.addClass('mpl-toolbar-option ui-widget ui-widget-content');\n",
       "    fmt_picker_span.append(fmt_picker);\n",
       "    nav_element.append(fmt_picker_span);\n",
       "    this.format_dropdown = fmt_picker[0];\n",
       "\n",
       "    for (var ind in mpl.extensions) {\n",
       "        var fmt = mpl.extensions[ind];\n",
       "        var option = $(\n",
       "            '<option/>', {selected: fmt === mpl.default_extension}).html(fmt);\n",
       "        fmt_picker.append(option)\n",
       "    }\n",
       "\n",
       "    // Add hover states to the ui-buttons\n",
       "    $( \".ui-button\" ).hover(\n",
       "        function() { $(this).addClass(\"ui-state-hover\");},\n",
       "        function() { $(this).removeClass(\"ui-state-hover\");}\n",
       "    );\n",
       "\n",
       "    var status_bar = $('<span class=\"mpl-message\"/>');\n",
       "    nav_element.append(status_bar);\n",
       "    this.message = status_bar[0];\n",
       "}\n",
       "\n",
       "mpl.figure.prototype.request_resize = function(x_pixels, y_pixels) {\n",
       "    // Request matplotlib to resize the figure. Matplotlib will then trigger a resize in the client,\n",
       "    // which will in turn request a refresh of the image.\n",
       "    this.send_message('resize', {'width': x_pixels, 'height': y_pixels});\n",
       "}\n",
       "\n",
       "mpl.figure.prototype.send_message = function(type, properties) {\n",
       "    properties['type'] = type;\n",
       "    properties['figure_id'] = this.id;\n",
       "    this.ws.send(JSON.stringify(properties));\n",
       "}\n",
       "\n",
       "mpl.figure.prototype.send_draw_message = function() {\n",
       "    if (!this.waiting) {\n",
       "        this.waiting = true;\n",
       "        this.ws.send(JSON.stringify({type: \"draw\", figure_id: this.id}));\n",
       "    }\n",
       "}\n",
       "\n",
       "\n",
       "mpl.figure.prototype.handle_save = function(fig, msg) {\n",
       "    var format_dropdown = fig.format_dropdown;\n",
       "    var format = format_dropdown.options[format_dropdown.selectedIndex].value;\n",
       "    fig.ondownload(fig, format);\n",
       "}\n",
       "\n",
       "\n",
       "mpl.figure.prototype.handle_resize = function(fig, msg) {\n",
       "    var size = msg['size'];\n",
       "    if (size[0] != fig.canvas.width || size[1] != fig.canvas.height) {\n",
       "        fig._resize_canvas(size[0], size[1]);\n",
       "        fig.send_message(\"refresh\", {});\n",
       "    };\n",
       "}\n",
       "\n",
       "mpl.figure.prototype.handle_rubberband = function(fig, msg) {\n",
       "    var x0 = msg['x0'] / mpl.ratio;\n",
       "    var y0 = (fig.canvas.height - msg['y0']) / mpl.ratio;\n",
       "    var x1 = msg['x1'] / mpl.ratio;\n",
       "    var y1 = (fig.canvas.height - msg['y1']) / mpl.ratio;\n",
       "    x0 = Math.floor(x0) + 0.5;\n",
       "    y0 = Math.floor(y0) + 0.5;\n",
       "    x1 = Math.floor(x1) + 0.5;\n",
       "    y1 = Math.floor(y1) + 0.5;\n",
       "    var min_x = Math.min(x0, x1);\n",
       "    var min_y = Math.min(y0, y1);\n",
       "    var width = Math.abs(x1 - x0);\n",
       "    var height = Math.abs(y1 - y0);\n",
       "\n",
       "    fig.rubberband_context.clearRect(\n",
       "        0, 0, fig.canvas.width, fig.canvas.height);\n",
       "\n",
       "    fig.rubberband_context.strokeRect(min_x, min_y, width, height);\n",
       "}\n",
       "\n",
       "mpl.figure.prototype.handle_figure_label = function(fig, msg) {\n",
       "    // Updates the figure title.\n",
       "    fig.header.textContent = msg['label'];\n",
       "}\n",
       "\n",
       "mpl.figure.prototype.handle_cursor = function(fig, msg) {\n",
       "    var cursor = msg['cursor'];\n",
       "    switch(cursor)\n",
       "    {\n",
       "    case 0:\n",
       "        cursor = 'pointer';\n",
       "        break;\n",
       "    case 1:\n",
       "        cursor = 'default';\n",
       "        break;\n",
       "    case 2:\n",
       "        cursor = 'crosshair';\n",
       "        break;\n",
       "    case 3:\n",
       "        cursor = 'move';\n",
       "        break;\n",
       "    }\n",
       "    fig.rubberband_canvas.style.cursor = cursor;\n",
       "}\n",
       "\n",
       "mpl.figure.prototype.handle_message = function(fig, msg) {\n",
       "    fig.message.textContent = msg['message'];\n",
       "}\n",
       "\n",
       "mpl.figure.prototype.handle_draw = function(fig, msg) {\n",
       "    // Request the server to send over a new figure.\n",
       "    fig.send_draw_message();\n",
       "}\n",
       "\n",
       "mpl.figure.prototype.handle_image_mode = function(fig, msg) {\n",
       "    fig.image_mode = msg['mode'];\n",
       "}\n",
       "\n",
       "mpl.figure.prototype.updated_canvas_event = function() {\n",
       "    // Called whenever the canvas gets updated.\n",
       "    this.send_message(\"ack\", {});\n",
       "}\n",
       "\n",
       "// A function to construct a web socket function for onmessage handling.\n",
       "// Called in the figure constructor.\n",
       "mpl.figure.prototype._make_on_message_function = function(fig) {\n",
       "    return function socket_on_message(evt) {\n",
       "        if (evt.data instanceof Blob) {\n",
       "            /* FIXME: We get \"Resource interpreted as Image but\n",
       "             * transferred with MIME type text/plain:\" errors on\n",
       "             * Chrome.  But how to set the MIME type?  It doesn't seem\n",
       "             * to be part of the websocket stream */\n",
       "            evt.data.type = \"image/png\";\n",
       "\n",
       "            /* Free the memory for the previous frames */\n",
       "            if (fig.imageObj.src) {\n",
       "                (window.URL || window.webkitURL).revokeObjectURL(\n",
       "                    fig.imageObj.src);\n",
       "            }\n",
       "\n",
       "            fig.imageObj.src = (window.URL || window.webkitURL).createObjectURL(\n",
       "                evt.data);\n",
       "            fig.updated_canvas_event();\n",
       "            fig.waiting = false;\n",
       "            return;\n",
       "        }\n",
       "        else if (typeof evt.data === 'string' && evt.data.slice(0, 21) == \"data:image/png;base64\") {\n",
       "            fig.imageObj.src = evt.data;\n",
       "            fig.updated_canvas_event();\n",
       "            fig.waiting = false;\n",
       "            return;\n",
       "        }\n",
       "\n",
       "        var msg = JSON.parse(evt.data);\n",
       "        var msg_type = msg['type'];\n",
       "\n",
       "        // Call the  \"handle_{type}\" callback, which takes\n",
       "        // the figure and JSON message as its only arguments.\n",
       "        try {\n",
       "            var callback = fig[\"handle_\" + msg_type];\n",
       "        } catch (e) {\n",
       "            console.log(\"No handler for the '\" + msg_type + \"' message type: \", msg);\n",
       "            return;\n",
       "        }\n",
       "\n",
       "        if (callback) {\n",
       "            try {\n",
       "                // console.log(\"Handling '\" + msg_type + \"' message: \", msg);\n",
       "                callback(fig, msg);\n",
       "            } catch (e) {\n",
       "                console.log(\"Exception inside the 'handler_\" + msg_type + \"' callback:\", e, e.stack, msg);\n",
       "            }\n",
       "        }\n",
       "    };\n",
       "}\n",
       "\n",
       "// from http://stackoverflow.com/questions/1114465/getting-mouse-location-in-canvas\n",
       "mpl.findpos = function(e) {\n",
       "    //this section is from http://www.quirksmode.org/js/events_properties.html\n",
       "    var targ;\n",
       "    if (!e)\n",
       "        e = window.event;\n",
       "    if (e.target)\n",
       "        targ = e.target;\n",
       "    else if (e.srcElement)\n",
       "        targ = e.srcElement;\n",
       "    if (targ.nodeType == 3) // defeat Safari bug\n",
       "        targ = targ.parentNode;\n",
       "\n",
       "    // jQuery normalizes the pageX and pageY\n",
       "    // pageX,Y are the mouse positions relative to the document\n",
       "    // offset() returns the position of the element relative to the document\n",
       "    var x = e.pageX - $(targ).offset().left;\n",
       "    var y = e.pageY - $(targ).offset().top;\n",
       "\n",
       "    return {\"x\": x, \"y\": y};\n",
       "};\n",
       "\n",
       "/*\n",
       " * return a copy of an object with only non-object keys\n",
       " * we need this to avoid circular references\n",
       " * http://stackoverflow.com/a/24161582/3208463\n",
       " */\n",
       "function simpleKeys (original) {\n",
       "  return Object.keys(original).reduce(function (obj, key) {\n",
       "    if (typeof original[key] !== 'object')\n",
       "        obj[key] = original[key]\n",
       "    return obj;\n",
       "  }, {});\n",
       "}\n",
       "\n",
       "mpl.figure.prototype.mouse_event = function(event, name) {\n",
       "    var canvas_pos = mpl.findpos(event)\n",
       "\n",
       "    if (name === 'button_press')\n",
       "    {\n",
       "        this.canvas.focus();\n",
       "        this.canvas_div.focus();\n",
       "    }\n",
       "\n",
       "    var x = canvas_pos.x * mpl.ratio;\n",
       "    var y = canvas_pos.y * mpl.ratio;\n",
       "\n",
       "    this.send_message(name, {x: x, y: y, button: event.button,\n",
       "                             step: event.step,\n",
       "                             guiEvent: simpleKeys(event)});\n",
       "\n",
       "    /* This prevents the web browser from automatically changing to\n",
       "     * the text insertion cursor when the button is pressed.  We want\n",
       "     * to control all of the cursor setting manually through the\n",
       "     * 'cursor' event from matplotlib */\n",
       "    event.preventDefault();\n",
       "    return false;\n",
       "}\n",
       "\n",
       "mpl.figure.prototype._key_event_extra = function(event, name) {\n",
       "    // Handle any extra behaviour associated with a key event\n",
       "}\n",
       "\n",
       "mpl.figure.prototype.key_event = function(event, name) {\n",
       "\n",
       "    // Prevent repeat events\n",
       "    if (name == 'key_press')\n",
       "    {\n",
       "        if (event.which === this._key)\n",
       "            return;\n",
       "        else\n",
       "            this._key = event.which;\n",
       "    }\n",
       "    if (name == 'key_release')\n",
       "        this._key = null;\n",
       "\n",
       "    var value = '';\n",
       "    if (event.ctrlKey && event.which != 17)\n",
       "        value += \"ctrl+\";\n",
       "    if (event.altKey && event.which != 18)\n",
       "        value += \"alt+\";\n",
       "    if (event.shiftKey && event.which != 16)\n",
       "        value += \"shift+\";\n",
       "\n",
       "    value += 'k';\n",
       "    value += event.which.toString();\n",
       "\n",
       "    this._key_event_extra(event, name);\n",
       "\n",
       "    this.send_message(name, {key: value,\n",
       "                             guiEvent: simpleKeys(event)});\n",
       "    return false;\n",
       "}\n",
       "\n",
       "mpl.figure.prototype.toolbar_button_onclick = function(name) {\n",
       "    if (name == 'download') {\n",
       "        this.handle_save(this, null);\n",
       "    } else {\n",
       "        this.send_message(\"toolbar_button\", {name: name});\n",
       "    }\n",
       "};\n",
       "\n",
       "mpl.figure.prototype.toolbar_button_onmouseover = function(tooltip) {\n",
       "    this.message.textContent = tooltip;\n",
       "};\n",
       "mpl.toolbar_items = [[\"Home\", \"Reset original view\", \"fa fa-home icon-home\", \"home\"], [\"Back\", \"Back to previous view\", \"fa fa-arrow-left icon-arrow-left\", \"back\"], [\"Forward\", \"Forward to next view\", \"fa fa-arrow-right icon-arrow-right\", \"forward\"], [\"\", \"\", \"\", \"\"], [\"Pan\", \"Pan axes with left mouse, zoom with right\", \"fa fa-arrows icon-move\", \"pan\"], [\"Zoom\", \"Zoom to rectangle\", \"fa fa-square-o icon-check-empty\", \"zoom\"], [\"\", \"\", \"\", \"\"], [\"Download\", \"Download plot\", \"fa fa-floppy-o icon-save\", \"download\"]];\n",
       "\n",
       "mpl.extensions = [\"eps\", \"jpeg\", \"pdf\", \"png\", \"ps\", \"raw\", \"svg\", \"tif\"];\n",
       "\n",
       "mpl.default_extension = \"png\";var comm_websocket_adapter = function(comm) {\n",
       "    // Create a \"websocket\"-like object which calls the given IPython comm\n",
       "    // object with the appropriate methods. Currently this is a non binary\n",
       "    // socket, so there is still some room for performance tuning.\n",
       "    var ws = {};\n",
       "\n",
       "    ws.close = function() {\n",
       "        comm.close()\n",
       "    };\n",
       "    ws.send = function(m) {\n",
       "        //console.log('sending', m);\n",
       "        comm.send(m);\n",
       "    };\n",
       "    // Register the callback with on_msg.\n",
       "    comm.on_msg(function(msg) {\n",
       "        //console.log('receiving', msg['content']['data'], msg);\n",
       "        // Pass the mpl event to the overridden (by mpl) onmessage function.\n",
       "        ws.onmessage(msg['content']['data'])\n",
       "    });\n",
       "    return ws;\n",
       "}\n",
       "\n",
       "mpl.mpl_figure_comm = function(comm, msg) {\n",
       "    // This is the function which gets called when the mpl process\n",
       "    // starts-up an IPython Comm through the \"matplotlib\" channel.\n",
       "\n",
       "    var id = msg.content.data.id;\n",
       "    // Get hold of the div created by the display call when the Comm\n",
       "    // socket was opened in Python.\n",
       "    var element = $(\"#\" + id);\n",
       "    var ws_proxy = comm_websocket_adapter(comm)\n",
       "\n",
       "    function ondownload(figure, format) {\n",
       "        window.open(figure.imageObj.src);\n",
       "    }\n",
       "\n",
       "    var fig = new mpl.figure(id, ws_proxy,\n",
       "                           ondownload,\n",
       "                           element.get(0));\n",
       "\n",
       "    // Call onopen now - mpl needs it, as it is assuming we've passed it a real\n",
       "    // web socket which is closed, not our websocket->open comm proxy.\n",
       "    ws_proxy.onopen();\n",
       "\n",
       "    fig.parent_element = element.get(0);\n",
       "    fig.cell_info = mpl.find_output_cell(\"<div id='\" + id + \"'></div>\");\n",
       "    if (!fig.cell_info) {\n",
       "        console.error(\"Failed to find cell for figure\", id, fig);\n",
       "        return;\n",
       "    }\n",
       "\n",
       "    var output_index = fig.cell_info[2]\n",
       "    var cell = fig.cell_info[0];\n",
       "\n",
       "};\n",
       "\n",
       "mpl.figure.prototype.handle_close = function(fig, msg) {\n",
       "    var width = fig.canvas.width/mpl.ratio\n",
       "    fig.root.unbind('remove')\n",
       "\n",
       "    // Update the output cell to use the data from the current canvas.\n",
       "    fig.push_to_output();\n",
       "    var dataURL = fig.canvas.toDataURL();\n",
       "    // Re-enable the keyboard manager in IPython - without this line, in FF,\n",
       "    // the notebook keyboard shortcuts fail.\n",
       "    IPython.keyboard_manager.enable()\n",
       "    $(fig.parent_element).html('<img src=\"' + dataURL + '\" width=\"' + width + '\">');\n",
       "    fig.close_ws(fig, msg);\n",
       "}\n",
       "\n",
       "mpl.figure.prototype.close_ws = function(fig, msg){\n",
       "    fig.send_message('closing', msg);\n",
       "    // fig.ws.close()\n",
       "}\n",
       "\n",
       "mpl.figure.prototype.push_to_output = function(remove_interactive) {\n",
       "    // Turn the data on the canvas into data in the output cell.\n",
       "    var width = this.canvas.width/mpl.ratio\n",
       "    var dataURL = this.canvas.toDataURL();\n",
       "    this.cell_info[1]['text/html'] = '<img src=\"' + dataURL + '\" width=\"' + width + '\">';\n",
       "}\n",
       "\n",
       "mpl.figure.prototype.updated_canvas_event = function() {\n",
       "    // Tell IPython that the notebook contents must change.\n",
       "    IPython.notebook.set_dirty(true);\n",
       "    this.send_message(\"ack\", {});\n",
       "    var fig = this;\n",
       "    // Wait a second, then push the new image to the DOM so\n",
       "    // that it is saved nicely (might be nice to debounce this).\n",
       "    setTimeout(function () { fig.push_to_output() }, 1000);\n",
       "}\n",
       "\n",
       "mpl.figure.prototype._init_toolbar = function() {\n",
       "    var fig = this;\n",
       "\n",
       "    var nav_element = $('<div/>')\n",
       "    nav_element.attr('style', 'width: 100%');\n",
       "    this.root.append(nav_element);\n",
       "\n",
       "    // Define a callback function for later on.\n",
       "    function toolbar_event(event) {\n",
       "        return fig.toolbar_button_onclick(event['data']);\n",
       "    }\n",
       "    function toolbar_mouse_event(event) {\n",
       "        return fig.toolbar_button_onmouseover(event['data']);\n",
       "    }\n",
       "\n",
       "    for(var toolbar_ind in mpl.toolbar_items){\n",
       "        var name = mpl.toolbar_items[toolbar_ind][0];\n",
       "        var tooltip = mpl.toolbar_items[toolbar_ind][1];\n",
       "        var image = mpl.toolbar_items[toolbar_ind][2];\n",
       "        var method_name = mpl.toolbar_items[toolbar_ind][3];\n",
       "\n",
       "        if (!name) { continue; };\n",
       "\n",
       "        var button = $('<button class=\"btn btn-default\" href=\"#\" title=\"' + name + '\"><i class=\"fa ' + image + ' fa-lg\"></i></button>');\n",
       "        button.click(method_name, toolbar_event);\n",
       "        button.mouseover(tooltip, toolbar_mouse_event);\n",
       "        nav_element.append(button);\n",
       "    }\n",
       "\n",
       "    // Add the status bar.\n",
       "    var status_bar = $('<span class=\"mpl-message\" style=\"text-align:right; float: right;\"/>');\n",
       "    nav_element.append(status_bar);\n",
       "    this.message = status_bar[0];\n",
       "\n",
       "    // Add the close button to the window.\n",
       "    var buttongrp = $('<div class=\"btn-group inline pull-right\"></div>');\n",
       "    var button = $('<button class=\"btn btn-mini btn-primary\" href=\"#\" title=\"Stop Interaction\"><i class=\"fa fa-power-off icon-remove icon-large\"></i></button>');\n",
       "    button.click(function (evt) { fig.handle_close(fig, {}); } );\n",
       "    button.mouseover('Stop Interaction', toolbar_mouse_event);\n",
       "    buttongrp.append(button);\n",
       "    var titlebar = this.root.find($('.ui-dialog-titlebar'));\n",
       "    titlebar.prepend(buttongrp);\n",
       "}\n",
       "\n",
       "mpl.figure.prototype._root_extra_style = function(el){\n",
       "    var fig = this\n",
       "    el.on(\"remove\", function(){\n",
       "\tfig.close_ws(fig, {});\n",
       "    });\n",
       "}\n",
       "\n",
       "mpl.figure.prototype._canvas_extra_style = function(el){\n",
       "    // this is important to make the div 'focusable\n",
       "    el.attr('tabindex', 0)\n",
       "    // reach out to IPython and tell the keyboard manager to turn it's self\n",
       "    // off when our div gets focus\n",
       "\n",
       "    // location in version 3\n",
       "    if (IPython.notebook.keyboard_manager) {\n",
       "        IPython.notebook.keyboard_manager.register_events(el);\n",
       "    }\n",
       "    else {\n",
       "        // location in version 2\n",
       "        IPython.keyboard_manager.register_events(el);\n",
       "    }\n",
       "\n",
       "}\n",
       "\n",
       "mpl.figure.prototype._key_event_extra = function(event, name) {\n",
       "    var manager = IPython.notebook.keyboard_manager;\n",
       "    if (!manager)\n",
       "        manager = IPython.keyboard_manager;\n",
       "\n",
       "    // Check for shift+enter\n",
       "    if (event.shiftKey && event.which == 13) {\n",
       "        this.canvas_div.blur();\n",
       "        event.shiftKey = false;\n",
       "        // Send a \"J\" for go to next cell\n",
       "        event.which = 74;\n",
       "        event.keyCode = 74;\n",
       "        manager.command_mode();\n",
       "        manager.handle_keydown(event);\n",
       "    }\n",
       "}\n",
       "\n",
       "mpl.figure.prototype.handle_save = function(fig, msg) {\n",
       "    fig.ondownload(fig, null);\n",
       "}\n",
       "\n",
       "\n",
       "mpl.find_output_cell = function(html_output) {\n",
       "    // Return the cell and output element which can be found *uniquely* in the notebook.\n",
       "    // Note - this is a bit hacky, but it is done because the \"notebook_saving.Notebook\"\n",
       "    // IPython event is triggered only after the cells have been serialised, which for\n",
       "    // our purposes (turning an active figure into a static one), is too late.\n",
       "    var cells = IPython.notebook.get_cells();\n",
       "    var ncells = cells.length;\n",
       "    for (var i=0; i<ncells; i++) {\n",
       "        var cell = cells[i];\n",
       "        if (cell.cell_type === 'code'){\n",
       "            for (var j=0; j<cell.output_area.outputs.length; j++) {\n",
       "                var data = cell.output_area.outputs[j];\n",
       "                if (data.data) {\n",
       "                    // IPython >= 3 moved mimebundle to data attribute of output\n",
       "                    data = data.data;\n",
       "                }\n",
       "                if (data['text/html'] == html_output) {\n",
       "                    return [cell, data, j];\n",
       "                }\n",
       "            }\n",
       "        }\n",
       "    }\n",
       "}\n",
       "\n",
       "// Register the function which deals with the matplotlib target/channel.\n",
       "// The kernel may be null if the page has been refreshed.\n",
       "if (IPython.notebook.kernel != null) {\n",
       "    IPython.notebook.kernel.comm_manager.register_target('matplotlib', mpl.mpl_figure_comm);\n",
       "}\n"
      ],
      "text/plain": [
       "<IPython.core.display.Javascript object>"
      ]
     },
     "metadata": {},
     "output_type": "display_data"
    },
    {
     "data": {
      "text/html": [
       "<img src=\"data:image/png;base64,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\" width=\"640\">"
      ],
      "text/plain": [
       "<IPython.core.display.HTML object>"
      ]
     },
     "metadata": {},
     "output_type": "display_data"
    },
    {
     "data": {
      "text/plain": [
       "[<matplotlib.lines.Line2D at 0x7f456ac0af28>]"
      ]
     },
     "execution_count": 425,
     "metadata": {},
     "output_type": "execute_result"
    }
   ],
   "source": [
    "close(\"all\")\n",
    "plot(p0s, \"-o\")\n",
    "plot(p1s, \"-o\")"
   ]
  },
  {
   "cell_type": "code",
   "execution_count": 42,
   "metadata": {},
   "outputs": [],
   "source": [
    "r.close()"
   ]
  }
 ],
 "metadata": {
  "kernelspec": {
   "display_name": "Python 3",
   "language": "python",
   "name": "python3"
  },
  "language_info": {
   "codemirror_mode": {
    "name": "ipython",
    "version": 3
   },
   "file_extension": ".py",
   "mimetype": "text/x-python",
   "name": "python",
   "nbconvert_exporter": "python",
   "pygments_lexer": "ipython3",
   "version": "3.6.6"
  }
 },
 "nbformat": 4,
 "nbformat_minor": 2
}
