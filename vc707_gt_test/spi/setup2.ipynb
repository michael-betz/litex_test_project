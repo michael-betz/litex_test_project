{
 "cells": [
  {
   "cell_type": "code",
   "execution_count": 1,
   "metadata": {},
   "outputs": [],
   "source": [
    "import sys\n",
    "sys.path.append(\"../..\")\n",
    "from common import *\n",
    "from ad9174 import Ad9174Settings, Ad9174Init"
   ]
  },
  {
   "cell_type": "code",
   "execution_count": 2,
   "metadata": {},
   "outputs": [
    {
     "name": "stdout",
     "output_type": "stream",
     "text": [
      "----------------\n",
      " JESD mode 11\n",
      "----------------\n",
      "INTERP_CH: 1  INTERP_MAIN: 2  DSP_CLK_DIV: 16\n",
      "JESD204BSettings(): 5a 05 00 87 01 1f 01 0f 2f 23 80 00 00 e8 \n",
      "         DID:  90        BID:   5     ADJCNT:   0        LID:   0 \n",
      "       PHADJ:   0     ADJDIR:   0          L:   8        SCR:   1 \n",
      "           F:   2          K:  32          M:   2          N:  16 \n",
      "          CS:   0         NP:  16  SUBCLASSV:   1          S:   4 \n",
      "       JESDV:   1         CF:   0         HD:   1       RES1:   0 \n",
      "        RES2:   0       FCHK: 232 \n",
      "   [ LINK_DW:  32     FR_CLK:   2 ]\n"
     ]
    }
   ],
   "source": [
    "settings = Ad9174Settings(json_file='../build/csr.json')\n",
    "print(settings)"
   ]
  },
  {
   "cell_type": "code",
   "execution_count": 3,
   "metadata": {},
   "outputs": [
    {
     "name": "stdout",
     "output_type": "stream",
     "text": [
      "Connected to Port 1234\n",
      "AD9174 + VC707 test 2020-04-25 15:41:16\n"
     ]
    }
   ],
   "source": [
    "r = conLitexServer('../build/csr.csv')"
   ]
  },
  {
   "cell_type": "code",
   "execution_count": 4,
   "metadata": {},
   "outputs": [],
   "source": [
    "ad = Ad9174Init(r, settings)"
   ]
  },
  {
   "cell_type": "code",
   "execution_count": 5,
   "metadata": {},
   "outputs": [],
   "source": [
    "ad.init_hmc()"
   ]
  },
  {
   "cell_type": "code",
   "execution_count": 6,
   "metadata": {},
   "outputs": [
    {
     "name": "stdout",
     "output_type": "stream",
     "text": [
      "f_device = 320.001229 MHz  f_ref = 2.000008 MHz\n"
     ]
    }
   ],
   "source": [
    "ad.print_fpga_clocks()"
   ]
  },
  {
   "cell_type": "code",
   "execution_count": 21,
   "metadata": {},
   "outputs": [
    {
     "name": "stdout",
     "output_type": "stream",
     "text": [
      "AD917X_NVM_BLR_DONE: 1\n",
      "PROD_ID: 0x9174\n",
      "PROD_GRADE: 0  DEV_REVISION: 5\n",
      "DLL locked: 1\n",
      "SPI_PAGEINDX: 0b01000001\n",
      "CAL_STAT: 1\n",
      "SERDES PLL locked: 1\n",
      "MODE_NOT_IN_TABLE: 0\n",
      "SYNC_ROTATION_DONE 1\n",
      "DYN_LINK_LATENCY  5 cycles\n",
      "FPGA link ready / jsync: 11\n"
     ]
    }
   ],
   "source": [
    "ad.init_ad9174(-5)\n",
    "print('FPGA link ready / jsync: {:02b}'.format(r.regs.control_status.read()))\n",
    "if ad.print_irq_flags(True):\n",
    "    raise RuntimeError('init error')"
   ]
  },
  {
   "cell_type": "code",
   "execution_count": 22,
   "metadata": {},
   "outputs": [
    {
     "name": "stdout",
     "output_type": "stream",
     "text": [
      "\n",
      "JESD settings, received on lane 0 vs (programmed):\n",
      "450: 5a (5a)\n",
      "451: 05 (05)\n",
      "452: 00 (00)\n",
      "453: 87 (87)\n",
      "454: 01 (01)\n",
      "455: 1f (1f)\n",
      "456: 01 (01)\n",
      "457: 0f (0f)\n",
      "458: 2f (2f)\n",
      "459: 23 (23)\n",
      "45a: 80 (80)\n",
      "45b: 00 (00)\n",
      "45c: 00 (00)\n",
      "45d: e8 (e8)\n",
      "CHK: e8 (e8) \n",
      "\n",
      "Lane status:\n",
      "      LANE_DESKEW: 11111111\n",
      "    BAD_DISPARITY: 00000000\n",
      "     NOT_IN_TABLE: 00000000\n",
      " UNEXPECTED_KCHAR: 00000000\n",
      "    CODE_GRP_SYNC: 11111111\n",
      "       FRAME_SYNC: 11111111\n",
      "    GOOD_CHECKSUM: 11111111\n",
      "   INIT_LANE_SYNC: 11111111\n",
      "FIFO_STATUS_REG_0: 00000000\n",
      "FIFO_STATUS_REG_1: 00000000\n",
      "fpga j_sync errs: 2\n",
      "\n",
      "STPL test:\n",
      "converter: 0, sample: 0, tp: 597a, fail: 0\n",
      "converter: 0, sample: 1, tp: b2f3, fail: 0\n",
      "converter: 0, sample: 2, tp: 0c6c, fail: 0\n",
      "converter: 0, sample: 3, tp: 65e5, fail: 0\n",
      "converter: 1, sample: 0, tp: d27a, fail: 0\n",
      "converter: 1, sample: 1, tp: 2bf3, fail: 0\n",
      "converter: 1, sample: 2, tp: 856c, fail: 0\n",
      "converter: 1, sample: 3, tp: dee5, fail: 0\n"
     ]
    },
    {
     "data": {
      "text/plain": [
       "0"
      ]
     },
     "execution_count": 22,
     "metadata": {},
     "output_type": "execute_result"
    }
   ],
   "source": [
    "ad.print_irq_flags(True)\n",
    "print()\n",
    "\n",
    "ad.print_ilas()\n",
    "\n",
    "ad.print_lane_status()\n",
    "print()\n",
    "\n",
    "ad.test_stpl()"
   ]
  },
  {
   "cell_type": "code",
   "execution_count": 15,
   "metadata": {},
   "outputs": [
    {
     "name": "stdout",
     "output_type": "stream",
     "text": [
      "SYNC_ROTATION_DONE 1\n",
      "DYN_LINK_LATENCY  2 cycles\n",
      "\n",
      "JESD_IRQ_STATUSA: Code Group Sync. failed\n",
      "JESD_IRQ_STATUSA: Frame Sync. failed\n",
      "IRQ_STATUS: JESD204x receiver not ready\n"
     ]
    },
    {
     "data": {
      "text/plain": [
       "True"
      ]
     },
     "execution_count": 15,
     "metadata": {},
     "output_type": "execute_result"
    }
   ],
   "source": [
    "ad.print_irq_flags(True)\n",
    "ad.trigger_jref_sync()\n",
    "print()\n",
    "ad.print_irq_flags(True)"
   ]
  },
  {
   "cell_type": "code",
   "execution_count": 38,
   "metadata": {},
   "outputs": [],
   "source": [
    "r.regs.phy0_transmitter_tp_on.write(1)\n",
    "r.regs.phy0_transmitter_tp.write(0b0000000000001111111101111111111100000000)\n",
    "r.regs.phy1_transmitter_tp_on.write(1)\n",
    "r.regs.phy2_transmitter_tp_on.write(1)\n",
    "r.regs.phy3_transmitter_tp_on.write(1)\n",
    "r.regs.phy4_transmitter_tp_on.write(1)\n",
    "r.regs.phy5_transmitter_tp_on.write(1)\n",
    "r.regs.phy6_transmitter_tp_on.write(1)\n",
    "r.regs.phy7_transmitter_tp_on.write(1)\n",
    "r.regs.phy7_transmitter_tp.write(0b0000000000001111111101111111111100000000)"
   ]
  },
  {
   "cell_type": "code",
   "execution_count": 45,
   "metadata": {},
   "outputs": [
    {
     "name": "stdout",
     "output_type": "stream",
     "text": [
      "PHY_SNAPSHOT_DATA:\n",
      "0: 0xc5354a6d94, 0b1100010100110101010010100110110110010100\n",
      "1: 0x3b0dc3a31b, 0b0011101100001101110000111010001100011011\n",
      "2: 0x829f5829f5, 0b1000001010011111010110000010100111110101\n",
      "3: 0x9b98b69274, 0b1001101110011000101101101001001001110100\n",
      "4: 0xa368c5ccce, 0b1010001101101000110001011100110011001110\n",
      "5: 0xac14fac14f, 0b1010110000010100111110101100000101001111\n",
      "6: 0x619d1ab62c, 0b0110000110011101000110101011011000101100\n",
      "7: 0xb053eb053e, 0b1011000001010011111010110000010100111110\n"
     ]
    }
   ],
   "source": [
    "ad.print_phy_snapshot()"
   ]
  },
  {
   "cell_type": "code",
   "execution_count": 44,
   "metadata": {},
   "outputs": [],
   "source": [
    "r.regs.phy0_transmitter_tp_on.write(0)\n",
    "r.regs.phy1_transmitter_tp_on.write(0)\n",
    "r.regs.phy2_transmitter_tp_on.write(0)\n",
    "r.regs.phy3_transmitter_tp_on.write(0)\n",
    "r.regs.phy4_transmitter_tp_on.write(0)\n",
    "r.regs.phy5_transmitter_tp_on.write(0)\n",
    "r.regs.phy6_transmitter_tp_on.write(0)\n",
    "r.regs.phy7_transmitter_tp_on.write(0)"
   ]
  }
 ],
 "metadata": {
  "kernelspec": {
   "display_name": "Python 3",
   "language": "python",
   "name": "python3"
  },
  "language_info": {
   "codemirror_mode": {
    "name": "ipython",
    "version": 3
   },
   "file_extension": ".py",
   "mimetype": "text/x-python",
   "name": "python",
   "nbconvert_exporter": "python",
   "pygments_lexer": "ipython3",
   "version": "3.5.3"
  }
 },
 "nbformat": 4,
 "nbformat_minor": 2
}
