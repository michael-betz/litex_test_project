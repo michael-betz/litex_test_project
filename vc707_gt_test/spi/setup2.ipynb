{
 "cells": [
  {
   "cell_type": "code",
   "execution_count": 1,
   "metadata": {},
   "outputs": [],
   "source": [
    "import sys\n",
    "sys.path.append(\"../..\")\n",
    "from common import *\n",
    "from ad9174 import Ad9174Settings, Ad9174Init"
   ]
  },
  {
   "cell_type": "code",
   "execution_count": 2,
   "metadata": {},
   "outputs": [
    {
     "name": "stdout",
     "output_type": "stream",
     "text": [
      "jesd_import ADJCNT 0\n",
      "jesd_import ADJDIR 0\n",
      "jesd_import BID 5\n",
      "jesd_import CF 0\n",
      "jesd_import CS 0\n",
      "jesd_import DID 90\n",
      "jesd_import DSP_CLK_DIV 32\n",
      "jesd_import F 4\n",
      "jesd_import FCHK 230\n",
      "jesd_import FCHK_OVER_OCTETS True\n",
      "jesd_import FR_CLK 1\n",
      "jesd_import HD 1\n",
      "jesd_import INTERP_CH 4\n",
      "jesd_import INTERP_MAIN 8\n",
      "jesd_import JESD_MODE 2\n",
      "jesd_import JESDV 1\n",
      "jesd_import K 32\n",
      "jesd_import L 3\n",
      "jesd_import LID 0\n",
      "jesd_import LINK_DW 32\n",
      "jesd_import M 6\n",
      "jesd_import N 16\n",
      "jesd_import NP 16\n",
      "jesd_import PHADJ 0\n",
      "jesd_import RES1 0\n",
      "jesd_import RES2 0\n",
      "jesd_import S 1\n",
      "jesd_import SCR 1\n",
      "jesd_import SUBCLASSV 1\n"
     ]
    },
    {
     "data": {
      "text/plain": [
       "----------------\n",
       " JESD mode 2\n",
       "----------------\n",
       "INTERP_CH: 4  INTERP_MAIN: 8  DSP_CLK_DIV: 32\n",
       "JESD204BSettings(): 5a 05 00 82 03 1f 05 0f 2f 20 80 00 00 e6 \n",
       "         DID:  90        BID:   5     ADJCNT:   0        LID:   0 \n",
       "       PHADJ:   0     ADJDIR:   0          L:   3        SCR:   1 \n",
       "           F:   4          K:  32          M:   6          N:  16 \n",
       "          CS:   0         NP:  16  SUBCLASSV:   1          S:   1 \n",
       "       JESDV:   1         CF:   0         HD:   1       RES1:   0 \n",
       "        RES2:   0       FCHK: 230 \n",
       "   [ LINK_DW:  32     FR_CLK:   1 ]"
      ]
     },
     "execution_count": 2,
     "metadata": {},
     "output_type": "execute_result"
    }
   ],
   "source": [
    "Ad9174Settings(json_file='../build/csr.json')"
   ]
  },
  {
   "cell_type": "code",
   "execution_count": 2,
   "metadata": {},
   "outputs": [
    {
     "name": "stdout",
     "output_type": "stream",
     "text": [
      "----------------\n",
      " JESD mode 0\n",
      "----------------\n",
      "interp_ch: 4  interp_main: 8  dsp_clk_div: 32\n",
      "JESD204BSettings(): 5a 05 00 80 03 1f 01 0f 2f 20 80 00 00 e0 \n",
      "         DID:  90        BID:   5     ADJCNT:   0        LID:   0 \n",
      "       PHADJ:   0     ADJDIR:   0          L:   1        SCR:   1 \n",
      "           F:   4          K:  32          M:   2          N:  16 \n",
      "          CS:   0         NP:  16  SUBCLASSV:   1          S:   1 \n",
      "       JESDV:   1         CF:   0         HD:   1       RES1:   0 \n",
      "        RES2:   0       FCHK: 224 \n",
      "   [ LINK DW:  32   FR / CLK:   1 ]\n"
     ]
    }
   ],
   "source": [
    "settings = Ad9174Settings(\n",
    "    0, 4, 8,\n",
    "    fchk_over_octets=True,\n",
    "    SCR=1,\n",
    "    DID=0x5A, \n",
    "    BID=0x05\n",
    ")\n",
    "print(settings)"
   ]
  },
  {
   "cell_type": "code",
   "execution_count": 3,
   "metadata": {},
   "outputs": [
    {
     "name": "stdout",
     "output_type": "stream",
     "text": [
      "Connected to Port 1234\n",
      "AD9174 + VC707 test 2020-04-24 00:11:06\n"
     ]
    }
   ],
   "source": [
    "r = conLitexServer('../build/csr.csv')"
   ]
  },
  {
   "cell_type": "code",
   "execution_count": 4,
   "metadata": {},
   "outputs": [],
   "source": [
    "ad = Ad9174Init(r, settings)"
   ]
  },
  {
   "cell_type": "code",
   "execution_count": 5,
   "metadata": {},
   "outputs": [],
   "source": [
    "ad.init_hmc()"
   ]
  },
  {
   "cell_type": "code",
   "execution_count": 9,
   "metadata": {},
   "outputs": [
    {
     "name": "stdout",
     "output_type": "stream",
     "text": [
      "f_device = 160.000463 MHz  f_ref = 1.600005 MHz\n"
     ]
    }
   ],
   "source": [
    "ad.print_fpga_clocks()"
   ]
  },
  {
   "cell_type": "code",
   "execution_count": 7,
   "metadata": {},
   "outputs": [
    {
     "name": "stdout",
     "output_type": "stream",
     "text": [
      "AD917X_NVM_BLR_DONE: 1\n",
      "PROD_ID: 0x9174\n",
      "PROD_GRADE: 0  DEV_REVISION: 5\n",
      "DLL locked: 1\n",
      "SPI_PAGEINDX: 0b01000001\n",
      "CAL_STAT: 1\n",
      "SERDES PLL locked: 1\n",
      "MODE_NOT_IN_TABLE: 0\n",
      "SYNC_ROTATION_DONE 1\n",
      "DYN_LINK_LATENCY  5 cycles\n",
      "FPGA link ready / jsync: 11\n"
     ]
    }
   ],
   "source": [
    "ad.init_ad9174()\n",
    "print('FPGA link ready / jsync: {:02b}'.format(r.regs.control_status.read()))\n",
    "if ad.print_irq_flags(True):\n",
    "    raise RuntimeError('init error')"
   ]
  },
  {
   "cell_type": "code",
   "execution_count": 13,
   "metadata": {},
   "outputs": [
    {
     "name": "stdout",
     "output_type": "stream",
     "text": [
      "\n",
      "JESD settings, received on lane 0 vs (programmed):\n",
      "450: 5a (5a)\n",
      "451: 05 (05)\n",
      "452: 00 (00)\n",
      "453: 80 (80)\n",
      "454: 03 (03)\n",
      "455: 1f (1f)\n",
      "456: 01 (01)\n",
      "457: 0f (0f)\n",
      "458: 2f (2f)\n",
      "459: 20 (20)\n",
      "45a: 80 (80)\n",
      "45b: 00 (00)\n",
      "45c: 00 (00)\n",
      "45d: e0 (e0)\n",
      "CHK: e0 (e0) \n",
      "\n",
      "Lane status:\n",
      "      LANE_DESKEW: 00000001\n",
      "    BAD_DISPARITY: 00000000\n",
      "     NOT_IN_TABLE: 00000000\n",
      " UNEXPECTED_KCHAR: 00000000\n",
      "    CODE_GRP_SYNC: 00000001\n",
      "       FRAME_SYNC: 00000001\n",
      "    GOOD_CHECKSUM: 00000001\n",
      "   INIT_LANE_SYNC: 00000001\n",
      "FIFO_STATUS_REG_0: 00000000\n",
      "FIFO_STATUS_REG_1: 00000000\n",
      "fpga j_sync errs: 4\n",
      "\n",
      "STPL test:\n",
      "converter: 0, tp: 597a, fail: 0\n",
      "converter: 1, tp: d27a, fail: 0\n"
     ]
    }
   ],
   "source": [
    "ad.print_irq_flags(True)\n",
    "print()\n",
    "\n",
    "ad.print_ilas()\n",
    "\n",
    "ad.print_lane_status()\n",
    "print()\n",
    "\n",
    "ad.test_stpl()"
   ]
  },
  {
   "cell_type": "code",
   "execution_count": 10,
   "metadata": {},
   "outputs": [
    {
     "name": "stdout",
     "output_type": "stream",
     "text": [
      "SYNC_ROTATION_DONE 1\n",
      "DYN_LINK_LATENCY  5 cycles\n",
      "\n",
      "JESD_IRQ_STATUSA: Code Group Sync. failed\n",
      "JESD_IRQ_STATUSA: Frame Sync. failed\n",
      "JESD_IRQ_STATUSA: ILAS checksum bad\n",
      "IRQ_STATUS: JESD204x receiver not ready\n",
      "IRQ_STATUS: SYSREF jitter too large\n"
     ]
    },
    {
     "data": {
      "text/plain": [
       "True"
      ]
     },
     "execution_count": 10,
     "metadata": {},
     "output_type": "execute_result"
    }
   ],
   "source": [
    "ad.print_irq_flags(True)\n",
    "ad.trigger_jref_sync()\n",
    "print()\n",
    "ad.print_irq_flags(True)"
   ]
  },
  {
   "cell_type": "code",
   "execution_count": 15,
   "metadata": {},
   "outputs": [],
   "source": [
    "r.regs.phy0_transmitter_tp_on.write(0)"
   ]
  },
  {
   "cell_type": "code",
   "execution_count": 19,
   "metadata": {},
   "outputs": [
    {
     "name": "stdout",
     "output_type": "stream",
     "text": [
      "PHY_SNAPSHOT_DATA:\n",
      "0: 0xab722b8f43, 0b1010101101110010001010111000111101000011\n"
     ]
    }
   ],
   "source": [
    "ad.print_phy_snapshot()"
   ]
  },
  {
   "cell_type": "code",
   "execution_count": null,
   "metadata": {},
   "outputs": [],
   "source": []
  }
 ],
 "metadata": {
  "kernelspec": {
   "display_name": "litex",
   "language": "python",
   "name": "litex"
  },
  "language_info": {
   "codemirror_mode": {
    "name": "ipython",
    "version": 3
   },
   "file_extension": ".py",
   "mimetype": "text/x-python",
   "name": "python",
   "nbconvert_exporter": "python",
   "pygments_lexer": "ipython3",
   "version": "3.7.3"
  }
 },
 "nbformat": 4,
 "nbformat_minor": 2
}
