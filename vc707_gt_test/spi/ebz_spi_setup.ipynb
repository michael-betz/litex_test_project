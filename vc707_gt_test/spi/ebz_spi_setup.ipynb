{
 "cells": [
  {
   "cell_type": "code",
   "execution_count": 1,
   "metadata": {},
   "outputs": [
    {
     "name": "stdout",
     "output_type": "stream",
     "text": [
      "Populating the interactive namespace from numpy and matplotlib\n"
     ]
    }
   ],
   "source": [
    "%pylab notebook\n",
    "from spi_helper import *\n",
    "sys.path.append(\"../..\")\n",
    "from common import *"
   ]
  },
  {
   "cell_type": "markdown",
   "metadata": {},
   "source": [
    "# Connec to FPGA"
   ]
  },
  {
   "cell_type": "markdown",
   "metadata": {},
   "source": [
    "Start remote litex server first\n",
    "```bash\n",
    "make server\n",
    "```"
   ]
  },
  {
   "cell_type": "code",
   "execution_count": 6,
   "metadata": {
    "scrolled": true
   },
   "outputs": [
    {
     "name": "stdout",
     "output_type": "stream",
     "text": [
      "Connected to Port 1234\n",
      "AD9174 + VC707 test 2019-09-17 11:46:05\n"
     ]
    }
   ],
   "source": [
    "r = conLitexServer('../build/csr.csv')"
   ]
  },
  {
   "cell_type": "markdown",
   "metadata": {},
   "source": [
    "# Setup AD9174"
   ]
  },
  {
   "cell_type": "code",
   "execution_count": 10,
   "metadata": {},
   "outputs": [
    {
     "ename": "BrokenPipeError",
     "evalue": "[Errno 32] Broken pipe",
     "output_type": "error",
     "traceback": [
      "\u001b[0;31m---------------------------------------------------------------------------\u001b[0m",
      "\u001b[0;31mBrokenPipeError\u001b[0m                           Traceback (most recent call last)",
      "\u001b[0;32m<ipython-input-10-9171cb53648f>\u001b[0m in \u001b[0;36m<module>\u001b[0;34m\u001b[0m\n\u001b[1;32m      2\u001b[0m \u001b[0;34m\u001b[0m\u001b[0m\n\u001b[1;32m      3\u001b[0m \u001b[0;31m# Power up sequence, Table 51\u001b[0m\u001b[0;34m\u001b[0m\u001b[0;34m\u001b[0m\u001b[0m\n\u001b[0;32m----> 4\u001b[0;31m \u001b[0mad\u001b[0m\u001b[0;34m.\u001b[0m\u001b[0mwr\u001b[0m\u001b[0;34m(\u001b[0m\u001b[0;36m0x000\u001b[0m\u001b[0;34m,\u001b[0m \u001b[0;36m0x81\u001b[0m\u001b[0;34m)\u001b[0m  \u001b[0;31m# Soft reset\u001b[0m\u001b[0;34m\u001b[0m\u001b[0m\n\u001b[0m\u001b[1;32m      5\u001b[0m \u001b[0mad\u001b[0m\u001b[0;34m.\u001b[0m\u001b[0mwr\u001b[0m\u001b[0;34m(\u001b[0m\u001b[0;36m0x000\u001b[0m\u001b[0;34m,\u001b[0m \u001b[0;36m0x3C\u001b[0m\u001b[0;34m)\u001b[0m  \u001b[0;31m# 4 - wire SPI mode + ADDRINC\u001b[0m\u001b[0;34m\u001b[0m\u001b[0m\n\u001b[1;32m      6\u001b[0m \u001b[0mad\u001b[0m\u001b[0;34m.\u001b[0m\u001b[0mwr\u001b[0m\u001b[0;34m(\u001b[0m\u001b[0;36m0x091\u001b[0m\u001b[0;34m,\u001b[0m \u001b[0;36m0x00\u001b[0m\u001b[0;34m)\u001b[0m  \u001b[0;31m# Power up clock RX\u001b[0m\u001b[0;34m\u001b[0m\u001b[0m\n",
      "\u001b[0;32m~/fpga_wsp/litex_test_project/vc707_gt_test/spi/spi_helper.py\u001b[0m in \u001b[0;36mwr\u001b[0;34m(self, adr, val)\u001b[0m\n\u001b[1;32m    188\u001b[0m     \u001b[0;32mdef\u001b[0m \u001b[0mwr\u001b[0m\u001b[0;34m(\u001b[0m\u001b[0mself\u001b[0m\u001b[0;34m,\u001b[0m \u001b[0madr\u001b[0m\u001b[0;34m,\u001b[0m \u001b[0mval\u001b[0m\u001b[0;34m)\u001b[0m\u001b[0;34m:\u001b[0m\u001b[0;34m\u001b[0m\u001b[0m\n\u001b[1;32m    189\u001b[0m         \u001b[0mword\u001b[0m \u001b[0;34m=\u001b[0m \u001b[0;34m(\u001b[0m\u001b[0;36m0\u001b[0m \u001b[0;34m<<\u001b[0m \u001b[0;36m23\u001b[0m\u001b[0;34m)\u001b[0m \u001b[0;34m|\u001b[0m \u001b[0;34m(\u001b[0m\u001b[0;34m(\u001b[0m\u001b[0madr\u001b[0m \u001b[0;34m&\u001b[0m \u001b[0;36m0x7FFF\u001b[0m\u001b[0;34m)\u001b[0m \u001b[0;34m<<\u001b[0m \u001b[0;36m8\u001b[0m\u001b[0;34m)\u001b[0m \u001b[0;34m|\u001b[0m \u001b[0;34m(\u001b[0m\u001b[0mval\u001b[0m \u001b[0;34m&\u001b[0m \u001b[0;36m0xFF\u001b[0m\u001b[0;34m)\u001b[0m\u001b[0;34m\u001b[0m\u001b[0m\n\u001b[0;32m--> 190\u001b[0;31m         \u001b[0;32mreturn\u001b[0m \u001b[0mself\u001b[0m\u001b[0;34m.\u001b[0m\u001b[0mrxtx\u001b[0m\u001b[0;34m(\u001b[0m\u001b[0mword\u001b[0m\u001b[0;34m,\u001b[0m \u001b[0;36m1\u001b[0m\u001b[0;34m,\u001b[0m \u001b[0;32mTrue\u001b[0m\u001b[0;34m)\u001b[0m\u001b[0;34m\u001b[0m\u001b[0m\n\u001b[0m",
      "\u001b[0;32m~/fpga_wsp/litex_test_project/vc707_gt_test/spi/spi_helper.py\u001b[0m in \u001b[0;36mrxtx\u001b[0;34m(self, dat24, cs, isWrite)\u001b[0m\n\u001b[1;32m     66\u001b[0m \u001b[0;34m\u001b[0m\u001b[0m\n\u001b[1;32m     67\u001b[0m     \u001b[0;32mdef\u001b[0m \u001b[0mrxtx\u001b[0m\u001b[0;34m(\u001b[0m\u001b[0mself\u001b[0m\u001b[0;34m,\u001b[0m \u001b[0mdat24\u001b[0m\u001b[0;34m,\u001b[0m \u001b[0mcs\u001b[0m\u001b[0;34m,\u001b[0m \u001b[0misWrite\u001b[0m\u001b[0;34m=\u001b[0m\u001b[0;32mFalse\u001b[0m\u001b[0;34m)\u001b[0m\u001b[0;34m:\u001b[0m\u001b[0;34m\u001b[0m\u001b[0m\n\u001b[0;32m---> 68\u001b[0;31m         \u001b[0mself\u001b[0m\u001b[0;34m.\u001b[0m\u001b[0mr\u001b[0m\u001b[0;34m.\u001b[0m\u001b[0mregs\u001b[0m\u001b[0;34m.\u001b[0m\u001b[0mspi_mosi\u001b[0m\u001b[0;34m.\u001b[0m\u001b[0mwrite\u001b[0m\u001b[0;34m(\u001b[0m\u001b[0mdat24\u001b[0m \u001b[0;34m<<\u001b[0m \u001b[0;36m8\u001b[0m\u001b[0;34m)\u001b[0m\u001b[0;34m\u001b[0m\u001b[0m\n\u001b[0m\u001b[1;32m     69\u001b[0m         \u001b[0mself\u001b[0m\u001b[0;34m.\u001b[0m\u001b[0mr\u001b[0m\u001b[0;34m.\u001b[0m\u001b[0mregs\u001b[0m\u001b[0;34m.\u001b[0m\u001b[0mspi_cs\u001b[0m\u001b[0;34m.\u001b[0m\u001b[0mwrite\u001b[0m\u001b[0;34m(\u001b[0m\u001b[0mcs\u001b[0m\u001b[0;34m)\u001b[0m\u001b[0;34m\u001b[0m\u001b[0m\n\u001b[1;32m     70\u001b[0m         \u001b[0mself\u001b[0m\u001b[0;34m.\u001b[0m\u001b[0mr\u001b[0m\u001b[0;34m.\u001b[0m\u001b[0mregs\u001b[0m\u001b[0;34m.\u001b[0m\u001b[0mspi_control\u001b[0m\u001b[0;34m.\u001b[0m\u001b[0mwrite\u001b[0m\u001b[0;34m(\u001b[0m\u001b[0mself\u001b[0m\u001b[0;34m.\u001b[0m\u001b[0m_ctrl\u001b[0m \u001b[0;34m|\u001b[0m \u001b[0;36m1\u001b[0m\u001b[0;34m)\u001b[0m\u001b[0;34m\u001b[0m\u001b[0m\n",
      "\u001b[0;32m~/fpga_wsp/litex/litex/tools/remote/csr_builder.py\u001b[0m in \u001b[0;36mwrite\u001b[0;34m(self, value)\u001b[0m\n\u001b[1;32m     51\u001b[0m         \u001b[0;32mfor\u001b[0m \u001b[0mi\u001b[0m \u001b[0;32min\u001b[0m \u001b[0mrange\u001b[0m\u001b[0;34m(\u001b[0m\u001b[0mself\u001b[0m\u001b[0;34m.\u001b[0m\u001b[0mlength\u001b[0m\u001b[0;34m)\u001b[0m\u001b[0;34m:\u001b[0m\u001b[0;34m\u001b[0m\u001b[0m\n\u001b[1;32m     52\u001b[0m             \u001b[0mdatas\u001b[0m\u001b[0;34m.\u001b[0m\u001b[0mappend\u001b[0m\u001b[0;34m(\u001b[0m\u001b[0;34m(\u001b[0m\u001b[0mvalue\u001b[0m \u001b[0;34m>>\u001b[0m \u001b[0;34m(\u001b[0m\u001b[0;34m(\u001b[0m\u001b[0mself\u001b[0m\u001b[0;34m.\u001b[0m\u001b[0mlength\u001b[0m\u001b[0;34m-\u001b[0m\u001b[0;36m1\u001b[0m\u001b[0;34m-\u001b[0m\u001b[0mi\u001b[0m\u001b[0;34m)\u001b[0m\u001b[0;34m*\u001b[0m\u001b[0mself\u001b[0m\u001b[0;34m.\u001b[0m\u001b[0mdata_width\u001b[0m\u001b[0;34m)\u001b[0m\u001b[0;34m)\u001b[0m \u001b[0;34m&\u001b[0m \u001b[0;34m(\u001b[0m\u001b[0;36m2\u001b[0m\u001b[0;34m**\u001b[0m\u001b[0mself\u001b[0m\u001b[0;34m.\u001b[0m\u001b[0mdata_width\u001b[0m\u001b[0;34m-\u001b[0m\u001b[0;36m1\u001b[0m\u001b[0;34m)\u001b[0m\u001b[0;34m)\u001b[0m\u001b[0;34m\u001b[0m\u001b[0m\n\u001b[0;32m---> 53\u001b[0;31m         \u001b[0mself\u001b[0m\u001b[0;34m.\u001b[0m\u001b[0mwritefn\u001b[0m\u001b[0;34m(\u001b[0m\u001b[0mself\u001b[0m\u001b[0;34m.\u001b[0m\u001b[0maddr\u001b[0m\u001b[0;34m,\u001b[0m \u001b[0mdatas\u001b[0m\u001b[0;34m)\u001b[0m\u001b[0;34m\u001b[0m\u001b[0m\n\u001b[0m\u001b[1;32m     54\u001b[0m \u001b[0;34m\u001b[0m\u001b[0m\n\u001b[1;32m     55\u001b[0m \u001b[0;34m\u001b[0m\u001b[0m\n",
      "\u001b[0;32m~/fpga_wsp/litex/litex/tools/litex_client.py\u001b[0m in \u001b[0;36mwrite\u001b[0;34m(self, addr, datas)\u001b[0m\n\u001b[1;32m     84\u001b[0m         \u001b[0mpacket\u001b[0m\u001b[0;34m.\u001b[0m\u001b[0mrecords\u001b[0m \u001b[0;34m=\u001b[0m \u001b[0;34m[\u001b[0m\u001b[0mrecord\u001b[0m\u001b[0;34m]\u001b[0m\u001b[0;34m\u001b[0m\u001b[0m\n\u001b[1;32m     85\u001b[0m         \u001b[0mpacket\u001b[0m\u001b[0;34m.\u001b[0m\u001b[0mencode\u001b[0m\u001b[0;34m(\u001b[0m\u001b[0;34m)\u001b[0m\u001b[0;34m\u001b[0m\u001b[0m\n\u001b[0;32m---> 86\u001b[0;31m         \u001b[0mself\u001b[0m\u001b[0;34m.\u001b[0m\u001b[0msend_packet\u001b[0m\u001b[0;34m(\u001b[0m\u001b[0mself\u001b[0m\u001b[0;34m.\u001b[0m\u001b[0msocket\u001b[0m\u001b[0;34m,\u001b[0m \u001b[0mpacket\u001b[0m\u001b[0;34m)\u001b[0m\u001b[0;34m\u001b[0m\u001b[0m\n\u001b[0m\u001b[1;32m     87\u001b[0m \u001b[0;34m\u001b[0m\u001b[0m\n\u001b[1;32m     88\u001b[0m         \u001b[0;32mif\u001b[0m \u001b[0mself\u001b[0m\u001b[0;34m.\u001b[0m\u001b[0mdebug\u001b[0m\u001b[0;34m:\u001b[0m\u001b[0;34m\u001b[0m\u001b[0m\n",
      "\u001b[0;32m~/fpga_wsp/litex/litex/tools/remote/etherbone.py\u001b[0m in \u001b[0;36msend_packet\u001b[0;34m(self, socket, packet)\u001b[0m\n\u001b[1;32m    357\u001b[0m \u001b[0;32mclass\u001b[0m \u001b[0mEtherboneIPC\u001b[0m\u001b[0;34m:\u001b[0m\u001b[0;34m\u001b[0m\u001b[0m\n\u001b[1;32m    358\u001b[0m     \u001b[0;32mdef\u001b[0m \u001b[0msend_packet\u001b[0m\u001b[0;34m(\u001b[0m\u001b[0mself\u001b[0m\u001b[0;34m,\u001b[0m \u001b[0msocket\u001b[0m\u001b[0;34m,\u001b[0m \u001b[0mpacket\u001b[0m\u001b[0;34m)\u001b[0m\u001b[0;34m:\u001b[0m\u001b[0;34m\u001b[0m\u001b[0m\n\u001b[0;32m--> 359\u001b[0;31m         \u001b[0msocket\u001b[0m\u001b[0;34m.\u001b[0m\u001b[0msendall\u001b[0m\u001b[0;34m(\u001b[0m\u001b[0mbytes\u001b[0m\u001b[0;34m(\u001b[0m\u001b[0mpacket\u001b[0m\u001b[0;34m)\u001b[0m\u001b[0;34m)\u001b[0m\u001b[0;34m\u001b[0m\u001b[0m\n\u001b[0m\u001b[1;32m    360\u001b[0m \u001b[0;34m\u001b[0m\u001b[0m\n\u001b[1;32m    361\u001b[0m     \u001b[0;32mdef\u001b[0m \u001b[0mreceive_packet\u001b[0m\u001b[0;34m(\u001b[0m\u001b[0mself\u001b[0m\u001b[0;34m,\u001b[0m \u001b[0msocket\u001b[0m\u001b[0;34m)\u001b[0m\u001b[0;34m:\u001b[0m\u001b[0;34m\u001b[0m\u001b[0m\n",
      "\u001b[0;31mBrokenPipeError\u001b[0m: [Errno 32] Broken pipe"
     ]
    }
   ],
   "source": [
    "ad = AdSpi(r)\n",
    "\n",
    "# Power up sequence, Table 51\n",
    "ad.wr(0x000, 0x81)  # Soft reset\n",
    "ad.wr(0x000, 0x3C)  # 4 - wire SPI mode + ADDRINC\n",
    "ad.wr(0x091, 0x00)  # Power up clock RX\n",
    "ad.wr(0x206, 0x01)  # Enable PHYs\n",
    "ad.wr(0x705, 0x01)  # Enable boot loader\n",
    "ad.wr(0x090, 0x00)  # Power on DACs and bias supply\n",
    "\n",
    "# Print product ID\n",
    "print(hex(ad.rr(0x004)))\n",
    "print(hex(ad.rr(0x005)))"
   ]
  },
  {
   "cell_type": "code",
   "execution_count": 7,
   "metadata": {},
   "outputs": [
    {
     "name": "stdout",
     "output_type": "stream",
     "text": [
      "CAL_STAT: 0\n",
      "0x0\n",
      "0x0\n"
     ]
    },
    {
     "data": {
      "text/plain": [
       "0"
      ]
     },
     "execution_count": 7,
     "metadata": {},
     "output_type": "execute_result"
    }
   ],
   "source": [
    "# Disable DAC PLL and config for external clock, Table 52\n",
    "ad.wr(0x095, 0x01)\n",
    "ad.wr(0x790, 0xFF)\n",
    "ad.wr(0x791, 0xFF)\n",
    "\n",
    "ad.wr(0x008, (1 << 7) | (1 << 6)) # Select both DACs\n",
    "\n",
    "# Magic numbers from Table 54 (calibration)\n",
    "ad.wr(0x050, 0x2A)\n",
    "ad.wr(0x061, 0x68)\n",
    "ad.wr(0x051, 0x82)\n",
    "ad.wr(0x051, 0x83)\n",
    "print('CAL_STAT:', ad.rr(0x052))\n",
    "ad.wr(0x081, 0x03)  # Power down calibration clocks\n",
    "\n",
    "# JESD config, Table 55\n",
    "ad.wr(0x100, 0x00)  # Power up digital datapath clocks\n",
    "ad.wr(0x201, 0xFF)  # Power down unused PHYs.\n",
    "\n",
    "ADC_CLK_DIVIDER = 6\n",
    "# ADC clock output divider = /4\n",
    "#   0: Divide by 1\n",
    "#   1: Divide by 2\n",
    "#   2: Divide by 3\n",
    "#   3: Divide by 4\n",
    "ad.wr(0x799, (3 << ADC_CLK_DIVIDER))"
   ]
  },
  {
   "cell_type": "markdown",
   "metadata": {},
   "source": [
    "# Setup HMC7044\n",
    "  * External VCO input\n",
    "  * clkout12 = f_vco / 10 = 128 MHz"
   ]
  },
  {
   "cell_type": "code",
   "execution_count": 4,
   "metadata": {},
   "outputs": [],
   "source": [
    "hmc = HmcSpi(r)\n",
    "\n",
    "hmc.wr(0x000, 1)  # reset\n",
    "hmc.wr(0x000, 0)\n",
    "\n",
    "hmc.wr(0x054, 0)  # Disable SDATA driver (uni-direct. buffer)\n",
    "hmc.wr(0x001, (1 << 6) | (1 << 5)) # High performance dividers / PLL\n",
    "\n",
    "# VCO Selection\n",
    "# 0 Internal disabled/external\n",
    "# 1 High\n",
    "# 2 Low\n",
    "VCO_SELECT = 3\n",
    "hmc.wr(0x003, (0 << VCO_SELECT))\n",
    "\n",
    "# Enable output channel 12 and 13\n",
    "hmc.wr(0x004, (1 << (12 // 2)))\n",
    "\n",
    "# clkin1 as external VCO input\n",
    "hmc.wr(0x005, (1 << 5))\n",
    "\n",
    "# Magic numbers from datasheet Table 74\n",
    "hmc.wr(0x09F, 0x4D)\n",
    "hmc.wr(0x0A0, 0xDF)\n",
    "hmc.wr(0x0A5, 0x06)\n",
    "hmc.wr(0x0A8, 0x06)\n",
    "hmc.wr(0x0B0, 0x04)\n",
    "\n",
    "hmc.setupChannel(12, 10)"
   ]
  },
  {
   "cell_type": "code",
   "execution_count": null,
   "metadata": {},
   "outputs": [],
   "source": [
    "r.close()"
   ]
  }
 ],
 "metadata": {
  "kernelspec": {
   "display_name": "Python 3",
   "language": "python",
   "name": "python3"
  },
  "language_info": {
   "codemirror_mode": {
    "name": "ipython",
    "version": 3
   },
   "file_extension": ".py",
   "mimetype": "text/x-python",
   "name": "python",
   "nbconvert_exporter": "python",
   "pygments_lexer": "ipython3",
   "version": "3.6.6"
  }
 },
 "nbformat": 4,
 "nbformat_minor": 2
}
