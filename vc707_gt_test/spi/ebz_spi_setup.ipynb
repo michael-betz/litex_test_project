{
 "cells": [
  {
   "cell_type": "code",
   "execution_count": 1,
   "metadata": {},
   "outputs": [
    {
     "name": "stdout",
     "output_type": "stream",
     "text": [
      "Populating the interactive namespace from numpy and matplotlib\n"
     ]
    }
   ],
   "source": [
    "%pylab notebook\n",
    "from time import sleep\n",
    "from spi_helper import *\n",
    "sys.path.append(\"../..\")\n",
    "from common import *"
   ]
  },
  {
   "cell_type": "markdown",
   "metadata": {},
   "source": [
    "# Connec to FPGA"
   ]
  },
  {
   "cell_type": "markdown",
   "metadata": {},
   "source": [
    "Start remote litex server first\n",
    "```bash\n",
    "make server\n",
    "```"
   ]
  },
  {
   "cell_type": "code",
   "execution_count": 2,
   "metadata": {
    "scrolled": true
   },
   "outputs": [
    {
     "name": "stdout",
     "output_type": "stream",
     "text": [
      "Could not connect to RemoteClient\n"
     ]
    }
   ],
   "source": [
    "r = conLitexServer('../build/csr.csv')"
   ]
  },
  {
   "cell_type": "markdown",
   "metadata": {},
   "source": [
    "# Play with GTX phy"
   ]
  },
  {
   "cell_type": "code",
   "execution_count": 128,
   "metadata": {},
   "outputs": [
    {
     "data": {
      "text/plain": [
       "0"
      ]
     },
     "execution_count": 128,
     "metadata": {},
     "output_type": "execute_result"
    }
   ],
   "source": [
    "# Resets sys and jesd clock domain\n",
    "r.regs.ctrl_reset.write(1)\n",
    "r.regs.ctrl_reset.read()"
   ]
  },
  {
   "cell_type": "code",
   "execution_count": 206,
   "metadata": {},
   "outputs": [
    {
     "data": {
      "text/plain": [
       "1"
      ]
     },
     "execution_count": 206,
     "metadata": {},
     "output_type": "execute_result"
    }
   ],
   "source": [
    "# Triggers the GTXInit state machine\n",
    "r.regs.control_enable.write(1)\n",
    "r.regs.control_phy_done.read()"
   ]
  },
  {
   "cell_type": "code",
   "execution_count": 204,
   "metadata": {},
   "outputs": [
    {
     "data": {
      "text/plain": [
       "0"
      ]
     },
     "execution_count": 204,
     "metadata": {},
     "output_type": "execute_result"
    }
   ],
   "source": [
    "# Transmit a square wave of frequency line_rate / 40\n",
    "r.regs.phy0_transmitter_produce_square_wave.write(0)\n",
    "r.regs.phy0_transmitter_produce_square_wave.read()"
   ]
  },
  {
   "cell_type": "code",
   "execution_count": 203,
   "metadata": {},
   "outputs": [
    {
     "data": {
      "text/plain": [
       "0"
      ]
     },
     "execution_count": 203,
     "metadata": {},
     "output_type": "execute_result"
    }
   ],
   "source": [
    "# Transmit pseudo random test pattern\n",
    "r.regs.control_prbs_config.write(0)\n",
    "r.regs.control_prbs_config.read()"
   ]
  },
  {
   "cell_type": "code",
   "execution_count": 208,
   "metadata": {},
   "outputs": [
    {
     "data": {
      "text/plain": [
       "0"
      ]
     },
     "execution_count": 208,
     "metadata": {},
     "output_type": "execute_result"
    }
   ],
   "source": [
    "r.regs.control_stpl_enable.write(0)\n",
    "r.regs.control_stpl_enable.read()"
   ]
  },
  {
   "cell_type": "code",
   "execution_count": 201,
   "metadata": {},
   "outputs": [
    {
     "data": {
      "text/plain": [
       "0"
      ]
     },
     "execution_count": 201,
     "metadata": {},
     "output_type": "execute_result"
    }
   ],
   "source": [
    "# AD9174 --> to JESD204BLinkTX, triggers ILAS after CGS\n",
    "r.regs.control_jsync.read()"
   ]
  },
  {
   "cell_type": "code",
   "execution_count": 202,
   "metadata": {},
   "outputs": [
    {
     "data": {
      "text/plain": [
       "0"
      ]
     },
     "execution_count": 202,
     "metadata": {},
     "output_type": "execute_result"
    }
   ],
   "source": [
    "r.regs.control_ready.read()"
   ]
  },
  {
   "cell_type": "markdown",
   "metadata": {},
   "source": [
    "# Setup AD9174"
   ]
  },
  {
   "cell_type": "code",
   "execution_count": 2,
   "metadata": {},
   "outputs": [
    {
     "name": "stdout",
     "output_type": "stream",
     "text": [
      "reg PLL_STATUS (7b5) already exist (281)\n"
     ]
    }
   ],
   "source": [
    "r = None\n",
    "ad = AdSpi(r)"
   ]
  },
  {
   "cell_type": "code",
   "execution_count": 16,
   "metadata": {},
   "outputs": [
    {
     "name": "stdout",
     "output_type": "stream",
     "text": [
      "reg 0x100 (DIG_RESET), bit 7:1 (RESERVED), R, reset 0x00\n",
      "Reserved.\n",
      "\n",
      "reg 0x100 (DIG_RESET), bit 0 (DIG_DATAPATH_PD), R/W, reset 0x01\n",
      "Holds all digital logic (SERDES digital, digital clock generation, and digital datapath) in reset until clock tree is stable. 0: Normal operating mode. 1: Holds the digital logic in reset. Must be released (set to 0) after clocks to the chip are stable (PLL and DLL blocks are locked) to use the digital datapath.\n",
      "\n"
     ]
    }
   ],
   "source": [
    "ad.help(0x100)"
   ]
  },
  {
   "cell_type": "code",
   "execution_count": 184,
   "metadata": {},
   "outputs": [
    {
     "name": "stdout",
     "output_type": "stream",
     "text": [
      "0x74\n",
      "0x91\n"
     ]
    }
   ],
   "source": [
    "# Power up sequence, Table 51\n",
    "ad.wr(0x000, 0x81)  # Soft reset\n",
    "ad.wr(0x000, 0x3C)  # 4 - wire SPI mode + ADDRINC\n",
    "ad.wr(0x091, 0x00)  # Power up clock RX\n",
    "ad.wr(0x206, 0x01)  # Enable PHYs\n",
    "ad.wr(0x705, 0x01)  # Enable boot loader\n",
    "ad.wr(0x090, 0x00)  # Power on DACs and bias supply\n",
    "\n",
    "# Print product ID\n",
    "print(hex(ad.rr(0x004)))\n",
    "print(hex(ad.rr(0x005)))"
   ]
  },
  {
   "cell_type": "code",
   "execution_count": 185,
   "metadata": {},
   "outputs": [
    {
     "name": "stdout",
     "output_type": "stream",
     "text": [
      "CAL_STAT: 1\n"
     ]
    },
    {
     "data": {
      "text/plain": [
       "0"
      ]
     },
     "execution_count": 185,
     "metadata": {},
     "output_type": "execute_result"
    }
   ],
   "source": [
    "# Disable DAC PLL and config for external clock, Table 52\n",
    "ad.wr(0x095, 0x01)\n",
    "ad.wr(0x790, 0xFF)\n",
    "ad.wr(0x791, 0xFF)\n",
    "\n",
    "ad.wr(0x008, (1 << 7) | (1 << 6)) # Select both DACs\n",
    "\n",
    "# Magic numbers from Table 54 (calibration)\n",
    "ad.wr(0x050, 0x2A)\n",
    "ad.wr(0x061, 0x68)\n",
    "ad.wr(0x051, 0x82)\n",
    "ad.wr(0x051, 0x83)\n",
    "print('CAL_STAT:', ad.rr(0x052))\n",
    "ad.wr(0x081, 0x03)  # Power down calibration clocks\n",
    "\n",
    "# JESD config, Table 55\n",
    "ad.wr(0x100, 0x00)  # Power up digital datapath clocks\n",
    "ad.wr(0x201, 0xF0)  # Power down the upper 4 PHYs\n",
    "# ad.wr(0x201, 0xFF)  # Power down all PHYs.\n",
    "\n",
    "ADC_CLK_DIVIDER_SHIFT = 6\n",
    "# ADC clock output divider = /4\n",
    "#   0: Divide by 1\n",
    "#   1: Divide by 2\n",
    "#   2: Divide by 3\n",
    "#   3: Divide by 4\n",
    "ad.wr(0x799, (3 << ADC_CLK_DIVIDER_SHIFT))"
   ]
  },
  {
   "cell_type": "code",
   "execution_count": 186,
   "metadata": {},
   "outputs": [
    {
     "name": "stdout",
     "output_type": "stream",
     "text": [
      "DLL locked: 1\n"
     ]
    }
   ],
   "source": [
    "# Delay Lock Loop (DLL) Configuration\n",
    "ad.wr(0x0C0, 0x00)  # Power-up delay line.\n",
    "ad.wr(0x0DB, 0x00)  # Update DLL settings to circuitry.\n",
    "ad.wr(0x0DB, 0x01)\n",
    "ad.wr(0x0DB, 0x00)\n",
    "ad.wr(0x0C1, 0x68)  # set search mode for f_DAC > 4.5 GHz\n",
    "ad.wr(0x0C1, 0x69)\n",
    "ad.wr(0x0C7, 0x01)  # Enable DLL read status.\n",
    "print('DLL locked:', ad.rr(0x0C3))"
   ]
  },
  {
   "cell_type": "code",
   "execution_count": 187,
   "metadata": {},
   "outputs": [
    {
     "name": "stdout",
     "output_type": "stream",
     "text": [
      "Interpolation mode invalid: 0\n"
     ]
    },
    {
     "data": {
      "text/plain": [
       "0"
      ]
     },
     "execution_count": 187,
     "metadata": {},
     "output_type": "execute_result"
    }
   ],
   "source": [
    "# JESD204B Mode Setup\n",
    "ad.wr(0x100, 0x00)\n",
    "ad.wr(0x110, (0 << 5) | 8)  # JESD_MODE: Single link, mode 8\n",
    "ad.wr(0x111, 0x21)   # DP_INTERP_MODE = 2x, CH_INTERP_MODE = 1x\n",
    "print('Interpolation mode invalid:', (ad.rr(0x110) >> 7) & 0x01)\n",
    "ad.wr(0x084, 1)  # SYSREF_PD: Power down reciever, we run subclass 0\n",
    "\n",
    "ad.wr(0x300, 0b0001)  # select single link, page link0, enable link0\n",
    "ad.wr(0x475, 0x09)  # Soft reset the JESD204B quad-byte deframer\n",
    "ad.wr(0x453, (1 << 7) | 3)  # enable scrambler, L-value - 1\n",
    "ad.wr(0x458, (0 << 5) | 15) # subclass 0, NP-value - 1\n",
    "ad.wr(0x475, 1)  # Bring the JESD204B quad-byte deframer out of reset.\n",
    "\n",
    "# Table 56: skipped as Channel interpolation mode = 1x"
   ]
  },
  {
   "cell_type": "code",
   "execution_count": 188,
   "metadata": {},
   "outputs": [],
   "source": [
    "# Table 57: init MAin datapath\n",
    "# TODO"
   ]
  },
  {
   "cell_type": "code",
   "execution_count": 189,
   "metadata": {},
   "outputs": [
    {
     "data": {
      "text/plain": [
       "0"
      ]
     },
     "execution_count": 189,
     "metadata": {},
     "output_type": "execute_result"
    }
   ],
   "source": [
    "# EQ settings for < 11 dB insertion loss\n",
    "ad.wr(0x240, 0xAA)\n",
    "ad.wr(0x241, 0xAA)\n",
    "ad.wr(0x242, 0x55)\n",
    "ad.wr(0x243, 0x55)\n",
    "ad.wr(0x244, 0x1F)\n",
    "ad.wr(0x245, 0x1F)\n",
    "ad.wr(0x246, 0x1F)\n",
    "ad.wr(0x247, 0x1F)\n",
    "ad.wr(0x248, 0x1F)\n",
    "ad.wr(0x249, 0x1F)\n",
    "ad.wr(0x24A, 0x1F)\n",
    "ad.wr(0x24B, 0x1F)\n",
    "ad.wr(0x201, 0xF0)  # Power down the unused upper 4 PHYs\n",
    "ad.wr(0x203, 0x01)  # Power down sync1\n",
    "ad.wr(0x253, 0x01)  # Sync0 = LVDS\n",
    "ad.wr(0x254, 0x01)  # Sync1 = LVDS"
   ]
  },
  {
   "cell_type": "code",
   "execution_count": 190,
   "metadata": {},
   "outputs": [
    {
     "name": "stdout",
     "output_type": "stream",
     "text": [
      "SERDES PLL locked: 1\n"
     ]
    }
   ],
   "source": [
    "# SERDES required register write.\n",
    "ad.wr(0x210, 0x16)\n",
    "ad.wr(0x216, 0x05)\n",
    "ad.wr(0x212, 0xFF)\n",
    "ad.wr(0x212, 0x00)\n",
    "ad.wr(0x210, 0x87)\n",
    "ad.wr(0x216, 0x11)\n",
    "ad.wr(0x213, 0x01)\n",
    "ad.wr(0x213, 0x00)\n",
    "ad.wr(0x200, 0x00)  # Power up the SERDES circuitry blocks.\n",
    "sleep(0.1)\n",
    "\n",
    "# SERDES required register write.\n",
    "ad.wr(0x210, 0x86)\n",
    "ad.wr(0x216, 0x40)\n",
    "ad.wr(0x213, 0x01)\n",
    "ad.wr(0x213, 0x00)\n",
    "ad.wr(0x210, 0x86)\n",
    "ad.wr(0x216, 0x00)\n",
    "ad.wr(0x213, 0x01)\n",
    "ad.wr(0x213, 0x00)\n",
    "ad.wr(0x210, 0x87)\n",
    "ad.wr(0x216, 0x01)\n",
    "ad.wr(0x213, 0x01)\n",
    "ad.wr(0x213, 0x00)\n",
    "ad.wr(0x280, 0x05)\n",
    "# Start up SERDES PLL circuitry blocks and initiate SERDES PLL calibration.\n",
    "ad.wr(0x280, 0x01)\n",
    "print('SERDES PLL locked:', ad.rr(0x281) & 0x01)"
   ]
  },
  {
   "cell_type": "code",
   "execution_count": 182,
   "metadata": {},
   "outputs": [
    {
     "data": {
      "text/plain": [
       "0"
      ]
     },
     "execution_count": 182,
     "metadata": {},
     "output_type": "execute_result"
    }
   ],
   "source": [
    "ad.wr(0x03B, 0xF1)  # Enable the sync logic, and set the rotation mode to reset the synchronization logic upon a sync reset trigger.\n",
    "ad.wr(0x03A, 0x02)  # Set up sync for one-shot sync mode.\n",
    "ad.wr(0x300, 0b0001)  # select single link, page link0, enable link0"
   ]
  },
  {
   "cell_type": "markdown",
   "metadata": {},
   "source": [
    "# Setup HMC7044\n",
    "  * External VCO input\n",
    "  * clkout12 = f_vco / 10 = 128 MHz"
   ]
  },
  {
   "cell_type": "code",
   "execution_count": 127,
   "metadata": {},
   "outputs": [],
   "source": [
    "hmc = HmcSpi(r)\n",
    "\n",
    "hmc.wr(0x000, 1)  # reset\n",
    "hmc.wr(0x000, 0)\n",
    "\n",
    "hmc.wr(0x054, 0)  # Disable SDATA driver (uni-direct. buffer)\n",
    "hmc.wr(0x001, (1 << 6) | (1 << 5)) # High performance dividers / PLL\n",
    "\n",
    "# VCO Selection\n",
    "# 0 Internal disabled/external\n",
    "# 1 High\n",
    "# 2 Low\n",
    "VCO_SELECT = 3\n",
    "hmc.wr(0x003, (0 << VCO_SELECT))\n",
    "\n",
    "# Enable output channel 12 and 13\n",
    "hmc.wr(0x004, (1 << (12 // 2)))\n",
    "\n",
    "# clkin1 as external VCO input\n",
    "hmc.wr(0x005, (1 << 5))\n",
    "\n",
    "# Magic numbers from datasheet Table 74\n",
    "hmc.wr(0x09F, 0x4D)\n",
    "hmc.wr(0x0A0, 0xDF)\n",
    "hmc.wr(0x0A5, 0x06)\n",
    "hmc.wr(0x0A8, 0x06)\n",
    "hmc.wr(0x0B0, 0x04)\n",
    "\n",
    "hmc.setupChannel(12, 10)  # DEV_CLK = 128 MHz\n",
    "hmc.setupChannel(13, 80)  # SYSREF2 = 16 MHz"
   ]
  },
  {
   "cell_type": "code",
   "execution_count": 48,
   "metadata": {},
   "outputs": [],
   "source": [
    "hmc.wr(0x000, 1)  # reset\n",
    "hmc.wr(0x000, 0)"
   ]
  },
  {
   "cell_type": "code",
   "execution_count": null,
   "metadata": {},
   "outputs": [],
   "source": [
    "r.close()"
   ]
  }
 ],
 "metadata": {
  "kernelspec": {
   "display_name": "litex",
   "language": "python",
   "name": "litex"
  },
  "language_info": {
   "codemirror_mode": {
    "name": "ipython",
    "version": 3
   },
   "file_extension": ".py",
   "mimetype": "text/x-python",
   "name": "python",
   "nbconvert_exporter": "python",
   "pygments_lexer": "ipython3",
   "version": "3.7.3"
  }
 },
 "nbformat": 4,
 "nbformat_minor": 2
}
