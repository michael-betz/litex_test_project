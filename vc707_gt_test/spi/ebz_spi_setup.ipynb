{
 "cells": [
  {
   "cell_type": "code",
   "execution_count": 84,
   "metadata": {},
   "outputs": [
    {
     "name": "stdout",
     "output_type": "stream",
     "text": [
      "Populating the interactive namespace from numpy and matplotlib\n"
     ]
    }
   ],
   "source": [
    "%pylab notebook\n",
    "from spi_helper import *\n",
    "sys.path.append(\"../..\")\n",
    "from common import *"
   ]
  },
  {
   "cell_type": "markdown",
   "metadata": {},
   "source": [
    "# Connec to FPGA"
   ]
  },
  {
   "cell_type": "markdown",
   "metadata": {},
   "source": [
    "Start remote litex server first\n",
    "```bash\n",
    "make server\n",
    "```"
   ]
  },
  {
   "cell_type": "code",
   "execution_count": 91,
   "metadata": {
    "scrolled": true
   },
   "outputs": [
    {
     "name": "stdout",
     "output_type": "stream",
     "text": [
      "Connected to Port 1234\n",
      "AD9174 + VC707 test 2020-03-10 17:12:08\n"
     ]
    }
   ],
   "source": [
    "r = conLitexServer('../build/csr.csv')"
   ]
  },
  {
   "cell_type": "markdown",
   "metadata": {},
   "source": [
    "# Play with GTX phy"
   ]
  },
  {
   "cell_type": "code",
   "execution_count": 93,
   "metadata": {},
   "outputs": [
    {
     "data": {
      "text/plain": [
       "0"
      ]
     },
     "execution_count": 93,
     "metadata": {},
     "output_type": "execute_result"
    }
   ],
   "source": [
    "r.regs.gtphy_transmitter_produce_square_wave.write(0)\n",
    "r.regs.gtphy_transmitter_produce_square_wave.read()"
   ]
  },
  {
   "cell_type": "code",
   "execution_count": 59,
   "metadata": {},
   "outputs": [
    {
     "data": {
      "text/plain": [
       "15"
      ]
     },
     "execution_count": 59,
     "metadata": {},
     "output_type": "execute_result"
    }
   ],
   "source": [
    "r.regs.gtphy_transmitter_txdiffcttrl.write(15)\n",
    "r.regs.gtphy_transmitter_txdiffcttrl.read()"
   ]
  },
  {
   "cell_type": "code",
   "execution_count": 63,
   "metadata": {},
   "outputs": [
    {
     "data": {
      "text/plain": [
       "0"
      ]
     },
     "execution_count": 63,
     "metadata": {},
     "output_type": "execute_result"
    }
   ],
   "source": [
    "r.regs.gtphy_transmitter_txpostcursor.write(0)\n",
    "r.regs.gtphy_transmitter_txpostcursor.read()"
   ]
  },
  {
   "cell_type": "code",
   "execution_count": 65,
   "metadata": {},
   "outputs": [
    {
     "data": {
      "text/plain": [
       "0"
      ]
     },
     "execution_count": 65,
     "metadata": {},
     "output_type": "execute_result"
    }
   ],
   "source": [
    "r.regs.gtphy_transmitter_txprecursor.write(0)\n",
    "r.regs.gtphy_transmitter_txprecursor.read()"
   ]
  },
  {
   "cell_type": "code",
   "execution_count": 34,
   "metadata": {},
   "outputs": [
    {
     "data": {
      "text/plain": [
       "80"
      ]
     },
     "execution_count": 34,
     "metadata": {},
     "output_type": "execute_result"
    }
   ],
   "source": [
    "r.regs.gtphy_transmitter_txmaincursor.write(80)\n",
    "r.regs.gtphy_transmitter_txmaincursor.read()"
   ]
  },
  {
   "cell_type": "markdown",
   "metadata": {},
   "source": [
    "# Setup AD9174"
   ]
  },
  {
   "cell_type": "code",
   "execution_count": 94,
   "metadata": {},
   "outputs": [],
   "source": [
    "ad = AdSpi(r)"
   ]
  },
  {
   "cell_type": "code",
   "execution_count": 106,
   "metadata": {},
   "outputs": [
    {
     "name": "stdout",
     "output_type": "stream",
     "text": [
      "0x74\n",
      "0x91\n"
     ]
    }
   ],
   "source": [
    "# Power up sequence, Table 51\n",
    "ad.wr(0x000, 0x81)  # Soft reset\n",
    "ad.wr(0x000, 0x3C)  # 4 - wire SPI mode + ADDRINC\n",
    "ad.wr(0x091, 0x00)  # Power up clock RX\n",
    "ad.wr(0x206, 0x01)  # Enable PHYs\n",
    "ad.wr(0x705, 0x01)  # Enable boot loader\n",
    "ad.wr(0x090, 0x00)  # Power on DACs and bias supply\n",
    "\n",
    "# Print product ID\n",
    "print(hex(ad.rr(0x004)))\n",
    "print(hex(ad.rr(0x005)))"
   ]
  },
  {
   "cell_type": "code",
   "execution_count": 107,
   "metadata": {},
   "outputs": [
    {
     "name": "stdout",
     "output_type": "stream",
     "text": [
      "CAL_STAT: 1\n"
     ]
    },
    {
     "data": {
      "text/plain": [
       "0"
      ]
     },
     "execution_count": 107,
     "metadata": {},
     "output_type": "execute_result"
    }
   ],
   "source": [
    "# Disable DAC PLL and config for external clock, Table 52\n",
    "ad.wr(0x095, 0x01)\n",
    "ad.wr(0x790, 0xFF)\n",
    "ad.wr(0x791, 0xFF)\n",
    "\n",
    "ad.wr(0x008, (1 << 7) | (1 << 6)) # Select both DACs\n",
    "\n",
    "# Magic numbers from Table 54 (calibration)\n",
    "ad.wr(0x050, 0x2A)\n",
    "ad.wr(0x061, 0x68)\n",
    "ad.wr(0x051, 0x82)\n",
    "ad.wr(0x051, 0x83)\n",
    "print('CAL_STAT:', ad.rr(0x052))\n",
    "ad.wr(0x081, 0x03)  # Power down calibration clocks\n",
    "\n",
    "# JESD config, Table 55\n",
    "ad.wr(0x100, 0x00)  # Power up digital datapath clocks\n",
    "ad.wr(0x201, 0xFF)  # Power down unused PHYs.\n",
    "\n",
    "ADC_CLK_DIVIDER = 6\n",
    "# ADC clock output divider = /4\n",
    "#   0: Divide by 1\n",
    "#   1: Divide by 2\n",
    "#   2: Divide by 3\n",
    "#   3: Divide by 4\n",
    "ad.wr(0x799, (3 << ADC_CLK_DIVIDER))"
   ]
  },
  {
   "cell_type": "markdown",
   "metadata": {},
   "source": [
    "# Setup HMC7044\n",
    "  * External VCO input\n",
    "  * clkout12 = f_vco / 10 = 128 MHz"
   ]
  },
  {
   "cell_type": "code",
   "execution_count": 109,
   "metadata": {},
   "outputs": [],
   "source": [
    "hmc = HmcSpi(r)\n",
    "\n",
    "hmc.wr(0x000, 1)  # reset\n",
    "hmc.wr(0x000, 0)\n",
    "\n",
    "hmc.wr(0x054, 0)  # Disable SDATA driver (uni-direct. buffer)\n",
    "hmc.wr(0x001, (1 << 6) | (1 << 5)) # High performance dividers / PLL\n",
    "\n",
    "# VCO Selection\n",
    "# 0 Internal disabled/external\n",
    "# 1 High\n",
    "# 2 Low\n",
    "VCO_SELECT = 3\n",
    "hmc.wr(0x003, (0 << VCO_SELECT))\n",
    "\n",
    "# Enable output channel 12 and 13\n",
    "hmc.wr(0x004, (1 << (12 // 2)))\n",
    "\n",
    "# clkin1 as external VCO input\n",
    "hmc.wr(0x005, (1 << 5))\n",
    "\n",
    "# Magic numbers from datasheet Table 74\n",
    "hmc.wr(0x09F, 0x4D)\n",
    "hmc.wr(0x0A0, 0xDF)\n",
    "hmc.wr(0x0A5, 0x06)\n",
    "hmc.wr(0x0A8, 0x06)\n",
    "hmc.wr(0x0B0, 0x04)\n",
    "\n",
    "hmc.setupChannel(12, 10)"
   ]
  },
  {
   "cell_type": "code",
   "execution_count": 108,
   "metadata": {},
   "outputs": [],
   "source": [
    "hmc.wr(0x000, 1)  # reset\n",
    "hmc.wr(0x000, 0)"
   ]
  },
  {
   "cell_type": "code",
   "execution_count": null,
   "metadata": {},
   "outputs": [],
   "source": [
    "r.close()"
   ]
  }
 ],
 "metadata": {
  "kernelspec": {
   "display_name": "Python 3",
   "language": "python",
   "name": "python3"
  },
  "language_info": {
   "codemirror_mode": {
    "name": "ipython",
    "version": 3
   },
   "file_extension": ".py",
   "mimetype": "text/x-python",
   "name": "python",
   "nbconvert_exporter": "python",
   "pygments_lexer": "ipython3",
   "version": "3.5.3"
  }
 },
 "nbformat": 4,
 "nbformat_minor": 2
}
