{
 "cells": [
  {
   "cell_type": "code",
   "execution_count": 1,
   "metadata": {},
   "outputs": [
    {
     "name": "stdout",
     "output_type": "stream",
     "text": [
      "Populating the interactive namespace from numpy and matplotlib\n"
     ]
    }
   ],
   "source": [
    "%pylab notebook\n",
    "from spi_helper import *\n",
    "sys.path.append(\"../..\")\n",
    "from common import *"
   ]
  },
  {
   "cell_type": "markdown",
   "metadata": {},
   "source": [
    "# Connec to Zedboard PL"
   ]
  },
  {
   "cell_type": "code",
   "execution_count": 2,
   "metadata": {
    "scrolled": true
   },
   "outputs": [
    {
     "name": "stdout",
     "output_type": "stream",
     "text": [
      "Connected to Port 1234\n",
      "HMC7044 spi bvridge 2019-09-09 18:01:17\n"
     ]
    }
   ],
   "source": [
    "r = conLitexServer('../build/csr.csv')"
   ]
  },
  {
   "cell_type": "markdown",
   "metadata": {},
   "source": [
    "# Setup AD9174"
   ]
  },
  {
   "cell_type": "code",
   "execution_count": 3,
   "metadata": {},
   "outputs": [
    {
     "name": "stdout",
     "output_type": "stream",
     "text": [
      "0x74\n",
      "0x91\n"
     ]
    }
   ],
   "source": [
    "ad = AdSpi(r)\n",
    "ad.wr(0x000, 0x81)  # Soft reset\n",
    "ad.wr(0x000, 0x3C)  # 4 - wire SPI mode + ADDRINC\n",
    "ad.wr(0x705, 0x01)  # Enable boot loader\n",
    "ad.wr(0x090, 0x00)  # Power on DACs and bias supply\n",
    "# Print product ID\n",
    "print(hex(ad.rr(0x004)))\n",
    "print(hex(ad.rr(0x005)))"
   ]
  },
  {
   "cell_type": "markdown",
   "metadata": {},
   "source": [
    "# Setup HMC7044\n",
    "  * External VCO input\n",
    "  * clkout12 = f_vco / 10 = 128 MHz"
   ]
  },
  {
   "cell_type": "code",
   "execution_count": 5,
   "metadata": {},
   "outputs": [],
   "source": [
    "hmc = HmcSpi(r)\n",
    "\n",
    "hmc.wr(0x000, 1)  # reset\n",
    "hmc.wr(0x000, 0)\n",
    "\n",
    "hmc.wr(0x054, 0)  # Disable SDATA driver (uni-direct. buffer)\n",
    "hmc.wr(0x001, (1 << 6) | (1 << 5)) # High performance dividers / PLL\n",
    "\n",
    "# VCO Selection\n",
    "# 0 Internal disabled/external\n",
    "# 1 High\n",
    "# 2 Low\n",
    "VCO_SELECT = 3\n",
    "hmc.wr(0x003, (0 << VCO_SELECT))\n",
    "\n",
    "# Enable output channel 12 and 13\n",
    "hmc.wr(0x004, (1 << (12 // 2)))\n",
    "\n",
    "# clkin1 as external VCO input\n",
    "hmc.wr(0x005, (1 << 5))\n",
    "\n",
    "# Magic numbers from datasheet Table 74\n",
    "hmc.wr(0x09F, 0x4D)\n",
    "hmc.wr(0x0A0, 0xDF)\n",
    "hmc.wr(0x0A5, 0x06)\n",
    "hmc.wr(0x0A8, 0x06)\n",
    "hmc.wr(0x0B0, 0x04)\n",
    "\n",
    "hmc.setupChannel(12, 10)"
   ]
  },
  {
   "cell_type": "code",
   "execution_count": 6,
   "metadata": {},
   "outputs": [],
   "source": [
    "r.close()"
   ]
  },
  {
   "cell_type": "code",
   "execution_count": null,
   "metadata": {},
   "outputs": [],
   "source": []
  }
 ],
 "metadata": {
  "kernelspec": {
   "display_name": "Python 3",
   "language": "python",
   "name": "python3"
  },
  "language_info": {
   "codemirror_mode": {
    "name": "ipython",
    "version": 3
   },
   "file_extension": ".py",
   "mimetype": "text/x-python",
   "name": "python",
   "nbconvert_exporter": "python",
   "pygments_lexer": "ipython3",
   "version": "3.6.6"
  }
 },
 "nbformat": 4,
 "nbformat_minor": 2
}
