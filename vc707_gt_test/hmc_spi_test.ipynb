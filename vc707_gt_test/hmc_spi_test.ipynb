{
 "cells": [
  {
   "cell_type": "markdown",
   "metadata": {},
   "source": [
    "Start this first\n",
    "```bash\n",
    "$ litex_server --uart --uart-port /dev/ttyUSB0 --uart-baudrate 1152000\n",
    "```"
   ]
  },
  {
   "cell_type": "code",
   "execution_count": 4,
   "metadata": {},
   "outputs": [
    {
     "name": "stdout",
     "output_type": "stream",
     "text": [
      "Populating the interactive namespace from numpy and matplotlib\n"
     ]
    }
   ],
   "source": [
    "%pylab notebook\n",
    "# from struct import pack, unpack\n",
    "# import time\n",
    "# from scipy.signal import *\n",
    "# import sys\n",
    "sys.path.append(\"..\")\n",
    "from common import *"
   ]
  },
  {
   "cell_type": "code",
   "execution_count": 89,
   "metadata": {},
   "outputs": [],
   "source": [
    "class HMC_SPI:\n",
    "    # config bit offsets\n",
    "    OFFLINE = 0      # all pins high-z (reset=1)\n",
    "    CS_POLARITY = 3  # active level of chip select (reset=0)\n",
    "    CLK_POLARITY = 4 # idle level of clk (reset=0)\n",
    "    CLK_PHASE = 5    # first edge after cs assertion to sample data on (reset=0)\n",
    "    LSB_FIRST = 6    # LSB is the first bit on the wire (reset=0)\n",
    "    HALF_DUPLEX = 7  # 3-wire SPI, in/out on mosi (reset=0)\n",
    "    DIV_READ = 16    # SPI read clk divider (reset=0)\n",
    "    DIV_WRITE = 24   # f_clk / f_spi_write == div_write + 2\n",
    "    # xfer bit offsets\n",
    "    CS_MASK = 0      # Active high bit mask of chip selects to assert (reset=0)\n",
    "    WRITE_LENGTH = 16  # How many bits to write and ...\n",
    "    READ_LENGTH = 24  # when to switch over in half duplex mode\n",
    "\n",
    "    def __init__(self, r):\n",
    "        self.r = r\n",
    "        self.cs_mask = 0x0002\n",
    "        \n",
    "        r.regs.spi_config.write(\n",
    "            (1 << HMC_SPI.HALF_DUPLEX) |\n",
    "            (0xFF << HMC_SPI.DIV_WRITE) |\n",
    "            (0xFF << HMC_SPI.DIV_READ)\n",
    "        )\n",
    "\n",
    "    def set_reg(self, adr, val):\n",
    "        # 16 bit write + 8 bit write transfer (3 wire SPI)\n",
    "        r.regs.spi_xfer.write(\n",
    "            (self.cs_mask << HMC_SPI.CS_MASK) |\n",
    "            (16 + 8 << HMC_SPI.WRITE_LENGTH) |\n",
    "            (0 << HMC_SPI.READ_LENGTH)\n",
    "        )\n",
    "        # R/W + W1 + W0 + A[13] + D[8]\n",
    "        word = (0 << 23) | ((adr & 0x1FFF) << 8) | (val & 0xFF)\n",
    "        # Send 24 bit / 32 bit starting from MSB\n",
    "        word <<= 8\n",
    "        self.r.regs.spi_mosi_data.write(word)\n",
    "        self.r.regs.spi_start.write(1)\n",
    "\n",
    "    def get_reg(self, adr):\n",
    "        # 16 bit write + 8 bit read transfer (3 wire SPI)\n",
    "        r.regs.spi_xfer.write(\n",
    "            (self.cs_mask << HMC_SPI.CS_MASK) |\n",
    "            (16 << HMC_SPI.WRITE_LENGTH) |\n",
    "            (8 << HMC_SPI.READ_LENGTH)\n",
    "        )\n",
    "        word = (1 << 23) | ((adr & 0x1FFF) << 8)\n",
    "        # Send 24 bit / 32 bit starting from MSB\n",
    "        word <<= 8\n",
    "        self.r.regs.spi_mosi_data.write(word)\n",
    "        self.r.regs.spi_start.write(1)\n",
    "        return self.r.regs.spi_miso_data.read() & 0xFF"
   ]
  },
  {
   "cell_type": "markdown",
   "metadata": {},
   "source": [
    "# Connec to Zedboard PL"
   ]
  },
  {
   "cell_type": "code",
   "execution_count": 8,
   "metadata": {
    "scrolled": true
   },
   "outputs": [
    {
     "name": "stdout",
     "output_type": "stream",
     "text": [
      "Connected to Port 1234\n",
      "HMC7044 spi bvridge 2019-09-06 17:06:35\n"
     ]
    }
   ],
   "source": [
    "r = conLitexServer()"
   ]
  },
  {
   "cell_type": "code",
   "execution_count": 57,
   "metadata": {},
   "outputs": [
    {
     "data": {
      "text/plain": [
       "'0xdeadbeef'"
      ]
     },
     "execution_count": 57,
     "metadata": {},
     "output_type": "execute_result"
    }
   ],
   "source": [
    "hex(r.regs.ctrl_scratch.read())"
   ]
  },
  {
   "cell_type": "code",
   "execution_count": 11,
   "metadata": {},
   "outputs": [],
   "source": [
    "r.regs.ctrl_scratch.write(0xDEADBEEF)"
   ]
  },
  {
   "cell_type": "markdown",
   "metadata": {},
   "source": [
    "# Setup SPI"
   ]
  },
  {
   "cell_type": "code",
   "execution_count": 90,
   "metadata": {},
   "outputs": [],
   "source": [
    "s = HMC_SPI(r)"
   ]
  },
  {
   "cell_type": "code",
   "execution_count": 83,
   "metadata": {},
   "outputs": [],
   "source": [
    "s.set_reg(0, 1)"
   ]
  },
  {
   "cell_type": "code",
   "execution_count": 91,
   "metadata": {
    "scrolled": true
   },
   "outputs": [
    {
     "data": {
      "text/plain": [
       "255"
      ]
     },
     "execution_count": 91,
     "metadata": {},
     "output_type": "execute_result"
    }
   ],
   "source": [
    "s.get_reg(0x79)"
   ]
  },
  {
   "cell_type": "code",
   "execution_count": 47,
   "metadata": {},
   "outputs": [
    {
     "ename": "KeyboardInterrupt",
     "evalue": "",
     "output_type": "error",
     "traceback": [
      "\u001b[0;31m---------------------------------------------------------------------------\u001b[0m",
      "\u001b[0;31mKeyboardInterrupt\u001b[0m                         Traceback (most recent call last)",
      "\u001b[0;32m<ipython-input-47-c8f7701b248d>\u001b[0m in \u001b[0;36m<module>\u001b[0;34m\u001b[0m\n\u001b[1;32m      1\u001b[0m \u001b[0;32mwhile\u001b[0m \u001b[0;32mTrue\u001b[0m\u001b[0;34m:\u001b[0m\u001b[0;34m\u001b[0m\u001b[0m\n\u001b[1;32m      2\u001b[0m     \u001b[0ms\u001b[0m\u001b[0;34m.\u001b[0m\u001b[0mget_reg\u001b[0m\u001b[0;34m(\u001b[0m\u001b[0;36m0x78\u001b[0m\u001b[0;34m)\u001b[0m\u001b[0;34m\u001b[0m\u001b[0m\n\u001b[0;32m----> 3\u001b[0;31m     \u001b[0mtime\u001b[0m\u001b[0;34m.\u001b[0m\u001b[0msleep\u001b[0m\u001b[0;34m(\u001b[0m\u001b[0;36m1\u001b[0m\u001b[0;34m)\u001b[0m\u001b[0;34m\u001b[0m\u001b[0m\n\u001b[0m",
      "\u001b[0;31mKeyboardInterrupt\u001b[0m: "
     ]
    }
   ],
   "source": [
    "while True:\n",
    "    s.get_reg(0x78)\n",
    "    time.sleep(1)"
   ]
  },
  {
   "cell_type": "code",
   "execution_count": 92,
   "metadata": {},
   "outputs": [],
   "source": [
    "r.close()"
   ]
  },
  {
   "cell_type": "code",
   "execution_count": null,
   "metadata": {},
   "outputs": [],
   "source": []
  }
 ],
 "metadata": {
  "kernelspec": {
   "display_name": "Python 3",
   "language": "python",
   "name": "python3"
  },
  "language_info": {
   "codemirror_mode": {
    "name": "ipython",
    "version": 3
   },
   "file_extension": ".py",
   "mimetype": "text/x-python",
   "name": "python",
   "nbconvert_exporter": "python",
   "pygments_lexer": "ipython3",
   "version": "3.6.6"
  }
 },
 "nbformat": 4,
 "nbformat_minor": 2
}
