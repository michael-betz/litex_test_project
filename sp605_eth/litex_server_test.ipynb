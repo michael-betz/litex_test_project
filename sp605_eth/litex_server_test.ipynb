{
 "cells": [
  {
   "cell_type": "markdown",
   "metadata": {},
   "source": [
    "Start this first\n",
    "```bash\n",
    "$ litex_server uart /dev/ttyUSB0 1152000\n",
    "```"
   ]
  },
  {
   "cell_type": "code",
   "execution_count": 217,
   "metadata": {},
   "outputs": [
    {
     "name": "stdout",
     "output_type": "stream",
     "text": [
      "Populating the interactive namespace from numpy and matplotlib\n"
     ]
    }
   ],
   "source": [
    "%pylab notebook\n",
    "from litex.soc.tools.remote import RemoteClient\n",
    "from litescope.software.driver.analyzer import LiteScopeAnalyzerDriver\n",
    "from struct import pack, unpack\n",
    "import time\n",
    "from hexdump import hexdump\n",
    "from subprocess import run\n",
    "\n",
    "def getPacket(dump, name=\"__main___mac_rx_cdc_source\"):\n",
    "    \"\"\"\n",
    "        dump a binary stream from litexscope capture\n",
    "        rxn = name of data channel\n",
    "        vn = name of data valid channel\n",
    "        fn = name of output binary file\n",
    "    \"\"\"\n",
    "    rxs = dump[name + \"_payload_data\"][::2]\n",
    "    vs = dump[name + \"_valid\"][::2]\n",
    "    return bytes([rx for v, rx in zip(vs, rxs) if v])"
   ]
  },
  {
   "cell_type": "markdown",
   "metadata": {},
   "source": [
    "# Connect to hardware"
   ]
  },
  {
   "cell_type": "code",
   "execution_count": 218,
   "metadata": {},
   "outputs": [
    {
     "name": "stdout",
     "output_type": "stream",
     "text": [
      "Connected to Port 1234\n"
     ]
    },
    {
     "data": {
      "text/plain": [
       "'SP605 eth demo 2019-04-10 15:56:03'"
      ]
     },
     "execution_count": 218,
     "metadata": {},
     "output_type": "execute_result"
    }
   ],
   "source": [
    "for i in range(32):\n",
    "    try:\n",
    "        r = RemoteClient(csr_csv=\"build/csr.csv\", debug=False, port=1234 + i)\n",
    "        r.open()\n",
    "        print(\"Connected to Port\", 1234 + i)\n",
    "        break\n",
    "    except ConnectionRefusedError:\n",
    "        pass\n",
    "\"\".join([chr(r.read(r.bases.identifier_mem + i * 4) & 0xFF) for i in range(64)]).strip(\"\\x00\")"
   ]
  },
  {
   "cell_type": "markdown",
   "metadata": {},
   "source": [
    "# Debug clocks"
   ]
  },
  {
   "cell_type": "code",
   "execution_count": 222,
   "metadata": {},
   "outputs": [
    {
     "data": {
      "text/plain": [
       "125005216"
      ]
     },
     "execution_count": 222,
     "metadata": {},
     "output_type": "execute_result"
    }
   ],
   "source": [
    "r.regs.f_tx_value.read()"
   ]
  },
  {
   "cell_type": "markdown",
   "metadata": {},
   "source": [
    "# Setup litescope"
   ]
  },
  {
   "cell_type": "code",
   "execution_count": 223,
   "metadata": {},
   "outputs": [],
   "source": [
    "analyzer = LiteScopeAnalyzerDriver(r.regs, \"analyzer\", config_csv=\"build/analyzer.csv\", debug=True)\n",
    "analyzer.configure_subsampler(1)\n",
    "# Trigger on transmitting a packet\n",
    "analyzer.add_rising_edge_trigger(\"mac_tx_cdc_sink_valid\")"
   ]
  },
  {
   "cell_type": "code",
   "execution_count": 224,
   "metadata": {
    "scrolled": true
   },
   "outputs": [
    {
     "name": "stdout",
     "output_type": "stream",
     "text": [
      "[running]...\n",
      "[uploading]...\n",
      "|====================>| 100%\n",
      "[writing to dump.vcd]...\n",
      "[writing to dump.py]...\n"
     ]
    }
   ],
   "source": [
    "analyzer.run(offset=128, length=256)\n",
    "analyzer.wait_done()\n",
    "dump = analyzer.upload()\n",
    "analyzer.save(\"dump.vcd\")\n",
    "analyzer.save(\"dump.py\")"
   ]
  },
  {
   "cell_type": "markdown",
   "metadata": {},
   "source": [
    "Run this to trigger it\n",
    "```bash\n",
    "$ ping 192.168.1.50\n",
    "```"
   ]
  },
  {
   "cell_type": "code",
   "execution_count": null,
   "metadata": {},
   "outputs": [],
   "source": [
    "!gtkwave dump.vcd"
   ]
  },
  {
   "cell_type": "markdown",
   "metadata": {},
   "source": [
    "# Extract packet data as seen by the FPGA"
   ]
  },
  {
   "cell_type": "code",
   "execution_count": 213,
   "metadata": {},
   "outputs": [
    {
     "name": "stdout",
     "output_type": "stream",
     "text": [
      "00000000: FF FF FF FF FF FF 34 17  EB BA 05 DE 08 06 00 01  ......4.........\n",
      "00000010: 08 00 06 04 00 01 34 17  EB BA 05 DE C0 A8 01 2A  ......4........*\n",
      "00000020: 00 00 00 00 00 00 C0 A8  01 32 00 00 00 00 00 00  .........2......\n",
      "00000030: 00 00 00 00 00 00 00 00  00 00 00 00 00 00        ..............\n",
      "00000000: 34 17 EB BA 05 DE 10 E2  D5 00 10 00 08 06 00 01  4...............\n",
      "00000010: 08 00 06 04 00 02 10 E2  D5 00 10 00 C0 A8 01 32  ...............2\n",
      "00000020: 34 17 EB BA 05 DE C0 A8  01 2A 00 00 00 00 00 00  4........*......\n",
      "00000030: 00 00 00 00 00 00 00 00  00 00 00 00              ............Input from: dump.hex\n",
      "Output to: dump.pcap\n",
      "Output format: pcap\n",
      "Wrote packet of 62 bytes.\n",
      "Wrote packet of 60 bytes.\n",
      "Read 2 potential packets, wrote 2 packets (178 bytes).\n"
     ]
    }
   ],
   "source": [
    "from dump import dump\n",
    "with open(\"dump.hex\", \"w\") as f:\n",
    "    f.write(hexdump(getPacket(dump, \"mac_rx_cdc_source\"), \"return\"))\n",
    "    f.write(\"\\n\")\n",
    "    f.write(hexdump(getPacket(dump, \"mac_tx_cdc_sink\"), \"return\"))\n",
    "!cat dump.hex\n",
    "!text2pcap dump.hex dump.pcap\n",
    "!rm -rf dump.hex"
   ]
  },
  {
   "cell_type": "code",
   "execution_count": 214,
   "metadata": {},
   "outputs": [],
   "source": [
    "!wireshark dump.pcap"
   ]
  },
  {
   "cell_type": "code",
   "execution_count": null,
   "metadata": {},
   "outputs": [],
   "source": [
    "r.close()"
   ]
  }
 ],
 "metadata": {
  "kernelspec": {
   "display_name": "Python 3",
   "language": "python",
   "name": "python3"
  },
  "language_info": {
   "codemirror_mode": {
    "name": "ipython",
    "version": 3
   },
   "file_extension": ".py",
   "mimetype": "text/x-python",
   "name": "python",
   "nbconvert_exporter": "python",
   "pygments_lexer": "ipython3",
   "version": "3.6.6"
  }
 },
 "nbformat": 4,
 "nbformat_minor": 2
}
