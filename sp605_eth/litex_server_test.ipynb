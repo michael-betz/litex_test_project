{
 "cells": [
  {
   "cell_type": "markdown",
   "metadata": {},
   "source": [
    "Start this first\n",
    "```bash\n",
    "$ litex_server uart /dev/ttyUSB0 1152000\n",
    "```"
   ]
  },
  {
   "cell_type": "code",
   "execution_count": 1,
   "metadata": {},
   "outputs": [
    {
     "name": "stdout",
     "output_type": "stream",
     "text": [
      "Populating the interactive namespace from numpy and matplotlib\n"
     ]
    }
   ],
   "source": [
    "%pylab notebook\n",
    "from litex.soc.tools.remote import RemoteClient\n",
    "from struct import pack, unpack\n",
    "import time"
   ]
  },
  {
   "cell_type": "code",
   "execution_count": 23,
   "metadata": {},
   "outputs": [
    {
     "name": "stdout",
     "output_type": "stream",
     "text": [
      "Connected to Port 1234\n"
     ]
    },
    {
     "data": {
      "text/plain": [
       "'SP605 eth demo 2019-04-08 19:14:13'"
      ]
     },
     "execution_count": 23,
     "metadata": {},
     "output_type": "execute_result"
    }
   ],
   "source": [
    "for i in range(32):\n",
    "    try:\n",
    "        r = RemoteClient(csr_csv=\"build/csr.csv\", debug=False, port=1234 + i)\n",
    "        r.open()\n",
    "        print(\"Connected to Port\", 1234 + i)\n",
    "        break\n",
    "    except ConnectionRefusedError:\n",
    "        pass\n",
    "\n",
    "def getId():\n",
    "    s = \"\"\n",
    "    for i in range(64):\n",
    "        temp = r.read(r.bases.identifier_mem + i * 4)\n",
    "        if temp == 0:\n",
    "            break\n",
    "        s += chr(temp & 0xFF)\n",
    "    return s\n",
    "getId()"
   ]
  },
  {
   "cell_type": "code",
   "execution_count": 24,
   "metadata": {},
   "outputs": [
    {
     "data": {
      "text/plain": [
       "0"
      ]
     },
     "execution_count": 24,
     "metadata": {},
     "output_type": "execute_result"
    }
   ],
   "source": [
    "r.regs.ethphy_mode_detection_mode.read()"
   ]
  },
  {
   "cell_type": "code",
   "execution_count": 6,
   "metadata": {},
   "outputs": [],
   "source": [
    "r.regs.ethphy_crg_reset.write(0)"
   ]
  },
  {
   "cell_type": "code",
   "execution_count": 19,
   "metadata": {
    "scrolled": true
   },
   "outputs": [
    {
     "data": {
      "text/plain": [
       "1"
      ]
     },
     "execution_count": 19,
     "metadata": {},
     "output_type": "execute_result"
    }
   ],
   "source": [
    "r.regs.ethphy_mdio_r.read()"
   ]
  },
  {
   "cell_type": "code",
   "execution_count": 18,
   "metadata": {},
   "outputs": [],
   "source": [
    "r.regs.ethphy_mdio_w.write(0)"
   ]
  },
  {
   "cell_type": "code",
   "execution_count": 25,
   "metadata": {},
   "outputs": [],
   "source": [
    "from litescope.software.driver.analyzer import LiteScopeAnalyzerDriver\n",
    "wb = r"
   ]
  },
  {
   "cell_type": "code",
   "execution_count": 27,
   "metadata": {},
   "outputs": [],
   "source": [
    "analyzer = LiteScopeAnalyzerDriver(wb.regs, \"analyzer\", config_csv=\"build/analyzer.csv\", debug=True)"
   ]
  },
  {
   "cell_type": "code",
   "execution_count": 45,
   "metadata": {},
   "outputs": [
    {
     "name": "stdout",
     "output_type": "stream",
     "text": [
      "[running]...\n"
     ]
    }
   ],
   "source": [
    "analyzer.configure_subsampler(1)\n",
    "analyzer.add_rising_edge_trigger(\"icmp_echo_sink_sink_ready\")\n",
    "analyzer.run(offset=128, length=256)\n",
    "analyzer.wait_done()"
   ]
  },
  {
   "cell_type": "code",
   "execution_count": 48,
   "metadata": {},
   "outputs": [
    {
     "name": "stdout",
     "output_type": "stream",
     "text": [
      "[uploading]...\n",
      "|====================>| 100%\n",
      "[writing to dump.vcd]...\n"
     ]
    }
   ],
   "source": [
    "analyzer.upload()\n",
    "analyzer.save(\"dump.vcd\")"
   ]
  },
  {
   "cell_type": "code",
   "execution_count": null,
   "metadata": {},
   "outputs": [],
   "source": [
    "r.close()"
   ]
  }
 ],
 "metadata": {
  "kernelspec": {
   "display_name": "Python 3",
   "language": "python",
   "name": "python3"
  },
  "language_info": {
   "codemirror_mode": {
    "name": "ipython",
    "version": 3
   },
   "file_extension": ".py",
   "mimetype": "text/x-python",
   "name": "python",
   "nbconvert_exporter": "python",
   "pygments_lexer": "ipython3",
   "version": "3.6.6"
  }
 },
 "nbformat": 4,
 "nbformat_minor": 2
}
